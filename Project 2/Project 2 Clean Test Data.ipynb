{
 "cells": [
  {
   "cell_type": "code",
   "execution_count": 1,
   "id": "1f0a68ec",
   "metadata": {},
   "outputs": [],
   "source": [
    "from matplotlib import pyplot as plt\n",
    "import numpy as np\n",
    "import pandas as pd\n",
    "from scipy import stats\n",
    "\n",
    "%config InlineBackend.figure_format = 'retina'\n",
    "%matplotlib inline\n",
    "plt.style.use('fast')"
   ]
  },
  {
   "cell_type": "code",
   "execution_count": 2,
   "id": "15745940",
   "metadata": {},
   "outputs": [],
   "source": [
    "#read test data\n",
    "test_data = pd.read_csv('./datasets/test.csv')"
   ]
  },
  {
   "cell_type": "code",
   "execution_count": 3,
   "id": "3cadbf8f",
   "metadata": {},
   "outputs": [
    {
     "name": "stdout",
     "output_type": "stream",
     "text": [
      "<class 'pandas.core.frame.DataFrame'>\n",
      "RangeIndex: 878 entries, 0 to 877\n",
      "Data columns (total 80 columns):\n",
      " #   Column           Non-Null Count  Dtype  \n",
      "---  ------           --------------  -----  \n",
      " 0   Id               878 non-null    int64  \n",
      " 1   PID              878 non-null    int64  \n",
      " 2   MS SubClass      878 non-null    int64  \n",
      " 3   MS Zoning        878 non-null    object \n",
      " 4   Lot Frontage     718 non-null    float64\n",
      " 5   Lot Area         878 non-null    int64  \n",
      " 6   Street           878 non-null    object \n",
      " 7   Alley            58 non-null     object \n",
      " 8   Lot Shape        878 non-null    object \n",
      " 9   Land Contour     878 non-null    object \n",
      " 10  Utilities        878 non-null    object \n",
      " 11  Lot Config       878 non-null    object \n",
      " 12  Land Slope       878 non-null    object \n",
      " 13  Neighborhood     878 non-null    object \n",
      " 14  Condition 1      878 non-null    object \n",
      " 15  Condition 2      878 non-null    object \n",
      " 16  Bldg Type        878 non-null    object \n",
      " 17  House Style      878 non-null    object \n",
      " 18  Overall Qual     878 non-null    int64  \n",
      " 19  Overall Cond     878 non-null    int64  \n",
      " 20  Year Built       878 non-null    int64  \n",
      " 21  Year Remod/Add   878 non-null    int64  \n",
      " 22  Roof Style       878 non-null    object \n",
      " 23  Roof Matl        878 non-null    object \n",
      " 24  Exterior 1st     878 non-null    object \n",
      " 25  Exterior 2nd     878 non-null    object \n",
      " 26  Mas Vnr Type     877 non-null    object \n",
      " 27  Mas Vnr Area     877 non-null    float64\n",
      " 28  Exter Qual       878 non-null    object \n",
      " 29  Exter Cond       878 non-null    object \n",
      " 30  Foundation       878 non-null    object \n",
      " 31  Bsmt Qual        853 non-null    object \n",
      " 32  Bsmt Cond        853 non-null    object \n",
      " 33  Bsmt Exposure    853 non-null    object \n",
      " 34  BsmtFin Type 1   853 non-null    object \n",
      " 35  BsmtFin SF 1     878 non-null    int64  \n",
      " 36  BsmtFin Type 2   853 non-null    object \n",
      " 37  BsmtFin SF 2     878 non-null    int64  \n",
      " 38  Bsmt Unf SF      878 non-null    int64  \n",
      " 39  Total Bsmt SF    878 non-null    int64  \n",
      " 40  Heating          878 non-null    object \n",
      " 41  Heating QC       878 non-null    object \n",
      " 42  Central Air      878 non-null    object \n",
      " 43  Electrical       877 non-null    object \n",
      " 44  1st Flr SF       878 non-null    int64  \n",
      " 45  2nd Flr SF       878 non-null    int64  \n",
      " 46  Low Qual Fin SF  878 non-null    int64  \n",
      " 47  Gr Liv Area      878 non-null    int64  \n",
      " 48  Bsmt Full Bath   878 non-null    int64  \n",
      " 49  Bsmt Half Bath   878 non-null    int64  \n",
      " 50  Full Bath        878 non-null    int64  \n",
      " 51  Half Bath        878 non-null    int64  \n",
      " 52  Bedroom AbvGr    878 non-null    int64  \n",
      " 53  Kitchen AbvGr    878 non-null    int64  \n",
      " 54  Kitchen Qual     878 non-null    object \n",
      " 55  TotRms AbvGrd    878 non-null    int64  \n",
      " 56  Functional       878 non-null    object \n",
      " 57  Fireplaces       878 non-null    int64  \n",
      " 58  Fireplace Qu     456 non-null    object \n",
      " 59  Garage Type      834 non-null    object \n",
      " 60  Garage Yr Blt    833 non-null    float64\n",
      " 61  Garage Finish    833 non-null    object \n",
      " 62  Garage Cars      878 non-null    int64  \n",
      " 63  Garage Area      878 non-null    int64  \n",
      " 64  Garage Qual      833 non-null    object \n",
      " 65  Garage Cond      833 non-null    object \n",
      " 66  Paved Drive      878 non-null    object \n",
      " 67  Wood Deck SF     878 non-null    int64  \n",
      " 68  Open Porch SF    878 non-null    int64  \n",
      " 69  Enclosed Porch   878 non-null    int64  \n",
      " 70  3Ssn Porch       878 non-null    int64  \n",
      " 71  Screen Porch     878 non-null    int64  \n",
      " 72  Pool Area        878 non-null    int64  \n",
      " 73  Pool QC          4 non-null      object \n",
      " 74  Fence            172 non-null    object \n",
      " 75  Misc Feature     41 non-null     object \n",
      " 76  Misc Val         878 non-null    int64  \n",
      " 77  Mo Sold          878 non-null    int64  \n",
      " 78  Yr Sold          878 non-null    int64  \n",
      " 79  Sale Type        878 non-null    object \n",
      "dtypes: float64(3), int64(35), object(42)\n",
      "memory usage: 548.9+ KB\n"
     ]
    }
   ],
   "source": [
    "test_data.info()"
   ]
  },
  {
   "cell_type": "markdown",
   "id": "c5a735c0",
   "metadata": {},
   "source": [
    "### Data Cleaning"
   ]
  },
  {
   "cell_type": "code",
   "execution_count": 4,
   "id": "f54a6784",
   "metadata": {},
   "outputs": [
    {
     "data": {
      "text/plain": [
       "Index(['id', 'pid', 'ms subclass', 'ms zoning', 'lot frontage', 'lot area',\n",
       "       'street', 'alley', 'lot shape', 'land contour', 'utilities',\n",
       "       'lot config', 'land slope', 'neighborhood', 'condition 1',\n",
       "       'condition 2', 'bldg type', 'house style', 'overall qual',\n",
       "       'overall cond', 'year built', 'year remod/add', 'roof style',\n",
       "       'roof matl', 'exterior 1st', 'exterior 2nd', 'mas vnr type',\n",
       "       'mas vnr area', 'exter qual', 'exter cond', 'foundation', 'bsmt qual',\n",
       "       'bsmt cond', 'bsmt exposure', 'bsmtfin type 1', 'bsmtfin sf 1',\n",
       "       'bsmtfin type 2', 'bsmtfin sf 2', 'bsmt unf sf', 'total bsmt sf',\n",
       "       'heating', 'heating qc', 'central air', 'electrical', '1st flr sf',\n",
       "       '2nd flr sf', 'low qual fin sf', 'gr liv area', 'bsmt full bath',\n",
       "       'bsmt half bath', 'full bath', 'half bath', 'bedroom abvgr',\n",
       "       'kitchen abvgr', 'kitchen qual', 'totrms abvgrd', 'functional',\n",
       "       'fireplaces', 'fireplace qu', 'garage type', 'garage yr blt',\n",
       "       'garage finish', 'garage cars', 'garage area', 'garage qual',\n",
       "       'garage cond', 'paved drive', 'wood deck sf', 'open porch sf',\n",
       "       'enclosed porch', '3ssn porch', 'screen porch', 'pool area', 'pool qc',\n",
       "       'fence', 'misc feature', 'misc val', 'mo sold', 'yr sold', 'sale type'],\n",
       "      dtype='object')"
      ]
     },
     "execution_count": 4,
     "metadata": {},
     "output_type": "execute_result"
    }
   ],
   "source": [
    "#lower caps for column headers\n",
    "test_data.columns = test_data.columns.str.lower()\n",
    "#columns of dataset\n",
    "test_data.columns[:]"
   ]
  },
  {
   "cell_type": "code",
   "execution_count": 5,
   "id": "40e64ab1",
   "metadata": {},
   "outputs": [
    {
     "data": {
      "text/plain": [
       "(878, 80)"
      ]
     },
     "execution_count": 5,
     "metadata": {},
     "output_type": "execute_result"
    }
   ],
   "source": [
    "test_data.shape"
   ]
  },
  {
   "cell_type": "code",
   "execution_count": 6,
   "id": "794fc182",
   "metadata": {},
   "outputs": [],
   "source": [
    "#convert 1 null value for total bsmt sf from NaN to 0 --> assume no basement since bsmt type is also null\n",
    "test_data['total bsmt sf v2'] = test_data['total bsmt sf'].fillna(0)\n",
    "\n",
    "#convert 1 null value for garage area to mean of all garage sizes --> property has a garage and the type is detached\n",
    "mean=test_data['garage area'].mean()\n",
    "test_data['garage area v2'] = test_data['garage area'].fillna(mean)"
   ]
  },
  {
   "cell_type": "code",
   "execution_count": 7,
   "id": "b37f4bf0",
   "metadata": {},
   "outputs": [],
   "source": [
    "#to map all conditions related to proximity to transportation routes as '1'. \n",
    "#these are assumed to have negative impact on the price due to the noise\n",
    "def transport_routes(x):\n",
    "     if 'Artery' in x:\n",
    "        return 1\n",
    "     elif 'Feedr' in x:\n",
    "        return 1\n",
    "     elif 'RRAn' in x:\n",
    "        return 1\n",
    "     elif 'RRNn' in x:\n",
    "        return 1\n",
    "     elif 'RRAe' in x:\n",
    "        return 1\n",
    "     elif 'RRNe' in x:\n",
    "        return 1\n",
    "     else:\n",
    "        return 0\n",
    "\n",
    "test_data['transport1'] = test_data['condition 1'].map(transport_routes)"
   ]
  },
  {
   "cell_type": "code",
   "execution_count": 8,
   "id": "867e236c",
   "metadata": {},
   "outputs": [],
   "source": [
    "#create variable: age of property upon sale\n",
    "test_data['property_age'] = test_data['yr sold']-test_data['year built']"
   ]
  },
  {
   "cell_type": "code",
   "execution_count": 9,
   "id": "03a6abca",
   "metadata": {},
   "outputs": [],
   "source": [
    "#heating and fireplace quality of the house may be important predictor of property price as it is essential for the cold weather\n",
    "#to create a new variable heat_quality to combine both features of 'heating qc' and 'fireplace qu'\n",
    "\n",
    "#to rank 'fireplace qu' and 'heating qc'\n",
    "test_data['fireplace qu v2'] = test_data['fireplace qu'].fillna('No')\n",
    "test_data['fireplace_qu_scale'] = test_data['fireplace qu v2'].map({'Ex':5, 'Gd':4, 'TA':3, 'Fa':2, 'Po':1, 'No':0})\n",
    "test_data['heating_qc_scale'] = test_data['heating qc'].map({'Ex':5, 'Gd':4, 'TA':3, 'Fa':2, 'Po':1})\n",
    "\n",
    "#new variable 'heat_quality' with min score of 1 and max score of 10.\n",
    "test_data['heat_quality'] = test_data['fireplace_qu_scale'] + test_data['heating_qc_scale']"
   ]
  },
  {
   "cell_type": "code",
   "execution_count": 10,
   "id": "052afd12",
   "metadata": {},
   "outputs": [],
   "source": [
    "#to map for 'central air': \"Y\" = 1; \"N\" = 0\n",
    "test_data['central_air_scale'] = test_data['central air'].map({'Y':1, 'N':0})"
   ]
  },
  {
   "cell_type": "code",
   "execution_count": 11,
   "id": "d405fc26",
   "metadata": {},
   "outputs": [],
   "source": [
    "#one-hot encoding to create dummies for nominal variables: 'ms zoning', 'central_air_scale', 'transport1'.\n",
    "test_data = pd.get_dummies(test_data, columns=['ms zoning','central_air_scale','transport1', 'neighborhood'])"
   ]
  },
  {
   "cell_type": "code",
   "execution_count": 12,
   "id": "4e8e2d46",
   "metadata": {},
   "outputs": [
    {
     "data": {
      "text/plain": [
       "Index(['id', 'pid', 'ms subclass', 'lot frontage', 'lot area', 'street',\n",
       "       'alley', 'lot shape', 'land contour', 'utilities',\n",
       "       ...\n",
       "       'neighborhood_NoRidge', 'neighborhood_NridgHt', 'neighborhood_OldTown',\n",
       "       'neighborhood_SWISU', 'neighborhood_Sawyer', 'neighborhood_SawyerW',\n",
       "       'neighborhood_Somerst', 'neighborhood_StoneBr', 'neighborhood_Timber',\n",
       "       'neighborhood_Veenker'],\n",
       "      dtype='object', length=121)"
      ]
     },
     "execution_count": 12,
     "metadata": {},
     "output_type": "execute_result"
    }
   ],
   "source": [
    "test_data.columns[:]"
   ]
  },
  {
   "cell_type": "code",
   "execution_count": 13,
   "id": "0864561d",
   "metadata": {},
   "outputs": [],
   "source": [
    "#save csv file\n",
    "test_data.to_csv('./datasets/test_cleaned.csv')"
   ]
  },
  {
   "cell_type": "code",
   "execution_count": null,
   "id": "2719015b",
   "metadata": {},
   "outputs": [],
   "source": []
  },
  {
   "cell_type": "code",
   "execution_count": null,
   "id": "cd3aebf5",
   "metadata": {},
   "outputs": [],
   "source": []
  },
  {
   "cell_type": "code",
   "execution_count": null,
   "id": "fd36b471",
   "metadata": {},
   "outputs": [],
   "source": []
  },
  {
   "cell_type": "code",
   "execution_count": null,
   "id": "52941d02",
   "metadata": {},
   "outputs": [],
   "source": []
  }
 ],
 "metadata": {
  "kernelspec": {
   "display_name": "Python 3 (ipykernel)",
   "language": "python",
   "name": "python3"
  },
  "language_info": {
   "codemirror_mode": {
    "name": "ipython",
    "version": 3
   },
   "file_extension": ".py",
   "mimetype": "text/x-python",
   "name": "python",
   "nbconvert_exporter": "python",
   "pygments_lexer": "ipython3",
   "version": "3.9.12"
  }
 },
 "nbformat": 4,
 "nbformat_minor": 5
}
