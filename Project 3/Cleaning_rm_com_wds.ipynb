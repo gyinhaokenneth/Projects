{
 "cells": [
  {
   "cell_type": "markdown",
   "metadata": {},
   "source": [
    "# Problem Statement \n",
    "The pet training centre has been experiencing high call and visit volumes by pet owners who seek advice from staff when they need help in handling their pets (cats and dogs in particular) as the current chatbot was not giving relevant information to the customers. Such behaviour results in a waste of manpower resources as the staff had to spend a huge part of their time speaking with pet owners at the centre or over the phone. If the chatbot was able to classify the enquiries accurately and provide relevant information, the bulk of the enquiries could be handled automatically.\n",
    "\n",
    "As a data analyst at the training centre, I was tasked to improve the existing classifier model used by the chatbot, or design a new model with increased accuracy."
   ]
  },
  {
   "cell_type": "markdown",
   "metadata": {},
   "source": [
    "## Data Cleaning and Processing"
   ]
  },
  {
   "cell_type": "code",
   "execution_count": 93,
   "metadata": {},
   "outputs": [],
   "source": [
    "# import packages\n",
    "import pandas as pd\n",
    "import string\n",
    "import numpy as np\n",
    "import re\n",
    "import nltk\n",
    "import seaborn as sns\n",
    "import matplotlib.pyplot as plt\n",
    "\n",
    "from sklearn.feature_extraction.text import CountVectorizer\n",
    "from sklearn.feature_extraction.text import TfidfVectorizer\n",
    "\n",
    "# widen columns\n",
    "pd.options.display.max_colwidth = 400"
   ]
  },
  {
   "cell_type": "code",
   "execution_count": 94,
   "metadata": {},
   "outputs": [],
   "source": [
    "# read data\n",
    "cat_data = pd.read_csv('../data/cat_raw.csv')\n",
    "dog_data = pd.read_csv('../data/dog_raw.csv')"
   ]
  },
  {
   "cell_type": "code",
   "execution_count": 95,
   "metadata": {},
   "outputs": [
    {
     "data": {
      "text/plain": [
       "(5997, 78)"
      ]
     },
     "execution_count": 95,
     "metadata": {},
     "output_type": "execute_result"
    }
   ],
   "source": [
    "# to confirm number of rows of data\n",
    "cat_data.shape"
   ]
  },
  {
   "cell_type": "code",
   "execution_count": 96,
   "metadata": {},
   "outputs": [
    {
     "data": {
      "text/plain": [
       "(5999, 81)"
      ]
     },
     "execution_count": 96,
     "metadata": {},
     "output_type": "execute_result"
    }
   ],
   "source": [
    "# to confirm number of rows of data\n",
    "dog_data.shape"
   ]
  },
  {
   "cell_type": "code",
   "execution_count": 97,
   "metadata": {},
   "outputs": [
    {
     "data": {
      "text/plain": [
       "Unnamed: 0                2336\n",
       "all_awardings             2336\n",
       "allow_live_comments       2336\n",
       "author                    2336\n",
       "author_flair_css_class       0\n",
       "                          ... \n",
       "thumbnail_height             0\n",
       "thumbnail_width              0\n",
       "event_end                    0\n",
       "event_is_live                0\n",
       "event_start                  0\n",
       "Length: 78, dtype: int64"
      ]
     },
     "execution_count": 97,
     "metadata": {},
     "output_type": "execute_result"
    }
   ],
   "source": [
    "# to check no. of submissions with text removed by moderator. \n",
    "# cat_data has 2336 rows out of 5997 (39%) data with text removed.\n",
    "# this is a huge proportion of the data set. as such, we keep the submissions, but analyse the 'title' instead for datapoints without 'selftext'\n",
    "\n",
    "cat_data[cat_data['selftext']=='[removed]'].count()"
   ]
  },
  {
   "cell_type": "code",
   "execution_count": 98,
   "metadata": {},
   "outputs": [
    {
     "data": {
      "text/plain": [
       "False    5926\n",
       "True       71\n",
       "Name: selftext, dtype: int64"
      ]
     },
     "execution_count": 98,
     "metadata": {},
     "output_type": "execute_result"
    }
   ],
   "source": [
    "# to check for null entries\n",
    "# the 71 null entries out of 5997 (1.2%) for 'selftext' can be represented by contents from 'title'\n",
    "cat_data['selftext'].isnull().value_counts()"
   ]
  },
  {
   "cell_type": "code",
   "execution_count": 99,
   "metadata": {},
   "outputs": [
    {
     "data": {
      "text/plain": [
       "Unnamed: 0                       47\n",
       "all_awardings                    47\n",
       "allow_live_comments              47\n",
       "author                           47\n",
       "author_flair_css_class            0\n",
       "                                 ..\n",
       "media_metadata                    0\n",
       "author_flair_background_color     0\n",
       "author_flair_text_color           0\n",
       "author_cakeday                    0\n",
       "poll_data                         0\n",
       "Length: 81, dtype: int64"
      ]
     },
     "execution_count": 99,
     "metadata": {},
     "output_type": "execute_result"
    }
   ],
   "source": [
    "# to check no. of submissions with text removed by moderator. \n",
    "# dog_data only has 47 rows out of 5999 (0.8%) data with text removed.\n",
    "dog_data[dog_data['selftext']=='[removed]'].count()"
   ]
  },
  {
   "cell_type": "code",
   "execution_count": 100,
   "metadata": {},
   "outputs": [
    {
     "data": {
      "text/plain": [
       "False    3994\n",
       "True     2005\n",
       "Name: selftext, dtype: int64"
      ]
     },
     "execution_count": 100,
     "metadata": {},
     "output_type": "execute_result"
    }
   ],
   "source": [
    "# to check for null entries\n",
    "# the 2005 null entries out of 5999 (33.4%) for 'selftext' can be represented by contents from 'title'\n",
    "# many of these post are videos or images. we will look at the title content to explore the content further\n",
    "dog_data['selftext'].isnull().value_counts()"
   ]
  },
  {
   "cell_type": "markdown",
   "metadata": {},
   "source": [
    "Since the proportion of datapoints with text removed by moderator for both categories is very large, we will keep those for both cat and dog data sets to ensure data points were not lost. The title could be used to identify what were the topic(s) of the submissions. For the remaining submissions, we will combine the contents under 'title' and 'selftext'."
   ]
  },
  {
   "cell_type": "code",
   "execution_count": 101,
   "metadata": {},
   "outputs": [
    {
     "name": "stdout",
     "output_type": "stream",
     "text": [
      "<class 'pandas.core.frame.DataFrame'>\n",
      "RangeIndex: 5997 entries, 0 to 5996\n",
      "Data columns (total 2 columns):\n",
      " #   Column    Non-Null Count  Dtype \n",
      "---  ------    --------------  ----- \n",
      " 0   title     5997 non-null   object\n",
      " 1   selftext  5926 non-null   object\n",
      "dtypes: object(2)\n",
      "memory usage: 93.8+ KB\n"
     ]
    }
   ],
   "source": [
    "# check data type for title and selftexts\n",
    "cat_data[['title','selftext']].info()"
   ]
  },
  {
   "cell_type": "code",
   "execution_count": 102,
   "metadata": {},
   "outputs": [],
   "source": [
    "# drop rows based on repeated input for 'title' column and keep only the first occurence \n",
    "cat_data = cat_data.drop_duplicates(subset=['title'], keep='first')\n",
    "dog_data = dog_data.drop_duplicates(subset=['title'], keep='first')\n",
    "cat_data.reset_index(drop=True, inplace=True)\n",
    "dog_data.reset_index(drop=True, inplace=True)"
   ]
  },
  {
   "cell_type": "code",
   "execution_count": 103,
   "metadata": {},
   "outputs": [
    {
     "data": {
      "text/plain": [
       "(5932, 78)"
      ]
     },
     "execution_count": 103,
     "metadata": {},
     "output_type": "execute_result"
    }
   ],
   "source": [
    "# 65 rows of data removed\n",
    "cat_data.shape"
   ]
  },
  {
   "cell_type": "code",
   "execution_count": 104,
   "metadata": {},
   "outputs": [
    {
     "data": {
      "text/plain": [
       "(5895, 81)"
      ]
     },
     "execution_count": 104,
     "metadata": {},
     "output_type": "execute_result"
    }
   ],
   "source": [
    "# 104 rows of data removed\n",
    "dog_data.shape"
   ]
  },
  {
   "cell_type": "markdown",
   "metadata": {},
   "source": [
    "#### Combine \"title\" and \"selftext\" Contents"
   ]
  },
  {
   "cell_type": "code",
   "execution_count": 105,
   "metadata": {},
   "outputs": [],
   "source": [
    "# replace null values with \".\"\n",
    "cat_data['selftext'].fillna(value = '.', inplace = True)\n",
    "dog_data['selftext'].fillna(value = '.', inplace = True)"
   ]
  },
  {
   "cell_type": "code",
   "execution_count": 106,
   "metadata": {},
   "outputs": [
    {
     "name": "stderr",
     "output_type": "stream",
     "text": [
      "C:\\Users\\gyinh\\AppData\\Local\\Temp\\ipykernel_14660\\1871414572.py:6: SettingWithCopyWarning: \n",
      "A value is trying to be set on a copy of a slice from a DataFrame\n",
      "\n",
      "See the caveats in the documentation: https://pandas.pydata.org/pandas-docs/stable/user_guide/indexing.html#returning-a-view-versus-a-copy\n",
      "  cat_data[\"full_content_cat\"][key] = str(cat_data[\"title\"][key]) + \" | \" + str(cat_data[\"selftext\"][key])\n",
      "C:\\Users\\gyinh\\AppData\\Local\\Temp\\ipykernel_14660\\1871414572.py:8: SettingWithCopyWarning: \n",
      "A value is trying to be set on a copy of a slice from a DataFrame\n",
      "\n",
      "See the caveats in the documentation: https://pandas.pydata.org/pandas-docs/stable/user_guide/indexing.html#returning-a-view-versus-a-copy\n",
      "  cat_data[\"full_content_cat\"][key] = cat_data[\"title\"][key]\n"
     ]
    }
   ],
   "source": [
    "#cat data\n",
    "# combine both title and selftext columns with \"|\". if selftext content is [removed] or '.', return \"title\"\n",
    "cat_data[\"full_content_cat\"] = None\n",
    "for key, value in cat_data.iterrows():\n",
    "    if cat_data['selftext'][key] != '[removed]':\n",
    "        cat_data[\"full_content_cat\"][key] = str(cat_data[\"title\"][key]) + \" | \" + str(cat_data[\"selftext\"][key])\n",
    "    else:\n",
    "        cat_data[\"full_content_cat\"][key] = cat_data[\"title\"][key]"
   ]
  },
  {
   "cell_type": "code",
   "execution_count": 107,
   "metadata": {},
   "outputs": [
    {
     "name": "stderr",
     "output_type": "stream",
     "text": [
      "C:\\Users\\gyinh\\AppData\\Local\\Temp\\ipykernel_14660\\234375725.py:6: SettingWithCopyWarning: \n",
      "A value is trying to be set on a copy of a slice from a DataFrame\n",
      "\n",
      "See the caveats in the documentation: https://pandas.pydata.org/pandas-docs/stable/user_guide/indexing.html#returning-a-view-versus-a-copy\n",
      "  dog_data[\"full_content_dog\"][key] = str(dog_data[\"title\"][key]) + \" | \" + str(dog_data[\"selftext\"][key])\n",
      "C:\\Users\\gyinh\\AppData\\Local\\Temp\\ipykernel_14660\\234375725.py:8: SettingWithCopyWarning: \n",
      "A value is trying to be set on a copy of a slice from a DataFrame\n",
      "\n",
      "See the caveats in the documentation: https://pandas.pydata.org/pandas-docs/stable/user_guide/indexing.html#returning-a-view-versus-a-copy\n",
      "  dog_data[\"full_content_dog\"][key] = dog_data[\"title\"][key]\n"
     ]
    }
   ],
   "source": [
    "#dog data\n",
    "# combine both title and selftext columns with \"|\". if selftext content is [removed] or '.', return \"title\"\n",
    "dog_data[\"full_content_dog\"] = None\n",
    "for key, value in dog_data.iterrows():\n",
    "    if dog_data['selftext'][key] != '[removed]':\n",
    "        dog_data[\"full_content_dog\"][key] = str(dog_data[\"title\"][key]) + \" | \" + str(dog_data[\"selftext\"][key])\n",
    "    else:\n",
    "        dog_data[\"full_content_dog\"][key] = dog_data[\"title\"][key]"
   ]
  },
  {
   "cell_type": "code",
   "execution_count": 108,
   "metadata": {},
   "outputs": [
    {
     "data": {
      "text/plain": [
       "'Can you use Feliway before neutering?'"
      ]
     },
     "execution_count": 108,
     "metadata": {},
     "output_type": "execute_result"
    }
   ],
   "source": [
    "# to check if output is appearing as intended\n",
    "cat_data['full_content_cat'][633]"
   ]
  },
  {
   "cell_type": "code",
   "execution_count": 109,
   "metadata": {},
   "outputs": [],
   "source": [
    "# function to remove numbers from text\n",
    "def remove_numbers(text):\n",
    "    text_nonum = re.sub(r'[\\d+]', \"\", text)\n",
    "    return text_nonum\n",
    "\n",
    "# remove numbers from text for cat and dog data\n",
    "cat_data['full_content_cat'] = cat_data['full_content_cat'].apply(lambda x: remove_numbers(x))\n",
    "dog_data['full_content_dog'] = dog_data['full_content_dog'].apply(lambda x: remove_numbers(x))"
   ]
  },
  {
   "cell_type": "code",
   "execution_count": 110,
   "metadata": {},
   "outputs": [],
   "source": [
    "# function to remove URL\n",
    "def remove_url(text):\n",
    "    text_nourl = re.sub(r'http\\S+', \"\", text)\n",
    "    return text_nourl\n",
    "\n",
    "# remove url from text for cat and dog data\n",
    "cat_data['full_content_cat'] = cat_data['full_content_cat'].apply(lambda x: remove_url(x))\n",
    "dog_data['full_content_dog'] = dog_data['full_content_dog'].apply(lambda x: remove_url(x))"
   ]
  },
  {
   "cell_type": "code",
   "execution_count": 111,
   "metadata": {},
   "outputs": [
    {
     "data": {
      "text/plain": [
       "0       Urgent, need info asap | Can anybody identify what this could possibly be? When I first adopted my dog about - months ago (Staffordshire Terrier) we noticed that she had this little branch off on her paw pad and thought nothing of it because it looked like just a minor paw abnormality at first. We noticed today after being out and playing that it has started to look like this and we aren’t sur...\n",
       "1       Behavior problems with corgi | Hello all, I've been having serious behavioral problems with my M pembroke welsh corgi and he has been targeting my M Cairn terrier. We have had both dogs since they were - months old and though my corgi has always been \"grumpy\" he has never been aggressive with the cairn terrier. My cairn terrier is a very calm old man that is incontinent but never bothered any ...\n",
       "2                                                                                                                                                                                                                        From a video of my dog yawning, how old would you guess he is? We’ve gotten several different opinions over the years after we adopted him. I assume teeth are the best indication of age. | .\n",
       "3                                                                                                                                                                Pink eye? | We have a vet appointment Monday, that’s all we could get. We’re going to get some sterile eye wash that the vet recommended. Any other remedies? It doesn’t seem to be bothering him but I feel bad for my poor boy.  month old Schnorgi.\n",
       "4       Will these dogs get along? | Sorry, this might be kind of long.  I have  dogs, theyre big (about lbs) and they've gotten along really well. I've had my male dog for about  years and got him at  months old. He's very sweet and listens. I got my female dog about  years ago as a rescue. We're not sure how old she is but we're guessing about  years old.               Since we've had her shes gotte...\n",
       "                                                                                                                                                                                                             ...                                                                                                                                                                                                       \n",
       "5890    Dog has lost all her stomach and chest hair. | My  year old French Bulldog has lost all her hair since three months ago. I don’t know if it’s due to stress (we got a new puppy exactly three months ago, she had all her hair back then) or due to a possible medical illness due to age. I took her to the vet and all tests came out normal, I asked for an X-Ray to look out for tumors. Dr. who knows a...\n",
       "5891                                                                                                                                                                                                                                                                                                               My toy poodle’s fur has been thinning and falling out in one spot on her back, what should I do? | .\n",
       "5892    My dog wants to be let out every night, in the middle of the night (- am). | He’s around  years old and he’s wonderfully house trained, like never has an accident ever. This is a new (annoying) habit that has started within the past couple months. We always let him out before we go to bed (around  pm) and his last meal is usually around  pm. His water is typically empty towards the evening, so...\n",
       "5893    Dogs getting spayed… I have some questions. | Both my dogs are getting spayed on Wednesday (//). One dog is about  years old and the other is almost  years old. I’m nervous for the procedure, but I know that it is routine and better for them in the long term. I planned their spay to occur when I’ll be off from work for a week to be able to care for them. \\n\\n year old = black mouth cur \\n year...\n",
       "5894    Pup chews everything on walks | My  month old pup tries to chews everything on walks. Pinecones, branches, rocks, grass, etc. Any tips on how to improve it? I’ve googled a million things and they say one thing could be boredom. That’s the whole point of a walk? Get some physical activity? But he won’t even make it far on a walk and just lays down and chews grass :( I’ve tried doing food puzzle...\n",
       "Name: full_content_dog, Length: 5895, dtype: object"
      ]
     },
     "execution_count": 111,
     "metadata": {},
     "output_type": "execute_result"
    }
   ],
   "source": [
    "dog_data['full_content_dog']"
   ]
  },
  {
   "cell_type": "markdown",
   "metadata": {},
   "source": [
    "#### Remove Punctuations"
   ]
  },
  {
   "cell_type": "code",
   "execution_count": 112,
   "metadata": {},
   "outputs": [],
   "source": [
    "# function to keep the text and remove punctuations found in string.punctuation\n",
    "def remove_punct(text):\n",
    "    text_nopunct = \"\".join([char for char in text if char not in string.punctuation])\n",
    "    return text_nopunct\n",
    "\n",
    "# clean up for cat and dog datasets\n",
    "cat_data['full_content_cat'].map(str)\n",
    "cat_data['full_content_cat_punc'] = cat_data['full_content_cat'].apply(lambda x: remove_punct(x))\n",
    "\n",
    "dog_data['full_content_dog'].map(str)\n",
    "dog_data['full_content_dog_punc'] = dog_data['full_content_dog'].apply(lambda x: remove_punct(x))"
   ]
  },
  {
   "cell_type": "code",
   "execution_count": 113,
   "metadata": {},
   "outputs": [
    {
     "data": {
      "text/html": [
       "<div>\n",
       "<style scoped>\n",
       "    .dataframe tbody tr th:only-of-type {\n",
       "        vertical-align: middle;\n",
       "    }\n",
       "\n",
       "    .dataframe tbody tr th {\n",
       "        vertical-align: top;\n",
       "    }\n",
       "\n",
       "    .dataframe thead th {\n",
       "        text-align: right;\n",
       "    }\n",
       "</style>\n",
       "<table border=\"1\" class=\"dataframe\">\n",
       "  <thead>\n",
       "    <tr style=\"text-align: right;\">\n",
       "      <th></th>\n",
       "      <th>full_content_cat</th>\n",
       "      <th>full_content_cat_punc</th>\n",
       "    </tr>\n",
       "  </thead>\n",
       "  <tbody>\n",
       "    <tr>\n",
       "      <th>5927</th>\n",
       "      <td>Should I take in a cat? | Hello everyone, one of my brother's friend can't take care of another cat and wish to give it to someone who can. And I really want a cat but the question I have is : should I take the cat in even tho I still live with my parents and they have a garden and a backyard where the cat can wander around and stuff the thing is, I wait to have a contract where I work to take...</td>\n",
       "      <td>Should I take in a cat  Hello everyone one of my brothers friend cant take care of another cat and wish to give it to someone who can And I really want a cat but the question I have is  should I take the cat in even tho I still live with my parents and they have a garden and a backyard where the cat can wander around and stuff the thing is I wait to have a contract where I work to take a flat ...</td>\n",
       "    </tr>\n",
       "    <tr>\n",
       "      <th>5928</th>\n",
       "      <td>Got a new kitten, how can I help her get along with my dog?</td>\n",
       "      <td>Got a new kitten how can I help her get along with my dog</td>\n",
       "    </tr>\n",
       "    <tr>\n",
       "      <th>5929</th>\n",
       "      <td>Teenager Troubles</td>\n",
       "      <td>Teenager Troubles</td>\n",
       "    </tr>\n",
       "    <tr>\n",
       "      <th>5930</th>\n",
       "      <td>Food for sterilized cats | My kitten was recently sterilized, she is  months old. Is it worth transferring her to food for sterilized cats while she is still a kitten, or is it worth continuing to feed her with food for kittens? Now I'm feeding her \"blue buffalo healthy growth natural kitten food\"</td>\n",
       "      <td>Food for sterilized cats  My kitten was recently sterilized she is  months old Is it worth transferring her to food for sterilized cats while she is still a kitten or is it worth continuing to feed her with food for kittens Now Im feeding her blue buffalo healthy growth natural kitten food</td>\n",
       "    </tr>\n",
       "    <tr>\n",
       "      <th>5931</th>\n",
       "      <td>Cat acting out and anxious after getting new kitten. | So I got a new kitten about a month ago and introduced him to my cat ( year old so still young). I did the correct introduction by separating them, swapping scents, eating near eachother etc. and everything was going really well. They started playing all the time, licking eachother, and seemed to be best buds. Now suddenly my older cat is ...</td>\n",
       "      <td>Cat acting out and anxious after getting new kitten  So I got a new kitten about a month ago and introduced him to my cat  year old so still young I did the correct introduction by separating them swapping scents eating near eachother etc and everything was going really well They started playing all the time licking eachother and seemed to be best buds Now suddenly my older cat is hissing all ...</td>\n",
       "    </tr>\n",
       "  </tbody>\n",
       "</table>\n",
       "</div>"
      ],
      "text/plain": [
       "                                                                                                                                                                                                                                                                                                                                                                                                     full_content_cat  \\\n",
       "5927  Should I take in a cat? | Hello everyone, one of my brother's friend can't take care of another cat and wish to give it to someone who can. And I really want a cat but the question I have is : should I take the cat in even tho I still live with my parents and they have a garden and a backyard where the cat can wander around and stuff the thing is, I wait to have a contract where I work to take...   \n",
       "5928                                                                                                                                                                                                                                                                                                                                                      Got a new kitten, how can I help her get along with my dog?   \n",
       "5929                                                                                                                                                                                                                                                                                                                                                                                                Teenager Troubles   \n",
       "5930                                                                                                       Food for sterilized cats | My kitten was recently sterilized, she is  months old. Is it worth transferring her to food for sterilized cats while she is still a kitten, or is it worth continuing to feed her with food for kittens? Now I'm feeding her \"blue buffalo healthy growth natural kitten food\"   \n",
       "5931  Cat acting out and anxious after getting new kitten. | So I got a new kitten about a month ago and introduced him to my cat ( year old so still young). I did the correct introduction by separating them, swapping scents, eating near eachother etc. and everything was going really well. They started playing all the time, licking eachother, and seemed to be best buds. Now suddenly my older cat is ...   \n",
       "\n",
       "                                                                                                                                                                                                                                                                                                                                                                                                full_content_cat_punc  \n",
       "5927  Should I take in a cat  Hello everyone one of my brothers friend cant take care of another cat and wish to give it to someone who can And I really want a cat but the question I have is  should I take the cat in even tho I still live with my parents and they have a garden and a backyard where the cat can wander around and stuff the thing is I wait to have a contract where I work to take a flat ...  \n",
       "5928                                                                                                                                                                                                                                                                                                                                                        Got a new kitten how can I help her get along with my dog  \n",
       "5929                                                                                                                                                                                                                                                                                                                                                                                                Teenager Troubles  \n",
       "5930                                                                                                               Food for sterilized cats  My kitten was recently sterilized she is  months old Is it worth transferring her to food for sterilized cats while she is still a kitten or is it worth continuing to feed her with food for kittens Now Im feeding her blue buffalo healthy growth natural kitten food  \n",
       "5931  Cat acting out and anxious after getting new kitten  So I got a new kitten about a month ago and introduced him to my cat  year old so still young I did the correct introduction by separating them swapping scents eating near eachother etc and everything was going really well They started playing all the time licking eachother and seemed to be best buds Now suddenly my older cat is hissing all ...  "
      ]
     },
     "execution_count": 113,
     "metadata": {},
     "output_type": "execute_result"
    }
   ],
   "source": [
    "cat_data[['full_content_cat','full_content_cat_punc']].tail()"
   ]
  },
  {
   "cell_type": "code",
   "execution_count": 114,
   "metadata": {},
   "outputs": [
    {
     "data": {
      "text/html": [
       "<div>\n",
       "<style scoped>\n",
       "    .dataframe tbody tr th:only-of-type {\n",
       "        vertical-align: middle;\n",
       "    }\n",
       "\n",
       "    .dataframe tbody tr th {\n",
       "        vertical-align: top;\n",
       "    }\n",
       "\n",
       "    .dataframe thead th {\n",
       "        text-align: right;\n",
       "    }\n",
       "</style>\n",
       "<table border=\"1\" class=\"dataframe\">\n",
       "  <thead>\n",
       "    <tr style=\"text-align: right;\">\n",
       "      <th></th>\n",
       "      <th>full_content_dog</th>\n",
       "      <th>full_content_dog_punc</th>\n",
       "    </tr>\n",
       "  </thead>\n",
       "  <tbody>\n",
       "    <tr>\n",
       "      <th>5890</th>\n",
       "      <td>Dog has lost all her stomach and chest hair. | My  year old French Bulldog has lost all her hair since three months ago. I don’t know if it’s due to stress (we got a new puppy exactly three months ago, she had all her hair back then) or due to a possible medical illness due to age. I took her to the vet and all tests came out normal, I asked for an X-Ray to look out for tumors. Dr. who knows a...</td>\n",
       "      <td>Dog has lost all her stomach and chest hair  My  year old French Bulldog has lost all her hair since three months ago I don’t know if it’s due to stress we got a new puppy exactly three months ago she had all her hair back then or due to a possible medical illness due to age I took her to the vet and all tests came out normal I asked for an XRay to look out for tumors Dr who knows about ultras...</td>\n",
       "    </tr>\n",
       "    <tr>\n",
       "      <th>5891</th>\n",
       "      <td>My toy poodle’s fur has been thinning and falling out in one spot on her back, what should I do? | .</td>\n",
       "      <td>My toy poodle’s fur has been thinning and falling out in one spot on her back what should I do</td>\n",
       "    </tr>\n",
       "    <tr>\n",
       "      <th>5892</th>\n",
       "      <td>My dog wants to be let out every night, in the middle of the night (- am). | He’s around  years old and he’s wonderfully house trained, like never has an accident ever. This is a new (annoying) habit that has started within the past couple months. We always let him out before we go to bed (around  pm) and his last meal is usually around  pm. His water is typically empty towards the evening, so...</td>\n",
       "      <td>My dog wants to be let out every night in the middle of the night  am  He’s around  years old and he’s wonderfully house trained like never has an accident ever This is a new annoying habit that has started within the past couple months We always let him out before we go to bed around  pm and his last meal is usually around  pm His water is typically empty towards the evening so we just don’t ...</td>\n",
       "    </tr>\n",
       "    <tr>\n",
       "      <th>5893</th>\n",
       "      <td>Dogs getting spayed… I have some questions. | Both my dogs are getting spayed on Wednesday (//). One dog is about  years old and the other is almost  years old. I’m nervous for the procedure, but I know that it is routine and better for them in the long term. I planned their spay to occur when I’ll be off from work for a week to be able to care for them. \\n\\n year old = black mouth cur \\n year...</td>\n",
       "      <td>Dogs getting spayed… I have some questions  Both my dogs are getting spayed on Wednesday  One dog is about  years old and the other is almost  years old I’m nervous for the procedure but I know that it is routine and better for them in the long term I planned their spay to occur when I’ll be off from work for a week to be able to care for them \\n\\n year old  black mouth cur \\n year old  black ...</td>\n",
       "    </tr>\n",
       "    <tr>\n",
       "      <th>5894</th>\n",
       "      <td>Pup chews everything on walks | My  month old pup tries to chews everything on walks. Pinecones, branches, rocks, grass, etc. Any tips on how to improve it? I’ve googled a million things and they say one thing could be boredom. That’s the whole point of a walk? Get some physical activity? But he won’t even make it far on a walk and just lays down and chews grass :( I’ve tried doing food puzzle...</td>\n",
       "      <td>Pup chews everything on walks  My  month old pup tries to chews everything on walks Pinecones branches rocks grass etc Any tips on how to improve it I’ve googled a million things and they say one thing could be boredom That’s the whole point of a walk Get some physical activity But he won’t even make it far on a walk and just lays down and chews grass  I’ve tried doing food puzzles and play in...</td>\n",
       "    </tr>\n",
       "  </tbody>\n",
       "</table>\n",
       "</div>"
      ],
      "text/plain": [
       "                                                                                                                                                                                                                                                                                                                                                                                                     full_content_dog  \\\n",
       "5890  Dog has lost all her stomach and chest hair. | My  year old French Bulldog has lost all her hair since three months ago. I don’t know if it’s due to stress (we got a new puppy exactly three months ago, she had all her hair back then) or due to a possible medical illness due to age. I took her to the vet and all tests came out normal, I asked for an X-Ray to look out for tumors. Dr. who knows a...   \n",
       "5891                                                                                                                                                                                                                                                                                                             My toy poodle’s fur has been thinning and falling out in one spot on her back, what should I do? | .   \n",
       "5892  My dog wants to be let out every night, in the middle of the night (- am). | He’s around  years old and he’s wonderfully house trained, like never has an accident ever. This is a new (annoying) habit that has started within the past couple months. We always let him out before we go to bed (around  pm) and his last meal is usually around  pm. His water is typically empty towards the evening, so...   \n",
       "5893  Dogs getting spayed… I have some questions. | Both my dogs are getting spayed on Wednesday (//). One dog is about  years old and the other is almost  years old. I’m nervous for the procedure, but I know that it is routine and better for them in the long term. I planned their spay to occur when I’ll be off from work for a week to be able to care for them. \\n\\n year old = black mouth cur \\n year...   \n",
       "5894  Pup chews everything on walks | My  month old pup tries to chews everything on walks. Pinecones, branches, rocks, grass, etc. Any tips on how to improve it? I’ve googled a million things and they say one thing could be boredom. That’s the whole point of a walk? Get some physical activity? But he won’t even make it far on a walk and just lays down and chews grass :( I’ve tried doing food puzzle...   \n",
       "\n",
       "                                                                                                                                                                                                                                                                                                                                                                                                full_content_dog_punc  \n",
       "5890  Dog has lost all her stomach and chest hair  My  year old French Bulldog has lost all her hair since three months ago I don’t know if it’s due to stress we got a new puppy exactly three months ago she had all her hair back then or due to a possible medical illness due to age I took her to the vet and all tests came out normal I asked for an XRay to look out for tumors Dr who knows about ultras...  \n",
       "5891                                                                                                                                                                                                                                                                                                                 My toy poodle’s fur has been thinning and falling out in one spot on her back what should I do    \n",
       "5892  My dog wants to be let out every night in the middle of the night  am  He’s around  years old and he’s wonderfully house trained like never has an accident ever This is a new annoying habit that has started within the past couple months We always let him out before we go to bed around  pm and his last meal is usually around  pm His water is typically empty towards the evening so we just don’t ...  \n",
       "5893  Dogs getting spayed… I have some questions  Both my dogs are getting spayed on Wednesday  One dog is about  years old and the other is almost  years old I’m nervous for the procedure but I know that it is routine and better for them in the long term I planned their spay to occur when I’ll be off from work for a week to be able to care for them \\n\\n year old  black mouth cur \\n year old  black ...  \n",
       "5894  Pup chews everything on walks  My  month old pup tries to chews everything on walks Pinecones branches rocks grass etc Any tips on how to improve it I’ve googled a million things and they say one thing could be boredom That’s the whole point of a walk Get some physical activity But he won’t even make it far on a walk and just lays down and chews grass  I’ve tried doing food puzzles and play in...  "
      ]
     },
     "execution_count": 114,
     "metadata": {},
     "output_type": "execute_result"
    }
   ],
   "source": [
    "dog_data[['full_content_dog','full_content_dog_punc']].tail()"
   ]
  },
  {
   "cell_type": "markdown",
   "metadata": {},
   "source": [
    "#### Tokenisation"
   ]
  },
  {
   "cell_type": "code",
   "execution_count": 115,
   "metadata": {},
   "outputs": [],
   "source": [
    "# matches any character that is neither alphanumeric nor underscore\n",
    "# add a + just in case there are 2 or more spaces between certain words\n",
    "def tokenize(text):\n",
    "    tokens = re.split('\\W+', text)\n",
    "    return tokens\n",
    "\n",
    "#tokenise cat and dog data sets\n",
    "cat_data['full_content_cat_token'] = cat_data['full_content_cat_punc'].apply(lambda x: tokenize(x.lower()))\n",
    "dog_data['full_content_dog_token'] = dog_data['full_content_dog_punc'].apply(lambda x: tokenize(x.lower()))"
   ]
  },
  {
   "cell_type": "code",
   "execution_count": 116,
   "metadata": {},
   "outputs": [
    {
     "data": {
      "text/html": [
       "<div>\n",
       "<style scoped>\n",
       "    .dataframe tbody tr th:only-of-type {\n",
       "        vertical-align: middle;\n",
       "    }\n",
       "\n",
       "    .dataframe tbody tr th {\n",
       "        vertical-align: top;\n",
       "    }\n",
       "\n",
       "    .dataframe thead th {\n",
       "        text-align: right;\n",
       "    }\n",
       "</style>\n",
       "<table border=\"1\" class=\"dataframe\">\n",
       "  <thead>\n",
       "    <tr style=\"text-align: right;\">\n",
       "      <th></th>\n",
       "      <th>full_content_cat_punc</th>\n",
       "      <th>full_content_cat_token</th>\n",
       "    </tr>\n",
       "  </thead>\n",
       "  <tbody>\n",
       "    <tr>\n",
       "      <th>5927</th>\n",
       "      <td>Should I take in a cat  Hello everyone one of my brothers friend cant take care of another cat and wish to give it to someone who can And I really want a cat but the question I have is  should I take the cat in even tho I still live with my parents and they have a garden and a backyard where the cat can wander around and stuff the thing is I wait to have a contract where I work to take a flat ...</td>\n",
       "      <td>[should, i, take, in, a, cat, hello, everyone, one, of, my, brothers, friend, cant, take, care, of, another, cat, and, wish, to, give, it, to, someone, who, can, and, i, really, want, a, cat, but, the, question, i, have, is, should, i, take, the, cat, in, even, tho, i, still, live, with, my, parents, and, they, have, a, garden, and, a, backyard, where, the, cat, can, wander, around, and, stuff...</td>\n",
       "    </tr>\n",
       "    <tr>\n",
       "      <th>5928</th>\n",
       "      <td>Got a new kitten how can I help her get along with my dog</td>\n",
       "      <td>[got, a, new, kitten, how, can, i, help, her, get, along, with, my, dog]</td>\n",
       "    </tr>\n",
       "    <tr>\n",
       "      <th>5929</th>\n",
       "      <td>Teenager Troubles</td>\n",
       "      <td>[teenager, troubles]</td>\n",
       "    </tr>\n",
       "    <tr>\n",
       "      <th>5930</th>\n",
       "      <td>Food for sterilized cats  My kitten was recently sterilized she is  months old Is it worth transferring her to food for sterilized cats while she is still a kitten or is it worth continuing to feed her with food for kittens Now Im feeding her blue buffalo healthy growth natural kitten food</td>\n",
       "      <td>[food, for, sterilized, cats, my, kitten, was, recently, sterilized, she, is, months, old, is, it, worth, transferring, her, to, food, for, sterilized, cats, while, she, is, still, a, kitten, or, is, it, worth, continuing, to, feed, her, with, food, for, kittens, now, im, feeding, her, blue, buffalo, healthy, growth, natural, kitten, food]</td>\n",
       "    </tr>\n",
       "    <tr>\n",
       "      <th>5931</th>\n",
       "      <td>Cat acting out and anxious after getting new kitten  So I got a new kitten about a month ago and introduced him to my cat  year old so still young I did the correct introduction by separating them swapping scents eating near eachother etc and everything was going really well They started playing all the time licking eachother and seemed to be best buds Now suddenly my older cat is hissing all ...</td>\n",
       "      <td>[cat, acting, out, and, anxious, after, getting, new, kitten, so, i, got, a, new, kitten, about, a, month, ago, and, introduced, him, to, my, cat, year, old, so, still, young, i, did, the, correct, introduction, by, separating, them, swapping, scents, eating, near, eachother, etc, and, everything, was, going, really, well, they, started, playing, all, the, time, licking, eachother, and, seemed...</td>\n",
       "    </tr>\n",
       "  </tbody>\n",
       "</table>\n",
       "</div>"
      ],
      "text/plain": [
       "                                                                                                                                                                                                                                                                                                                                                                                                full_content_cat_punc  \\\n",
       "5927  Should I take in a cat  Hello everyone one of my brothers friend cant take care of another cat and wish to give it to someone who can And I really want a cat but the question I have is  should I take the cat in even tho I still live with my parents and they have a garden and a backyard where the cat can wander around and stuff the thing is I wait to have a contract where I work to take a flat ...   \n",
       "5928                                                                                                                                                                                                                                                                                                                                                        Got a new kitten how can I help her get along with my dog   \n",
       "5929                                                                                                                                                                                                                                                                                                                                                                                                Teenager Troubles   \n",
       "5930                                                                                                               Food for sterilized cats  My kitten was recently sterilized she is  months old Is it worth transferring her to food for sterilized cats while she is still a kitten or is it worth continuing to feed her with food for kittens Now Im feeding her blue buffalo healthy growth natural kitten food   \n",
       "5931  Cat acting out and anxious after getting new kitten  So I got a new kitten about a month ago and introduced him to my cat  year old so still young I did the correct introduction by separating them swapping scents eating near eachother etc and everything was going really well They started playing all the time licking eachother and seemed to be best buds Now suddenly my older cat is hissing all ...   \n",
       "\n",
       "                                                                                                                                                                                                                                                                                                                                                                                               full_content_cat_token  \n",
       "5927  [should, i, take, in, a, cat, hello, everyone, one, of, my, brothers, friend, cant, take, care, of, another, cat, and, wish, to, give, it, to, someone, who, can, and, i, really, want, a, cat, but, the, question, i, have, is, should, i, take, the, cat, in, even, tho, i, still, live, with, my, parents, and, they, have, a, garden, and, a, backyard, where, the, cat, can, wander, around, and, stuff...  \n",
       "5928                                                                                                                                                                                                                                                                                                                                         [got, a, new, kitten, how, can, i, help, her, get, along, with, my, dog]  \n",
       "5929                                                                                                                                                                                                                                                                                                                                                                                             [teenager, troubles]  \n",
       "5930                                                            [food, for, sterilized, cats, my, kitten, was, recently, sterilized, she, is, months, old, is, it, worth, transferring, her, to, food, for, sterilized, cats, while, she, is, still, a, kitten, or, is, it, worth, continuing, to, feed, her, with, food, for, kittens, now, im, feeding, her, blue, buffalo, healthy, growth, natural, kitten, food]  \n",
       "5931  [cat, acting, out, and, anxious, after, getting, new, kitten, so, i, got, a, new, kitten, about, a, month, ago, and, introduced, him, to, my, cat, year, old, so, still, young, i, did, the, correct, introduction, by, separating, them, swapping, scents, eating, near, eachother, etc, and, everything, was, going, really, well, they, started, playing, all, the, time, licking, eachother, and, seemed...  "
      ]
     },
     "execution_count": 116,
     "metadata": {},
     "output_type": "execute_result"
    }
   ],
   "source": [
    "cat_data[['full_content_cat_punc','full_content_cat_token']].tail()"
   ]
  },
  {
   "cell_type": "code",
   "execution_count": 117,
   "metadata": {},
   "outputs": [
    {
     "data": {
      "text/html": [
       "<div>\n",
       "<style scoped>\n",
       "    .dataframe tbody tr th:only-of-type {\n",
       "        vertical-align: middle;\n",
       "    }\n",
       "\n",
       "    .dataframe tbody tr th {\n",
       "        vertical-align: top;\n",
       "    }\n",
       "\n",
       "    .dataframe thead th {\n",
       "        text-align: right;\n",
       "    }\n",
       "</style>\n",
       "<table border=\"1\" class=\"dataframe\">\n",
       "  <thead>\n",
       "    <tr style=\"text-align: right;\">\n",
       "      <th></th>\n",
       "      <th>full_content_dog_punc</th>\n",
       "      <th>full_content_dog_token</th>\n",
       "    </tr>\n",
       "  </thead>\n",
       "  <tbody>\n",
       "    <tr>\n",
       "      <th>5890</th>\n",
       "      <td>Dog has lost all her stomach and chest hair  My  year old French Bulldog has lost all her hair since three months ago I don’t know if it’s due to stress we got a new puppy exactly three months ago she had all her hair back then or due to a possible medical illness due to age I took her to the vet and all tests came out normal I asked for an XRay to look out for tumors Dr who knows about ultras...</td>\n",
       "      <td>[dog, has, lost, all, her, stomach, and, chest, hair, my, year, old, french, bulldog, has, lost, all, her, hair, since, three, months, ago, i, don, t, know, if, it, s, due, to, stress, we, got, a, new, puppy, exactly, three, months, ago, she, had, all, her, hair, back, then, or, due, to, a, possible, medical, illness, due, to, age, i, took, her, to, the, vet, and, all, tests, came, out, normal...</td>\n",
       "    </tr>\n",
       "    <tr>\n",
       "      <th>5891</th>\n",
       "      <td>My toy poodle’s fur has been thinning and falling out in one spot on her back what should I do</td>\n",
       "      <td>[my, toy, poodle, s, fur, has, been, thinning, and, falling, out, in, one, spot, on, her, back, what, should, i, do, ]</td>\n",
       "    </tr>\n",
       "    <tr>\n",
       "      <th>5892</th>\n",
       "      <td>My dog wants to be let out every night in the middle of the night  am  He’s around  years old and he’s wonderfully house trained like never has an accident ever This is a new annoying habit that has started within the past couple months We always let him out before we go to bed around  pm and his last meal is usually around  pm His water is typically empty towards the evening so we just don’t ...</td>\n",
       "      <td>[my, dog, wants, to, be, let, out, every, night, in, the, middle, of, the, night, am, he, s, around, years, old, and, he, s, wonderfully, house, trained, like, never, has, an, accident, ever, this, is, a, new, annoying, habit, that, has, started, within, the, past, couple, months, we, always, let, him, out, before, we, go, to, bed, around, pm, and, his, last, meal, is, usually, around, pm, his...</td>\n",
       "    </tr>\n",
       "    <tr>\n",
       "      <th>5893</th>\n",
       "      <td>Dogs getting spayed… I have some questions  Both my dogs are getting spayed on Wednesday  One dog is about  years old and the other is almost  years old I’m nervous for the procedure but I know that it is routine and better for them in the long term I planned their spay to occur when I’ll be off from work for a week to be able to care for them \\n\\n year old  black mouth cur \\n year old  black ...</td>\n",
       "      <td>[dogs, getting, spayed, i, have, some, questions, both, my, dogs, are, getting, spayed, on, wednesday, one, dog, is, about, years, old, and, the, other, is, almost, years, old, i, m, nervous, for, the, procedure, but, i, know, that, it, is, routine, and, better, for, them, in, the, long, term, i, planned, their, spay, to, occur, when, i, ll, be, off, from, work, for, a, week, to, be, able, to,...</td>\n",
       "    </tr>\n",
       "    <tr>\n",
       "      <th>5894</th>\n",
       "      <td>Pup chews everything on walks  My  month old pup tries to chews everything on walks Pinecones branches rocks grass etc Any tips on how to improve it I’ve googled a million things and they say one thing could be boredom That’s the whole point of a walk Get some physical activity But he won’t even make it far on a walk and just lays down and chews grass  I’ve tried doing food puzzles and play in...</td>\n",
       "      <td>[pup, chews, everything, on, walks, my, month, old, pup, tries, to, chews, everything, on, walks, pinecones, branches, rocks, grass, etc, any, tips, on, how, to, improve, it, i, ve, googled, a, million, things, and, they, say, one, thing, could, be, boredom, that, s, the, whole, point, of, a, walk, get, some, physical, activity, but, he, won, t, even, make, it, far, on, a, walk, and, just, lay...</td>\n",
       "    </tr>\n",
       "  </tbody>\n",
       "</table>\n",
       "</div>"
      ],
      "text/plain": [
       "                                                                                                                                                                                                                                                                                                                                                                                                full_content_dog_punc  \\\n",
       "5890  Dog has lost all her stomach and chest hair  My  year old French Bulldog has lost all her hair since three months ago I don’t know if it’s due to stress we got a new puppy exactly three months ago she had all her hair back then or due to a possible medical illness due to age I took her to the vet and all tests came out normal I asked for an XRay to look out for tumors Dr who knows about ultras...   \n",
       "5891                                                                                                                                                                                                                                                                                                                 My toy poodle’s fur has been thinning and falling out in one spot on her back what should I do     \n",
       "5892  My dog wants to be let out every night in the middle of the night  am  He’s around  years old and he’s wonderfully house trained like never has an accident ever This is a new annoying habit that has started within the past couple months We always let him out before we go to bed around  pm and his last meal is usually around  pm His water is typically empty towards the evening so we just don’t ...   \n",
       "5893  Dogs getting spayed… I have some questions  Both my dogs are getting spayed on Wednesday  One dog is about  years old and the other is almost  years old I’m nervous for the procedure but I know that it is routine and better for them in the long term I planned their spay to occur when I’ll be off from work for a week to be able to care for them \\n\\n year old  black mouth cur \\n year old  black ...   \n",
       "5894  Pup chews everything on walks  My  month old pup tries to chews everything on walks Pinecones branches rocks grass etc Any tips on how to improve it I’ve googled a million things and they say one thing could be boredom That’s the whole point of a walk Get some physical activity But he won’t even make it far on a walk and just lays down and chews grass  I’ve tried doing food puzzles and play in...   \n",
       "\n",
       "                                                                                                                                                                                                                                                                                                                                                                                               full_content_dog_token  \n",
       "5890  [dog, has, lost, all, her, stomach, and, chest, hair, my, year, old, french, bulldog, has, lost, all, her, hair, since, three, months, ago, i, don, t, know, if, it, s, due, to, stress, we, got, a, new, puppy, exactly, three, months, ago, she, had, all, her, hair, back, then, or, due, to, a, possible, medical, illness, due, to, age, i, took, her, to, the, vet, and, all, tests, came, out, normal...  \n",
       "5891                                                                                                                                                                                                                                                                                           [my, toy, poodle, s, fur, has, been, thinning, and, falling, out, in, one, spot, on, her, back, what, should, i, do, ]  \n",
       "5892  [my, dog, wants, to, be, let, out, every, night, in, the, middle, of, the, night, am, he, s, around, years, old, and, he, s, wonderfully, house, trained, like, never, has, an, accident, ever, this, is, a, new, annoying, habit, that, has, started, within, the, past, couple, months, we, always, let, him, out, before, we, go, to, bed, around, pm, and, his, last, meal, is, usually, around, pm, his...  \n",
       "5893  [dogs, getting, spayed, i, have, some, questions, both, my, dogs, are, getting, spayed, on, wednesday, one, dog, is, about, years, old, and, the, other, is, almost, years, old, i, m, nervous, for, the, procedure, but, i, know, that, it, is, routine, and, better, for, them, in, the, long, term, i, planned, their, spay, to, occur, when, i, ll, be, off, from, work, for, a, week, to, be, able, to,...  \n",
       "5894  [pup, chews, everything, on, walks, my, month, old, pup, tries, to, chews, everything, on, walks, pinecones, branches, rocks, grass, etc, any, tips, on, how, to, improve, it, i, ve, googled, a, million, things, and, they, say, one, thing, could, be, boredom, that, s, the, whole, point, of, a, walk, get, some, physical, activity, but, he, won, t, even, make, it, far, on, a, walk, and, just, lay...  "
      ]
     },
     "execution_count": 117,
     "metadata": {},
     "output_type": "execute_result"
    }
   ],
   "source": [
    "dog_data[['full_content_dog_punc','full_content_dog_token']].tail()"
   ]
  },
  {
   "cell_type": "markdown",
   "metadata": {},
   "source": [
    "#### Remove Stopwords"
   ]
  },
  {
   "cell_type": "code",
   "execution_count": 118,
   "metadata": {},
   "outputs": [],
   "source": [
    "# call stopwords for english from NLTK\n",
    "stoplist = nltk.corpus.stopwords.words('english')\n",
    "\n",
    "\n",
    "# retain and store word in \"text\" if it is not found in \"stopword\"\n",
    "def remove_stopwords(tokenized_list):\n",
    "    text = [word for word in tokenized_list if word not in stoplist]\n",
    "    return text\n",
    "\n",
    "#remove stopwords for cat and dog data sets\n",
    "cat_data['full_content_cat_nostop'] = cat_data['full_content_cat_token'].apply(lambda x: remove_stopwords(x))\n",
    "dog_data['full_content_dog_nostop'] = dog_data['full_content_dog_token'].apply(lambda x: remove_stopwords(x))"
   ]
  },
  {
   "cell_type": "code",
   "execution_count": 119,
   "metadata": {},
   "outputs": [
    {
     "data": {
      "text/html": [
       "<div>\n",
       "<style scoped>\n",
       "    .dataframe tbody tr th:only-of-type {\n",
       "        vertical-align: middle;\n",
       "    }\n",
       "\n",
       "    .dataframe tbody tr th {\n",
       "        vertical-align: top;\n",
       "    }\n",
       "\n",
       "    .dataframe thead th {\n",
       "        text-align: right;\n",
       "    }\n",
       "</style>\n",
       "<table border=\"1\" class=\"dataframe\">\n",
       "  <thead>\n",
       "    <tr style=\"text-align: right;\">\n",
       "      <th></th>\n",
       "      <th>full_content_cat_token</th>\n",
       "      <th>full_content_cat_nostop</th>\n",
       "    </tr>\n",
       "  </thead>\n",
       "  <tbody>\n",
       "    <tr>\n",
       "      <th>5927</th>\n",
       "      <td>[should, i, take, in, a, cat, hello, everyone, one, of, my, brothers, friend, cant, take, care, of, another, cat, and, wish, to, give, it, to, someone, who, can, and, i, really, want, a, cat, but, the, question, i, have, is, should, i, take, the, cat, in, even, tho, i, still, live, with, my, parents, and, they, have, a, garden, and, a, backyard, where, the, cat, can, wander, around, and, stuff...</td>\n",
       "      <td>[take, cat, hello, everyone, one, brothers, friend, cant, take, care, another, cat, wish, give, someone, really, want, cat, question, take, cat, even, tho, still, live, parents, garden, backyard, cat, wander, around, stuff, thing, wait, contract, work, take, flat, garden, regular, flat, wondering, bother, cat, change, environment, like, tough, adapt, new, style, life, wait, till, get, flat, ok...</td>\n",
       "    </tr>\n",
       "    <tr>\n",
       "      <th>5928</th>\n",
       "      <td>[got, a, new, kitten, how, can, i, help, her, get, along, with, my, dog]</td>\n",
       "      <td>[got, new, kitten, help, get, along, dog]</td>\n",
       "    </tr>\n",
       "    <tr>\n",
       "      <th>5929</th>\n",
       "      <td>[teenager, troubles]</td>\n",
       "      <td>[teenager, troubles]</td>\n",
       "    </tr>\n",
       "    <tr>\n",
       "      <th>5930</th>\n",
       "      <td>[food, for, sterilized, cats, my, kitten, was, recently, sterilized, she, is, months, old, is, it, worth, transferring, her, to, food, for, sterilized, cats, while, she, is, still, a, kitten, or, is, it, worth, continuing, to, feed, her, with, food, for, kittens, now, im, feeding, her, blue, buffalo, healthy, growth, natural, kitten, food]</td>\n",
       "      <td>[food, sterilized, cats, kitten, recently, sterilized, months, old, worth, transferring, food, sterilized, cats, still, kitten, worth, continuing, feed, food, kittens, im, feeding, blue, buffalo, healthy, growth, natural, kitten, food]</td>\n",
       "    </tr>\n",
       "    <tr>\n",
       "      <th>5931</th>\n",
       "      <td>[cat, acting, out, and, anxious, after, getting, new, kitten, so, i, got, a, new, kitten, about, a, month, ago, and, introduced, him, to, my, cat, year, old, so, still, young, i, did, the, correct, introduction, by, separating, them, swapping, scents, eating, near, eachother, etc, and, everything, was, going, really, well, they, started, playing, all, the, time, licking, eachother, and, seemed...</td>\n",
       "      <td>[cat, acting, anxious, getting, new, kitten, got, new, kitten, month, ago, introduced, cat, year, old, still, young, correct, introduction, separating, swapping, scents, eating, near, eachother, etc, everything, going, really, well, started, playing, time, licking, eachother, seemed, best, buds, suddenly, older, cat, hissing, time, growling, never, playing, weird, thing, still, catch, napping,...</td>\n",
       "    </tr>\n",
       "  </tbody>\n",
       "</table>\n",
       "</div>"
      ],
      "text/plain": [
       "                                                                                                                                                                                                                                                                                                                                                                                               full_content_cat_token  \\\n",
       "5927  [should, i, take, in, a, cat, hello, everyone, one, of, my, brothers, friend, cant, take, care, of, another, cat, and, wish, to, give, it, to, someone, who, can, and, i, really, want, a, cat, but, the, question, i, have, is, should, i, take, the, cat, in, even, tho, i, still, live, with, my, parents, and, they, have, a, garden, and, a, backyard, where, the, cat, can, wander, around, and, stuff...   \n",
       "5928                                                                                                                                                                                                                                                                                                                                         [got, a, new, kitten, how, can, i, help, her, get, along, with, my, dog]   \n",
       "5929                                                                                                                                                                                                                                                                                                                                                                                             [teenager, troubles]   \n",
       "5930                                                            [food, for, sterilized, cats, my, kitten, was, recently, sterilized, she, is, months, old, is, it, worth, transferring, her, to, food, for, sterilized, cats, while, she, is, still, a, kitten, or, is, it, worth, continuing, to, feed, her, with, food, for, kittens, now, im, feeding, her, blue, buffalo, healthy, growth, natural, kitten, food]   \n",
       "5931  [cat, acting, out, and, anxious, after, getting, new, kitten, so, i, got, a, new, kitten, about, a, month, ago, and, introduced, him, to, my, cat, year, old, so, still, young, i, did, the, correct, introduction, by, separating, them, swapping, scents, eating, near, eachother, etc, and, everything, was, going, really, well, they, started, playing, all, the, time, licking, eachother, and, seemed...   \n",
       "\n",
       "                                                                                                                                                                                                                                                                                                                                                                                              full_content_cat_nostop  \n",
       "5927  [take, cat, hello, everyone, one, brothers, friend, cant, take, care, another, cat, wish, give, someone, really, want, cat, question, take, cat, even, tho, still, live, parents, garden, backyard, cat, wander, around, stuff, thing, wait, contract, work, take, flat, garden, regular, flat, wondering, bother, cat, change, environment, like, tough, adapt, new, style, life, wait, till, get, flat, ok...  \n",
       "5928                                                                                                                                                                                                                                                                                                                                                                        [got, new, kitten, help, get, along, dog]  \n",
       "5929                                                                                                                                                                                                                                                                                                                                                                                             [teenager, troubles]  \n",
       "5930                                                                                                                                                                      [food, sterilized, cats, kitten, recently, sterilized, months, old, worth, transferring, food, sterilized, cats, still, kitten, worth, continuing, feed, food, kittens, im, feeding, blue, buffalo, healthy, growth, natural, kitten, food]  \n",
       "5931  [cat, acting, anxious, getting, new, kitten, got, new, kitten, month, ago, introduced, cat, year, old, still, young, correct, introduction, separating, swapping, scents, eating, near, eachother, etc, everything, going, really, well, started, playing, time, licking, eachother, seemed, best, buds, suddenly, older, cat, hissing, time, growling, never, playing, weird, thing, still, catch, napping,...  "
      ]
     },
     "execution_count": 119,
     "metadata": {},
     "output_type": "execute_result"
    }
   ],
   "source": [
    "cat_data[['full_content_cat_token','full_content_cat_nostop']].tail()"
   ]
  },
  {
   "cell_type": "code",
   "execution_count": 120,
   "metadata": {},
   "outputs": [
    {
     "data": {
      "text/html": [
       "<div>\n",
       "<style scoped>\n",
       "    .dataframe tbody tr th:only-of-type {\n",
       "        vertical-align: middle;\n",
       "    }\n",
       "\n",
       "    .dataframe tbody tr th {\n",
       "        vertical-align: top;\n",
       "    }\n",
       "\n",
       "    .dataframe thead th {\n",
       "        text-align: right;\n",
       "    }\n",
       "</style>\n",
       "<table border=\"1\" class=\"dataframe\">\n",
       "  <thead>\n",
       "    <tr style=\"text-align: right;\">\n",
       "      <th></th>\n",
       "      <th>full_content_dog_token</th>\n",
       "      <th>full_content_dog_nostop</th>\n",
       "    </tr>\n",
       "  </thead>\n",
       "  <tbody>\n",
       "    <tr>\n",
       "      <th>5890</th>\n",
       "      <td>[dog, has, lost, all, her, stomach, and, chest, hair, my, year, old, french, bulldog, has, lost, all, her, hair, since, three, months, ago, i, don, t, know, if, it, s, due, to, stress, we, got, a, new, puppy, exactly, three, months, ago, she, had, all, her, hair, back, then, or, due, to, a, possible, medical, illness, due, to, age, i, took, her, to, the, vet, and, all, tests, came, out, normal...</td>\n",
       "      <td>[dog, lost, stomach, chest, hair, year, old, french, bulldog, lost, hair, since, three, months, ago, know, due, stress, got, new, puppy, exactly, three, months, ago, hair, back, due, possible, medical, illness, due, age, took, vet, tests, came, normal, asked, xray, look, tumors, dr, knows, ultrasounds, perform, test, worried, put, diet, increased, activity, lost, pounds, comparison, least, yea...</td>\n",
       "    </tr>\n",
       "    <tr>\n",
       "      <th>5891</th>\n",
       "      <td>[my, toy, poodle, s, fur, has, been, thinning, and, falling, out, in, one, spot, on, her, back, what, should, i, do, ]</td>\n",
       "      <td>[toy, poodle, fur, thinning, falling, one, spot, back, ]</td>\n",
       "    </tr>\n",
       "    <tr>\n",
       "      <th>5892</th>\n",
       "      <td>[my, dog, wants, to, be, let, out, every, night, in, the, middle, of, the, night, am, he, s, around, years, old, and, he, s, wonderfully, house, trained, like, never, has, an, accident, ever, this, is, a, new, annoying, habit, that, has, started, within, the, past, couple, months, we, always, let, him, out, before, we, go, to, bed, around, pm, and, his, last, meal, is, usually, around, pm, his...</td>\n",
       "      <td>[dog, wants, let, every, night, middle, night, around, years, old, wonderfully, house, trained, like, never, accident, ever, new, annoying, habit, started, within, past, couple, months, always, let, go, bed, around, pm, last, meal, usually, around, pm, water, typically, empty, towards, evening, fill, back, potty, incessantly, whine, anxiously, walk, around, bed, let, recommendations]</td>\n",
       "    </tr>\n",
       "    <tr>\n",
       "      <th>5893</th>\n",
       "      <td>[dogs, getting, spayed, i, have, some, questions, both, my, dogs, are, getting, spayed, on, wednesday, one, dog, is, about, years, old, and, the, other, is, almost, years, old, i, m, nervous, for, the, procedure, but, i, know, that, it, is, routine, and, better, for, them, in, the, long, term, i, planned, their, spay, to, occur, when, i, ll, be, off, from, work, for, a, week, to, be, able, to,...</td>\n",
       "      <td>[dogs, getting, spayed, questions, dogs, getting, spayed, wednesday, one, dog, years, old, almost, years, old, nervous, procedure, know, routine, better, long, term, planned, spay, occur, work, week, able, care, year, old, black, mouth, cur, year, old, black, lab, neither, health, issues, aware, pretty, active, seem, happy, etc, advice, aftercare, steps, come, house, steps, home, walk, updown,...</td>\n",
       "    </tr>\n",
       "    <tr>\n",
       "      <th>5894</th>\n",
       "      <td>[pup, chews, everything, on, walks, my, month, old, pup, tries, to, chews, everything, on, walks, pinecones, branches, rocks, grass, etc, any, tips, on, how, to, improve, it, i, ve, googled, a, million, things, and, they, say, one, thing, could, be, boredom, that, s, the, whole, point, of, a, walk, get, some, physical, activity, but, he, won, t, even, make, it, far, on, a, walk, and, just, lay...</td>\n",
       "      <td>[pup, chews, everything, walks, month, old, pup, tries, chews, everything, walks, pinecones, branches, rocks, grass, etc, tips, improve, googled, million, things, say, one, thing, could, boredom, whole, point, walk, get, physical, activity, even, make, far, walk, lays, chews, grass, tried, food, puzzles, play, inside, walk, boredom, still, always]</td>\n",
       "    </tr>\n",
       "  </tbody>\n",
       "</table>\n",
       "</div>"
      ],
      "text/plain": [
       "                                                                                                                                                                                                                                                                                                                                                                                               full_content_dog_token  \\\n",
       "5890  [dog, has, lost, all, her, stomach, and, chest, hair, my, year, old, french, bulldog, has, lost, all, her, hair, since, three, months, ago, i, don, t, know, if, it, s, due, to, stress, we, got, a, new, puppy, exactly, three, months, ago, she, had, all, her, hair, back, then, or, due, to, a, possible, medical, illness, due, to, age, i, took, her, to, the, vet, and, all, tests, came, out, normal...   \n",
       "5891                                                                                                                                                                                                                                                                                           [my, toy, poodle, s, fur, has, been, thinning, and, falling, out, in, one, spot, on, her, back, what, should, i, do, ]   \n",
       "5892  [my, dog, wants, to, be, let, out, every, night, in, the, middle, of, the, night, am, he, s, around, years, old, and, he, s, wonderfully, house, trained, like, never, has, an, accident, ever, this, is, a, new, annoying, habit, that, has, started, within, the, past, couple, months, we, always, let, him, out, before, we, go, to, bed, around, pm, and, his, last, meal, is, usually, around, pm, his...   \n",
       "5893  [dogs, getting, spayed, i, have, some, questions, both, my, dogs, are, getting, spayed, on, wednesday, one, dog, is, about, years, old, and, the, other, is, almost, years, old, i, m, nervous, for, the, procedure, but, i, know, that, it, is, routine, and, better, for, them, in, the, long, term, i, planned, their, spay, to, occur, when, i, ll, be, off, from, work, for, a, week, to, be, able, to,...   \n",
       "5894  [pup, chews, everything, on, walks, my, month, old, pup, tries, to, chews, everything, on, walks, pinecones, branches, rocks, grass, etc, any, tips, on, how, to, improve, it, i, ve, googled, a, million, things, and, they, say, one, thing, could, be, boredom, that, s, the, whole, point, of, a, walk, get, some, physical, activity, but, he, won, t, even, make, it, far, on, a, walk, and, just, lay...   \n",
       "\n",
       "                                                                                                                                                                                                                                                                                                                                                                                              full_content_dog_nostop  \n",
       "5890  [dog, lost, stomach, chest, hair, year, old, french, bulldog, lost, hair, since, three, months, ago, know, due, stress, got, new, puppy, exactly, three, months, ago, hair, back, due, possible, medical, illness, due, age, took, vet, tests, came, normal, asked, xray, look, tumors, dr, knows, ultrasounds, perform, test, worried, put, diet, increased, activity, lost, pounds, comparison, least, yea...  \n",
       "5891                                                                                                                                                                                                                                                                                                                                                         [toy, poodle, fur, thinning, falling, one, spot, back, ]  \n",
       "5892               [dog, wants, let, every, night, middle, night, around, years, old, wonderfully, house, trained, like, never, accident, ever, new, annoying, habit, started, within, past, couple, months, always, let, go, bed, around, pm, last, meal, usually, around, pm, water, typically, empty, towards, evening, fill, back, potty, incessantly, whine, anxiously, walk, around, bed, let, recommendations]  \n",
       "5893  [dogs, getting, spayed, questions, dogs, getting, spayed, wednesday, one, dog, years, old, almost, years, old, nervous, procedure, know, routine, better, long, term, planned, spay, occur, work, week, able, care, year, old, black, mouth, cur, year, old, black, lab, neither, health, issues, aware, pretty, active, seem, happy, etc, advice, aftercare, steps, come, house, steps, home, walk, updown,...  \n",
       "5894                                                    [pup, chews, everything, walks, month, old, pup, tries, chews, everything, walks, pinecones, branches, rocks, grass, etc, tips, improve, googled, million, things, say, one, thing, could, boredom, whole, point, walk, get, physical, activity, even, make, far, walk, lays, chews, grass, tried, food, puzzles, play, inside, walk, boredom, still, always]  "
      ]
     },
     "execution_count": 120,
     "metadata": {},
     "output_type": "execute_result"
    }
   ],
   "source": [
    "dog_data[['full_content_dog_token','full_content_dog_nostop']].tail()"
   ]
  },
  {
   "cell_type": "markdown",
   "metadata": {},
   "source": [
    "#### Stemming"
   ]
  },
  {
   "cell_type": "code",
   "execution_count": 121,
   "metadata": {},
   "outputs": [],
   "source": [
    "ps = nltk.PorterStemmer()"
   ]
  },
  {
   "cell_type": "code",
   "execution_count": 122,
   "metadata": {},
   "outputs": [],
   "source": [
    "# return list of all stemmed words for their corresponding words in tokenized_text\n",
    "def stemming(tokenized_text):\n",
    "    text = [ps.stem(word) for word in tokenized_text]\n",
    "    return text\n",
    "\n",
    "# apply stemming for cat and dog data\n",
    "cat_data['full_content_cat_stem'] = cat_data['full_content_cat_nostop'].apply(lambda x: stemming(x))\n",
    "dog_data['full_content_dog_stem'] = dog_data['full_content_dog_nostop'].apply(lambda x: stemming(x))"
   ]
  },
  {
   "cell_type": "code",
   "execution_count": 123,
   "metadata": {},
   "outputs": [
    {
     "data": {
      "text/html": [
       "<div>\n",
       "<style scoped>\n",
       "    .dataframe tbody tr th:only-of-type {\n",
       "        vertical-align: middle;\n",
       "    }\n",
       "\n",
       "    .dataframe tbody tr th {\n",
       "        vertical-align: top;\n",
       "    }\n",
       "\n",
       "    .dataframe thead th {\n",
       "        text-align: right;\n",
       "    }\n",
       "</style>\n",
       "<table border=\"1\" class=\"dataframe\">\n",
       "  <thead>\n",
       "    <tr style=\"text-align: right;\">\n",
       "      <th></th>\n",
       "      <th>full_content_cat_nostop</th>\n",
       "      <th>full_content_cat_stem</th>\n",
       "    </tr>\n",
       "  </thead>\n",
       "  <tbody>\n",
       "    <tr>\n",
       "      <th>5927</th>\n",
       "      <td>[take, cat, hello, everyone, one, brothers, friend, cant, take, care, another, cat, wish, give, someone, really, want, cat, question, take, cat, even, tho, still, live, parents, garden, backyard, cat, wander, around, stuff, thing, wait, contract, work, take, flat, garden, regular, flat, wondering, bother, cat, change, environment, like, tough, adapt, new, style, life, wait, till, get, flat, ok...</td>\n",
       "      <td>[take, cat, hello, everyon, one, brother, friend, cant, take, care, anoth, cat, wish, give, someon, realli, want, cat, question, take, cat, even, tho, still, live, parent, garden, backyard, cat, wander, around, stuff, thing, wait, contract, work, take, flat, garden, regular, flat, wonder, bother, cat, chang, environ, like, tough, adapt, new, style, life, wait, till, get, flat, ok, take, could,...</td>\n",
       "    </tr>\n",
       "    <tr>\n",
       "      <th>5928</th>\n",
       "      <td>[got, new, kitten, help, get, along, dog]</td>\n",
       "      <td>[got, new, kitten, help, get, along, dog]</td>\n",
       "    </tr>\n",
       "    <tr>\n",
       "      <th>5929</th>\n",
       "      <td>[teenager, troubles]</td>\n",
       "      <td>[teenag, troubl]</td>\n",
       "    </tr>\n",
       "    <tr>\n",
       "      <th>5930</th>\n",
       "      <td>[food, sterilized, cats, kitten, recently, sterilized, months, old, worth, transferring, food, sterilized, cats, still, kitten, worth, continuing, feed, food, kittens, im, feeding, blue, buffalo, healthy, growth, natural, kitten, food]</td>\n",
       "      <td>[food, steril, cat, kitten, recent, steril, month, old, worth, transfer, food, steril, cat, still, kitten, worth, continu, feed, food, kitten, im, feed, blue, buffalo, healthi, growth, natur, kitten, food]</td>\n",
       "    </tr>\n",
       "    <tr>\n",
       "      <th>5931</th>\n",
       "      <td>[cat, acting, anxious, getting, new, kitten, got, new, kitten, month, ago, introduced, cat, year, old, still, young, correct, introduction, separating, swapping, scents, eating, near, eachother, etc, everything, going, really, well, started, playing, time, licking, eachother, seemed, best, buds, suddenly, older, cat, hissing, time, growling, never, playing, weird, thing, still, catch, napping,...</td>\n",
       "      <td>[cat, act, anxiou, get, new, kitten, got, new, kitten, month, ago, introduc, cat, year, old, still, young, correct, introduct, separ, swap, scent, eat, near, eachoth, etc, everyth, go, realli, well, start, play, time, lick, eachoth, seem, best, bud, suddenli, older, cat, hiss, time, growl, never, play, weird, thing, still, catch, nap, new, kitten, lick, sometim, like, hate, constantli, hiss, g...</td>\n",
       "    </tr>\n",
       "  </tbody>\n",
       "</table>\n",
       "</div>"
      ],
      "text/plain": [
       "                                                                                                                                                                                                                                                                                                                                                                                              full_content_cat_nostop  \\\n",
       "5927  [take, cat, hello, everyone, one, brothers, friend, cant, take, care, another, cat, wish, give, someone, really, want, cat, question, take, cat, even, tho, still, live, parents, garden, backyard, cat, wander, around, stuff, thing, wait, contract, work, take, flat, garden, regular, flat, wondering, bother, cat, change, environment, like, tough, adapt, new, style, life, wait, till, get, flat, ok...   \n",
       "5928                                                                                                                                                                                                                                                                                                                                                                        [got, new, kitten, help, get, along, dog]   \n",
       "5929                                                                                                                                                                                                                                                                                                                                                                                             [teenager, troubles]   \n",
       "5930                                                                                                                                                                      [food, sterilized, cats, kitten, recently, sterilized, months, old, worth, transferring, food, sterilized, cats, still, kitten, worth, continuing, feed, food, kittens, im, feeding, blue, buffalo, healthy, growth, natural, kitten, food]   \n",
       "5931  [cat, acting, anxious, getting, new, kitten, got, new, kitten, month, ago, introduced, cat, year, old, still, young, correct, introduction, separating, swapping, scents, eating, near, eachother, etc, everything, going, really, well, started, playing, time, licking, eachother, seemed, best, buds, suddenly, older, cat, hissing, time, growling, never, playing, weird, thing, still, catch, napping,...   \n",
       "\n",
       "                                                                                                                                                                                                                                                                                                                                                                                                full_content_cat_stem  \n",
       "5927  [take, cat, hello, everyon, one, brother, friend, cant, take, care, anoth, cat, wish, give, someon, realli, want, cat, question, take, cat, even, tho, still, live, parent, garden, backyard, cat, wander, around, stuff, thing, wait, contract, work, take, flat, garden, regular, flat, wonder, bother, cat, chang, environ, like, tough, adapt, new, style, life, wait, till, get, flat, ok, take, could,...  \n",
       "5928                                                                                                                                                                                                                                                                                                                                                                        [got, new, kitten, help, get, along, dog]  \n",
       "5929                                                                                                                                                                                                                                                                                                                                                                                                 [teenag, troubl]  \n",
       "5930                                                                                                                                                                                                    [food, steril, cat, kitten, recent, steril, month, old, worth, transfer, food, steril, cat, still, kitten, worth, continu, feed, food, kitten, im, feed, blue, buffalo, healthi, growth, natur, kitten, food]  \n",
       "5931  [cat, act, anxiou, get, new, kitten, got, new, kitten, month, ago, introduc, cat, year, old, still, young, correct, introduct, separ, swap, scent, eat, near, eachoth, etc, everyth, go, realli, well, start, play, time, lick, eachoth, seem, best, bud, suddenli, older, cat, hiss, time, growl, never, play, weird, thing, still, catch, nap, new, kitten, lick, sometim, like, hate, constantli, hiss, g...  "
      ]
     },
     "execution_count": 123,
     "metadata": {},
     "output_type": "execute_result"
    }
   ],
   "source": [
    "cat_data[['full_content_cat_nostop','full_content_cat_stem']].tail()"
   ]
  },
  {
   "cell_type": "code",
   "execution_count": 124,
   "metadata": {},
   "outputs": [
    {
     "data": {
      "text/html": [
       "<div>\n",
       "<style scoped>\n",
       "    .dataframe tbody tr th:only-of-type {\n",
       "        vertical-align: middle;\n",
       "    }\n",
       "\n",
       "    .dataframe tbody tr th {\n",
       "        vertical-align: top;\n",
       "    }\n",
       "\n",
       "    .dataframe thead th {\n",
       "        text-align: right;\n",
       "    }\n",
       "</style>\n",
       "<table border=\"1\" class=\"dataframe\">\n",
       "  <thead>\n",
       "    <tr style=\"text-align: right;\">\n",
       "      <th></th>\n",
       "      <th>full_content_dog_nostop</th>\n",
       "      <th>full_content_dog_stem</th>\n",
       "    </tr>\n",
       "  </thead>\n",
       "  <tbody>\n",
       "    <tr>\n",
       "      <th>5890</th>\n",
       "      <td>[dog, lost, stomach, chest, hair, year, old, french, bulldog, lost, hair, since, three, months, ago, know, due, stress, got, new, puppy, exactly, three, months, ago, hair, back, due, possible, medical, illness, due, age, took, vet, tests, came, normal, asked, xray, look, tumors, dr, knows, ultrasounds, perform, test, worried, put, diet, increased, activity, lost, pounds, comparison, least, yea...</td>\n",
       "      <td>[dog, lost, stomach, chest, hair, year, old, french, bulldog, lost, hair, sinc, three, month, ago, know, due, stress, got, new, puppi, exactli, three, month, ago, hair, back, due, possibl, medic, ill, due, age, took, vet, test, came, normal, ask, xray, look, tumor, dr, know, ultrasound, perform, test, worri, put, diet, increas, activ, lost, pound, comparison, least, year, back, weight, rib, wi...</td>\n",
       "    </tr>\n",
       "    <tr>\n",
       "      <th>5891</th>\n",
       "      <td>[toy, poodle, fur, thinning, falling, one, spot, back, ]</td>\n",
       "      <td>[toy, poodl, fur, thin, fall, one, spot, back, ]</td>\n",
       "    </tr>\n",
       "    <tr>\n",
       "      <th>5892</th>\n",
       "      <td>[dog, wants, let, every, night, middle, night, around, years, old, wonderfully, house, trained, like, never, accident, ever, new, annoying, habit, started, within, past, couple, months, always, let, go, bed, around, pm, last, meal, usually, around, pm, water, typically, empty, towards, evening, fill, back, potty, incessantly, whine, anxiously, walk, around, bed, let, recommendations]</td>\n",
       "      <td>[dog, want, let, everi, night, middl, night, around, year, old, wonder, hous, train, like, never, accid, ever, new, annoy, habit, start, within, past, coupl, month, alway, let, go, bed, around, pm, last, meal, usual, around, pm, water, typic, empti, toward, even, fill, back, potti, incessantli, whine, anxious, walk, around, bed, let, recommend]</td>\n",
       "    </tr>\n",
       "    <tr>\n",
       "      <th>5893</th>\n",
       "      <td>[dogs, getting, spayed, questions, dogs, getting, spayed, wednesday, one, dog, years, old, almost, years, old, nervous, procedure, know, routine, better, long, term, planned, spay, occur, work, week, able, care, year, old, black, mouth, cur, year, old, black, lab, neither, health, issues, aware, pretty, active, seem, happy, etc, advice, aftercare, steps, come, house, steps, home, walk, updown,...</td>\n",
       "      <td>[dog, get, spay, question, dog, get, spay, wednesday, one, dog, year, old, almost, year, old, nervou, procedur, know, routin, better, long, term, plan, spay, occur, work, week, abl, care, year, old, black, mouth, cur, year, old, black, lab, neither, health, issu, awar, pretti, activ, seem, happi, etc, advic, aftercar, step, come, hous, step, home, walk, updown, step, go, peepoop, outsid, potti...</td>\n",
       "    </tr>\n",
       "    <tr>\n",
       "      <th>5894</th>\n",
       "      <td>[pup, chews, everything, walks, month, old, pup, tries, chews, everything, walks, pinecones, branches, rocks, grass, etc, tips, improve, googled, million, things, say, one, thing, could, boredom, whole, point, walk, get, physical, activity, even, make, far, walk, lays, chews, grass, tried, food, puzzles, play, inside, walk, boredom, still, always]</td>\n",
       "      <td>[pup, chew, everyth, walk, month, old, pup, tri, chew, everyth, walk, pinecon, branch, rock, grass, etc, tip, improv, googl, million, thing, say, one, thing, could, boredom, whole, point, walk, get, physic, activ, even, make, far, walk, lay, chew, grass, tri, food, puzzl, play, insid, walk, boredom, still, alway]</td>\n",
       "    </tr>\n",
       "  </tbody>\n",
       "</table>\n",
       "</div>"
      ],
      "text/plain": [
       "                                                                                                                                                                                                                                                                                                                                                                                              full_content_dog_nostop  \\\n",
       "5890  [dog, lost, stomach, chest, hair, year, old, french, bulldog, lost, hair, since, three, months, ago, know, due, stress, got, new, puppy, exactly, three, months, ago, hair, back, due, possible, medical, illness, due, age, took, vet, tests, came, normal, asked, xray, look, tumors, dr, knows, ultrasounds, perform, test, worried, put, diet, increased, activity, lost, pounds, comparison, least, yea...   \n",
       "5891                                                                                                                                                                                                                                                                                                                                                         [toy, poodle, fur, thinning, falling, one, spot, back, ]   \n",
       "5892               [dog, wants, let, every, night, middle, night, around, years, old, wonderfully, house, trained, like, never, accident, ever, new, annoying, habit, started, within, past, couple, months, always, let, go, bed, around, pm, last, meal, usually, around, pm, water, typically, empty, towards, evening, fill, back, potty, incessantly, whine, anxiously, walk, around, bed, let, recommendations]   \n",
       "5893  [dogs, getting, spayed, questions, dogs, getting, spayed, wednesday, one, dog, years, old, almost, years, old, nervous, procedure, know, routine, better, long, term, planned, spay, occur, work, week, able, care, year, old, black, mouth, cur, year, old, black, lab, neither, health, issues, aware, pretty, active, seem, happy, etc, advice, aftercare, steps, come, house, steps, home, walk, updown,...   \n",
       "5894                                                    [pup, chews, everything, walks, month, old, pup, tries, chews, everything, walks, pinecones, branches, rocks, grass, etc, tips, improve, googled, million, things, say, one, thing, could, boredom, whole, point, walk, get, physical, activity, even, make, far, walk, lays, chews, grass, tried, food, puzzles, play, inside, walk, boredom, still, always]   \n",
       "\n",
       "                                                                                                                                                                                                                                                                                                                                                                                                full_content_dog_stem  \n",
       "5890  [dog, lost, stomach, chest, hair, year, old, french, bulldog, lost, hair, sinc, three, month, ago, know, due, stress, got, new, puppi, exactli, three, month, ago, hair, back, due, possibl, medic, ill, due, age, took, vet, test, came, normal, ask, xray, look, tumor, dr, know, ultrasound, perform, test, worri, put, diet, increas, activ, lost, pound, comparison, least, year, back, weight, rib, wi...  \n",
       "5891                                                                                                                                                                                                                                                                                                                                                                 [toy, poodl, fur, thin, fall, one, spot, back, ]  \n",
       "5892                                                       [dog, want, let, everi, night, middl, night, around, year, old, wonder, hous, train, like, never, accid, ever, new, annoy, habit, start, within, past, coupl, month, alway, let, go, bed, around, pm, last, meal, usual, around, pm, water, typic, empti, toward, even, fill, back, potti, incessantli, whine, anxious, walk, around, bed, let, recommend]  \n",
       "5893  [dog, get, spay, question, dog, get, spay, wednesday, one, dog, year, old, almost, year, old, nervou, procedur, know, routin, better, long, term, plan, spay, occur, work, week, abl, care, year, old, black, mouth, cur, year, old, black, lab, neither, health, issu, awar, pretti, activ, seem, happi, etc, advic, aftercar, step, come, hous, step, home, walk, updown, step, go, peepoop, outsid, potti...  \n",
       "5894                                                                                       [pup, chew, everyth, walk, month, old, pup, tri, chew, everyth, walk, pinecon, branch, rock, grass, etc, tip, improv, googl, million, thing, say, one, thing, could, boredom, whole, point, walk, get, physic, activ, even, make, far, walk, lay, chew, grass, tri, food, puzzl, play, insid, walk, boredom, still, alway]  "
      ]
     },
     "execution_count": 124,
     "metadata": {},
     "output_type": "execute_result"
    }
   ],
   "source": [
    "dog_data[['full_content_dog_nostop','full_content_dog_stem']].tail()"
   ]
  },
  {
   "cell_type": "markdown",
   "metadata": {},
   "source": [
    "#### Lemmatisation"
   ]
  },
  {
   "cell_type": "code",
   "execution_count": 125,
   "metadata": {},
   "outputs": [],
   "source": [
    "wn = nltk.WordNetLemmatizer()"
   ]
  },
  {
   "cell_type": "code",
   "execution_count": 126,
   "metadata": {},
   "outputs": [],
   "source": [
    "# return list of all lemmatized words for their corresponding words in tokenized_text\n",
    "def lemmatizing(tokenized_text):\n",
    "    text = [wn.lemmatize(word) for word in tokenized_text]\n",
    "    return text\n",
    "\n",
    "# apply lemmatisation to cat and dog data\n",
    "cat_data['full_content_cat_lem'] = cat_data['full_content_cat_nostop'].apply(lambda x: lemmatizing(x))\n",
    "dog_data['full_content_dog_lem'] = dog_data['full_content_dog_nostop'].apply(lambda x: lemmatizing(x))"
   ]
  },
  {
   "cell_type": "code",
   "execution_count": 127,
   "metadata": {},
   "outputs": [
    {
     "data": {
      "text/html": [
       "<div>\n",
       "<style scoped>\n",
       "    .dataframe tbody tr th:only-of-type {\n",
       "        vertical-align: middle;\n",
       "    }\n",
       "\n",
       "    .dataframe tbody tr th {\n",
       "        vertical-align: top;\n",
       "    }\n",
       "\n",
       "    .dataframe thead th {\n",
       "        text-align: right;\n",
       "    }\n",
       "</style>\n",
       "<table border=\"1\" class=\"dataframe\">\n",
       "  <thead>\n",
       "    <tr style=\"text-align: right;\">\n",
       "      <th></th>\n",
       "      <th>full_content_cat_nostop</th>\n",
       "      <th>full_content_cat_lem</th>\n",
       "    </tr>\n",
       "  </thead>\n",
       "  <tbody>\n",
       "    <tr>\n",
       "      <th>5927</th>\n",
       "      <td>[take, cat, hello, everyone, one, brothers, friend, cant, take, care, another, cat, wish, give, someone, really, want, cat, question, take, cat, even, tho, still, live, parents, garden, backyard, cat, wander, around, stuff, thing, wait, contract, work, take, flat, garden, regular, flat, wondering, bother, cat, change, environment, like, tough, adapt, new, style, life, wait, till, get, flat, ok...</td>\n",
       "      <td>[take, cat, hello, everyone, one, brother, friend, cant, take, care, another, cat, wish, give, someone, really, want, cat, question, take, cat, even, tho, still, live, parent, garden, backyard, cat, wander, around, stuff, thing, wait, contract, work, take, flat, garden, regular, flat, wondering, bother, cat, change, environment, like, tough, adapt, new, style, life, wait, till, get, flat, ok, ...</td>\n",
       "    </tr>\n",
       "    <tr>\n",
       "      <th>5928</th>\n",
       "      <td>[got, new, kitten, help, get, along, dog]</td>\n",
       "      <td>[got, new, kitten, help, get, along, dog]</td>\n",
       "    </tr>\n",
       "    <tr>\n",
       "      <th>5929</th>\n",
       "      <td>[teenager, troubles]</td>\n",
       "      <td>[teenager, trouble]</td>\n",
       "    </tr>\n",
       "    <tr>\n",
       "      <th>5930</th>\n",
       "      <td>[food, sterilized, cats, kitten, recently, sterilized, months, old, worth, transferring, food, sterilized, cats, still, kitten, worth, continuing, feed, food, kittens, im, feeding, blue, buffalo, healthy, growth, natural, kitten, food]</td>\n",
       "      <td>[food, sterilized, cat, kitten, recently, sterilized, month, old, worth, transferring, food, sterilized, cat, still, kitten, worth, continuing, feed, food, kitten, im, feeding, blue, buffalo, healthy, growth, natural, kitten, food]</td>\n",
       "    </tr>\n",
       "    <tr>\n",
       "      <th>5931</th>\n",
       "      <td>[cat, acting, anxious, getting, new, kitten, got, new, kitten, month, ago, introduced, cat, year, old, still, young, correct, introduction, separating, swapping, scents, eating, near, eachother, etc, everything, going, really, well, started, playing, time, licking, eachother, seemed, best, buds, suddenly, older, cat, hissing, time, growling, never, playing, weird, thing, still, catch, napping,...</td>\n",
       "      <td>[cat, acting, anxious, getting, new, kitten, got, new, kitten, month, ago, introduced, cat, year, old, still, young, correct, introduction, separating, swapping, scent, eating, near, eachother, etc, everything, going, really, well, started, playing, time, licking, eachother, seemed, best, bud, suddenly, older, cat, hissing, time, growling, never, playing, weird, thing, still, catch, napping, n...</td>\n",
       "    </tr>\n",
       "  </tbody>\n",
       "</table>\n",
       "</div>"
      ],
      "text/plain": [
       "                                                                                                                                                                                                                                                                                                                                                                                              full_content_cat_nostop  \\\n",
       "5927  [take, cat, hello, everyone, one, brothers, friend, cant, take, care, another, cat, wish, give, someone, really, want, cat, question, take, cat, even, tho, still, live, parents, garden, backyard, cat, wander, around, stuff, thing, wait, contract, work, take, flat, garden, regular, flat, wondering, bother, cat, change, environment, like, tough, adapt, new, style, life, wait, till, get, flat, ok...   \n",
       "5928                                                                                                                                                                                                                                                                                                                                                                        [got, new, kitten, help, get, along, dog]   \n",
       "5929                                                                                                                                                                                                                                                                                                                                                                                             [teenager, troubles]   \n",
       "5930                                                                                                                                                                      [food, sterilized, cats, kitten, recently, sterilized, months, old, worth, transferring, food, sterilized, cats, still, kitten, worth, continuing, feed, food, kittens, im, feeding, blue, buffalo, healthy, growth, natural, kitten, food]   \n",
       "5931  [cat, acting, anxious, getting, new, kitten, got, new, kitten, month, ago, introduced, cat, year, old, still, young, correct, introduction, separating, swapping, scents, eating, near, eachother, etc, everything, going, really, well, started, playing, time, licking, eachother, seemed, best, buds, suddenly, older, cat, hissing, time, growling, never, playing, weird, thing, still, catch, napping,...   \n",
       "\n",
       "                                                                                                                                                                                                                                                                                                                                                                                                 full_content_cat_lem  \n",
       "5927  [take, cat, hello, everyone, one, brother, friend, cant, take, care, another, cat, wish, give, someone, really, want, cat, question, take, cat, even, tho, still, live, parent, garden, backyard, cat, wander, around, stuff, thing, wait, contract, work, take, flat, garden, regular, flat, wondering, bother, cat, change, environment, like, tough, adapt, new, style, life, wait, till, get, flat, ok, ...  \n",
       "5928                                                                                                                                                                                                                                                                                                                                                                        [got, new, kitten, help, get, along, dog]  \n",
       "5929                                                                                                                                                                                                                                                                                                                                                                                              [teenager, trouble]  \n",
       "5930                                                                                                                                                                          [food, sterilized, cat, kitten, recently, sterilized, month, old, worth, transferring, food, sterilized, cat, still, kitten, worth, continuing, feed, food, kitten, im, feeding, blue, buffalo, healthy, growth, natural, kitten, food]  \n",
       "5931  [cat, acting, anxious, getting, new, kitten, got, new, kitten, month, ago, introduced, cat, year, old, still, young, correct, introduction, separating, swapping, scent, eating, near, eachother, etc, everything, going, really, well, started, playing, time, licking, eachother, seemed, best, bud, suddenly, older, cat, hissing, time, growling, never, playing, weird, thing, still, catch, napping, n...  "
      ]
     },
     "execution_count": 127,
     "metadata": {},
     "output_type": "execute_result"
    }
   ],
   "source": [
    "cat_data[['full_content_cat_nostop','full_content_cat_lem']].tail()"
   ]
  },
  {
   "cell_type": "code",
   "execution_count": 128,
   "metadata": {},
   "outputs": [
    {
     "data": {
      "text/html": [
       "<div>\n",
       "<style scoped>\n",
       "    .dataframe tbody tr th:only-of-type {\n",
       "        vertical-align: middle;\n",
       "    }\n",
       "\n",
       "    .dataframe tbody tr th {\n",
       "        vertical-align: top;\n",
       "    }\n",
       "\n",
       "    .dataframe thead th {\n",
       "        text-align: right;\n",
       "    }\n",
       "</style>\n",
       "<table border=\"1\" class=\"dataframe\">\n",
       "  <thead>\n",
       "    <tr style=\"text-align: right;\">\n",
       "      <th></th>\n",
       "      <th>full_content_dog_nostop</th>\n",
       "      <th>full_content_dog_lem</th>\n",
       "    </tr>\n",
       "  </thead>\n",
       "  <tbody>\n",
       "    <tr>\n",
       "      <th>5890</th>\n",
       "      <td>[dog, lost, stomach, chest, hair, year, old, french, bulldog, lost, hair, since, three, months, ago, know, due, stress, got, new, puppy, exactly, three, months, ago, hair, back, due, possible, medical, illness, due, age, took, vet, tests, came, normal, asked, xray, look, tumors, dr, knows, ultrasounds, perform, test, worried, put, diet, increased, activity, lost, pounds, comparison, least, yea...</td>\n",
       "      <td>[dog, lost, stomach, chest, hair, year, old, french, bulldog, lost, hair, since, three, month, ago, know, due, stress, got, new, puppy, exactly, three, month, ago, hair, back, due, possible, medical, illness, due, age, took, vet, test, came, normal, asked, xray, look, tumor, dr, know, ultrasound, perform, test, worried, put, diet, increased, activity, lost, pound, comparison, least, year, back...</td>\n",
       "    </tr>\n",
       "    <tr>\n",
       "      <th>5891</th>\n",
       "      <td>[toy, poodle, fur, thinning, falling, one, spot, back, ]</td>\n",
       "      <td>[toy, poodle, fur, thinning, falling, one, spot, back, ]</td>\n",
       "    </tr>\n",
       "    <tr>\n",
       "      <th>5892</th>\n",
       "      <td>[dog, wants, let, every, night, middle, night, around, years, old, wonderfully, house, trained, like, never, accident, ever, new, annoying, habit, started, within, past, couple, months, always, let, go, bed, around, pm, last, meal, usually, around, pm, water, typically, empty, towards, evening, fill, back, potty, incessantly, whine, anxiously, walk, around, bed, let, recommendations]</td>\n",
       "      <td>[dog, want, let, every, night, middle, night, around, year, old, wonderfully, house, trained, like, never, accident, ever, new, annoying, habit, started, within, past, couple, month, always, let, go, bed, around, pm, last, meal, usually, around, pm, water, typically, empty, towards, evening, fill, back, potty, incessantly, whine, anxiously, walk, around, bed, let, recommendation]</td>\n",
       "    </tr>\n",
       "    <tr>\n",
       "      <th>5893</th>\n",
       "      <td>[dogs, getting, spayed, questions, dogs, getting, spayed, wednesday, one, dog, years, old, almost, years, old, nervous, procedure, know, routine, better, long, term, planned, spay, occur, work, week, able, care, year, old, black, mouth, cur, year, old, black, lab, neither, health, issues, aware, pretty, active, seem, happy, etc, advice, aftercare, steps, come, house, steps, home, walk, updown,...</td>\n",
       "      <td>[dog, getting, spayed, question, dog, getting, spayed, wednesday, one, dog, year, old, almost, year, old, nervous, procedure, know, routine, better, long, term, planned, spay, occur, work, week, able, care, year, old, black, mouth, cur, year, old, black, lab, neither, health, issue, aware, pretty, active, seem, happy, etc, advice, aftercare, step, come, house, step, home, walk, updown, step, g...</td>\n",
       "    </tr>\n",
       "    <tr>\n",
       "      <th>5894</th>\n",
       "      <td>[pup, chews, everything, walks, month, old, pup, tries, chews, everything, walks, pinecones, branches, rocks, grass, etc, tips, improve, googled, million, things, say, one, thing, could, boredom, whole, point, walk, get, physical, activity, even, make, far, walk, lays, chews, grass, tried, food, puzzles, play, inside, walk, boredom, still, always]</td>\n",
       "      <td>[pup, chew, everything, walk, month, old, pup, try, chew, everything, walk, pinecone, branch, rock, grass, etc, tip, improve, googled, million, thing, say, one, thing, could, boredom, whole, point, walk, get, physical, activity, even, make, far, walk, lay, chew, grass, tried, food, puzzle, play, inside, walk, boredom, still, always]</td>\n",
       "    </tr>\n",
       "  </tbody>\n",
       "</table>\n",
       "</div>"
      ],
      "text/plain": [
       "                                                                                                                                                                                                                                                                                                                                                                                              full_content_dog_nostop  \\\n",
       "5890  [dog, lost, stomach, chest, hair, year, old, french, bulldog, lost, hair, since, three, months, ago, know, due, stress, got, new, puppy, exactly, three, months, ago, hair, back, due, possible, medical, illness, due, age, took, vet, tests, came, normal, asked, xray, look, tumors, dr, knows, ultrasounds, perform, test, worried, put, diet, increased, activity, lost, pounds, comparison, least, yea...   \n",
       "5891                                                                                                                                                                                                                                                                                                                                                         [toy, poodle, fur, thinning, falling, one, spot, back, ]   \n",
       "5892               [dog, wants, let, every, night, middle, night, around, years, old, wonderfully, house, trained, like, never, accident, ever, new, annoying, habit, started, within, past, couple, months, always, let, go, bed, around, pm, last, meal, usually, around, pm, water, typically, empty, towards, evening, fill, back, potty, incessantly, whine, anxiously, walk, around, bed, let, recommendations]   \n",
       "5893  [dogs, getting, spayed, questions, dogs, getting, spayed, wednesday, one, dog, years, old, almost, years, old, nervous, procedure, know, routine, better, long, term, planned, spay, occur, work, week, able, care, year, old, black, mouth, cur, year, old, black, lab, neither, health, issues, aware, pretty, active, seem, happy, etc, advice, aftercare, steps, come, house, steps, home, walk, updown,...   \n",
       "5894                                                    [pup, chews, everything, walks, month, old, pup, tries, chews, everything, walks, pinecones, branches, rocks, grass, etc, tips, improve, googled, million, things, say, one, thing, could, boredom, whole, point, walk, get, physical, activity, even, make, far, walk, lays, chews, grass, tried, food, puzzles, play, inside, walk, boredom, still, always]   \n",
       "\n",
       "                                                                                                                                                                                                                                                                                                                                                                                                 full_content_dog_lem  \n",
       "5890  [dog, lost, stomach, chest, hair, year, old, french, bulldog, lost, hair, since, three, month, ago, know, due, stress, got, new, puppy, exactly, three, month, ago, hair, back, due, possible, medical, illness, due, age, took, vet, test, came, normal, asked, xray, look, tumor, dr, know, ultrasound, perform, test, worried, put, diet, increased, activity, lost, pound, comparison, least, year, back...  \n",
       "5891                                                                                                                                                                                                                                                                                                                                                         [toy, poodle, fur, thinning, falling, one, spot, back, ]  \n",
       "5892                   [dog, want, let, every, night, middle, night, around, year, old, wonderfully, house, trained, like, never, accident, ever, new, annoying, habit, started, within, past, couple, month, always, let, go, bed, around, pm, last, meal, usually, around, pm, water, typically, empty, towards, evening, fill, back, potty, incessantly, whine, anxiously, walk, around, bed, let, recommendation]  \n",
       "5893  [dog, getting, spayed, question, dog, getting, spayed, wednesday, one, dog, year, old, almost, year, old, nervous, procedure, know, routine, better, long, term, planned, spay, occur, work, week, able, care, year, old, black, mouth, cur, year, old, black, lab, neither, health, issue, aware, pretty, active, seem, happy, etc, advice, aftercare, step, come, house, step, home, walk, updown, step, g...  \n",
       "5894                                                                   [pup, chew, everything, walk, month, old, pup, try, chew, everything, walk, pinecone, branch, rock, grass, etc, tip, improve, googled, million, thing, say, one, thing, could, boredom, whole, point, walk, get, physical, activity, even, make, far, walk, lay, chew, grass, tried, food, puzzle, play, inside, walk, boredom, still, always]  "
      ]
     },
     "execution_count": 128,
     "metadata": {},
     "output_type": "execute_result"
    }
   ],
   "source": [
    "dog_data[['full_content_dog_nostop','full_content_dog_lem']].tail()"
   ]
  },
  {
   "cell_type": "markdown",
   "metadata": {},
   "source": [
    "#### Remove Common Words for Both r/CatAdvice and r/DogAdvice"
   ]
  },
  {
   "cell_type": "markdown",
   "metadata": {},
   "source": [
    "Keywords such as 'cat', 'dog' related to the categories of the subreddits were removed as the intention is to build a predition model based on freetext inputed into the chatbot. In addition, the common words found in both subreddits (e.g. vet, veterinarian, month, year) are listed in the set of codes below. After looking at the data, these words were used frequently in both topics. Having them in the dataset for both categories would reduce the differences between them and ultimately reduce the ability of the model to correctly predict the topic based on the word(s) fed into the chatbot."
   ]
  },
  {
   "cell_type": "code",
   "execution_count": 143,
   "metadata": {},
   "outputs": [],
   "source": [
    "# Words related to the categories, 'cat' and 'dog', and words that are common in both categories\n",
    "removal_list = ['cat', 'cats', 'kitten', 'kittens', 'kitty', 'dog', 'dogs', 'pup', 'puppy', 'vet', 'veterinarian', 'month', 'mth', 'year', 'yr', 'old']\n",
    "\n",
    "# retain and store word in \"text\" if it is not found in removal_list\n",
    "def remove_words(tokenized_list):\n",
    "    text = [word for word in tokenized_list if word not in removal_list]\n",
    "    return text\n",
    "\n",
    "#remove stopwords for cat and dog data sets\n",
    "cat_data['full_content_cat_rm_com_wds'] = cat_data['full_content_cat_lem'].apply(lambda x: remove_words(x))\n",
    "dog_data['full_content_dog_rm_com_wds'] = dog_data['full_content_dog_lem'].apply(lambda x: remove_words(x))"
   ]
  },
  {
   "cell_type": "code",
   "execution_count": 144,
   "metadata": {},
   "outputs": [
    {
     "data": {
      "text/html": [
       "<div>\n",
       "<style scoped>\n",
       "    .dataframe tbody tr th:only-of-type {\n",
       "        vertical-align: middle;\n",
       "    }\n",
       "\n",
       "    .dataframe tbody tr th {\n",
       "        vertical-align: top;\n",
       "    }\n",
       "\n",
       "    .dataframe thead th {\n",
       "        text-align: right;\n",
       "    }\n",
       "</style>\n",
       "<table border=\"1\" class=\"dataframe\">\n",
       "  <thead>\n",
       "    <tr style=\"text-align: right;\">\n",
       "      <th></th>\n",
       "      <th>full_content_cat_lem</th>\n",
       "      <th>full_content_cat_rm_com_wds</th>\n",
       "    </tr>\n",
       "  </thead>\n",
       "  <tbody>\n",
       "    <tr>\n",
       "      <th>5927</th>\n",
       "      <td>[take, cat, hello, everyone, one, brother, friend, cant, take, care, another, cat, wish, give, someone, really, want, cat, question, take, cat, even, tho, still, live, parent, garden, backyard, cat, wander, around, stuff, thing, wait, contract, work, take, flat, garden, regular, flat, wondering, bother, cat, change, environment, like, tough, adapt, new, style, life, wait, till, get, flat, ok, ...</td>\n",
       "      <td>[take, hello, everyone, one, brother, friend, cant, take, care, another, wish, give, someone, really, want, question, take, even, tho, still, live, parent, garden, backyard, wander, around, stuff, thing, wait, contract, work, take, flat, garden, regular, flat, wondering, bother, change, environment, like, tough, adapt, new, style, life, wait, till, get, flat, ok, take, could, also, lock, door,...</td>\n",
       "    </tr>\n",
       "    <tr>\n",
       "      <th>5928</th>\n",
       "      <td>[got, new, kitten, help, get, along, dog]</td>\n",
       "      <td>[got, new, help, get, along]</td>\n",
       "    </tr>\n",
       "    <tr>\n",
       "      <th>5929</th>\n",
       "      <td>[teenager, trouble]</td>\n",
       "      <td>[teenager, trouble]</td>\n",
       "    </tr>\n",
       "    <tr>\n",
       "      <th>5930</th>\n",
       "      <td>[food, sterilized, cat, kitten, recently, sterilized, month, old, worth, transferring, food, sterilized, cat, still, kitten, worth, continuing, feed, food, kitten, im, feeding, blue, buffalo, healthy, growth, natural, kitten, food]</td>\n",
       "      <td>[food, sterilized, recently, sterilized, worth, transferring, food, sterilized, still, worth, continuing, feed, food, im, feeding, blue, buffalo, healthy, growth, natural, food]</td>\n",
       "    </tr>\n",
       "    <tr>\n",
       "      <th>5931</th>\n",
       "      <td>[cat, acting, anxious, getting, new, kitten, got, new, kitten, month, ago, introduced, cat, year, old, still, young, correct, introduction, separating, swapping, scent, eating, near, eachother, etc, everything, going, really, well, started, playing, time, licking, eachother, seemed, best, bud, suddenly, older, cat, hissing, time, growling, never, playing, weird, thing, still, catch, napping, n...</td>\n",
       "      <td>[acting, anxious, getting, new, got, new, ago, introduced, still, young, correct, introduction, separating, swapping, scent, eating, near, eachother, etc, everything, going, really, well, started, playing, time, licking, eachother, seemed, best, bud, suddenly, older, hissing, time, growling, never, playing, weird, thing, still, catch, napping, new, licking, sometimes, like, hate, constantly, h...</td>\n",
       "    </tr>\n",
       "  </tbody>\n",
       "</table>\n",
       "</div>"
      ],
      "text/plain": [
       "                                                                                                                                                                                                                                                                                                                                                                                                 full_content_cat_lem  \\\n",
       "5927  [take, cat, hello, everyone, one, brother, friend, cant, take, care, another, cat, wish, give, someone, really, want, cat, question, take, cat, even, tho, still, live, parent, garden, backyard, cat, wander, around, stuff, thing, wait, contract, work, take, flat, garden, regular, flat, wondering, bother, cat, change, environment, like, tough, adapt, new, style, life, wait, till, get, flat, ok, ...   \n",
       "5928                                                                                                                                                                                                                                                                                                                                                                        [got, new, kitten, help, get, along, dog]   \n",
       "5929                                                                                                                                                                                                                                                                                                                                                                                              [teenager, trouble]   \n",
       "5930                                                                                                                                                                          [food, sterilized, cat, kitten, recently, sterilized, month, old, worth, transferring, food, sterilized, cat, still, kitten, worth, continuing, feed, food, kitten, im, feeding, blue, buffalo, healthy, growth, natural, kitten, food]   \n",
       "5931  [cat, acting, anxious, getting, new, kitten, got, new, kitten, month, ago, introduced, cat, year, old, still, young, correct, introduction, separating, swapping, scent, eating, near, eachother, etc, everything, going, really, well, started, playing, time, licking, eachother, seemed, best, bud, suddenly, older, cat, hissing, time, growling, never, playing, weird, thing, still, catch, napping, n...   \n",
       "\n",
       "                                                                                                                                                                                                                                                                                                                                                                                          full_content_cat_rm_com_wds  \n",
       "5927  [take, hello, everyone, one, brother, friend, cant, take, care, another, wish, give, someone, really, want, question, take, even, tho, still, live, parent, garden, backyard, wander, around, stuff, thing, wait, contract, work, take, flat, garden, regular, flat, wondering, bother, change, environment, like, tough, adapt, new, style, life, wait, till, get, flat, ok, take, could, also, lock, door,...  \n",
       "5928                                                                                                                                                                                                                                                                                                                                                                                     [got, new, help, get, along]  \n",
       "5929                                                                                                                                                                                                                                                                                                                                                                                              [teenager, trouble]  \n",
       "5930                                                                                                                                                                                                                                [food, sterilized, recently, sterilized, worth, transferring, food, sterilized, still, worth, continuing, feed, food, im, feeding, blue, buffalo, healthy, growth, natural, food]  \n",
       "5931  [acting, anxious, getting, new, got, new, ago, introduced, still, young, correct, introduction, separating, swapping, scent, eating, near, eachother, etc, everything, going, really, well, started, playing, time, licking, eachother, seemed, best, bud, suddenly, older, hissing, time, growling, never, playing, weird, thing, still, catch, napping, new, licking, sometimes, like, hate, constantly, h...  "
      ]
     },
     "execution_count": 144,
     "metadata": {},
     "output_type": "execute_result"
    }
   ],
   "source": [
    "cat_data[['full_content_cat_lem','full_content_cat_rm_com_wds']].tail()"
   ]
  },
  {
   "cell_type": "code",
   "execution_count": 145,
   "metadata": {},
   "outputs": [
    {
     "data": {
      "text/html": [
       "<div>\n",
       "<style scoped>\n",
       "    .dataframe tbody tr th:only-of-type {\n",
       "        vertical-align: middle;\n",
       "    }\n",
       "\n",
       "    .dataframe tbody tr th {\n",
       "        vertical-align: top;\n",
       "    }\n",
       "\n",
       "    .dataframe thead th {\n",
       "        text-align: right;\n",
       "    }\n",
       "</style>\n",
       "<table border=\"1\" class=\"dataframe\">\n",
       "  <thead>\n",
       "    <tr style=\"text-align: right;\">\n",
       "      <th></th>\n",
       "      <th>full_content_dog_lem</th>\n",
       "      <th>full_content_dog_rm_com_wds</th>\n",
       "    </tr>\n",
       "  </thead>\n",
       "  <tbody>\n",
       "    <tr>\n",
       "      <th>5890</th>\n",
       "      <td>[dog, lost, stomach, chest, hair, year, old, french, bulldog, lost, hair, since, three, month, ago, know, due, stress, got, new, puppy, exactly, three, month, ago, hair, back, due, possible, medical, illness, due, age, took, vet, test, came, normal, asked, xray, look, tumor, dr, know, ultrasound, perform, test, worried, put, diet, increased, activity, lost, pound, comparison, least, year, back...</td>\n",
       "      <td>[lost, stomach, chest, hair, french, bulldog, lost, hair, since, three, ago, know, due, stress, got, new, exactly, three, ago, hair, back, due, possible, medical, illness, due, age, took, test, came, normal, asked, xray, look, tumor, dr, know, ultrasound, perform, test, worried, put, diet, increased, activity, lost, pound, comparison, least, back, weight, rib, wide, sudden, alopecia, plus, wid...</td>\n",
       "    </tr>\n",
       "    <tr>\n",
       "      <th>5891</th>\n",
       "      <td>[toy, poodle, fur, thinning, falling, one, spot, back, ]</td>\n",
       "      <td>[toy, poodle, fur, thinning, falling, one, spot, back, ]</td>\n",
       "    </tr>\n",
       "    <tr>\n",
       "      <th>5892</th>\n",
       "      <td>[dog, want, let, every, night, middle, night, around, year, old, wonderfully, house, trained, like, never, accident, ever, new, annoying, habit, started, within, past, couple, month, always, let, go, bed, around, pm, last, meal, usually, around, pm, water, typically, empty, towards, evening, fill, back, potty, incessantly, whine, anxiously, walk, around, bed, let, recommendation]</td>\n",
       "      <td>[want, let, every, night, middle, night, around, wonderfully, house, trained, like, never, accident, ever, new, annoying, habit, started, within, past, couple, always, let, go, bed, around, pm, last, meal, usually, around, pm, water, typically, empty, towards, evening, fill, back, potty, incessantly, whine, anxiously, walk, around, bed, let, recommendation]</td>\n",
       "    </tr>\n",
       "    <tr>\n",
       "      <th>5893</th>\n",
       "      <td>[dog, getting, spayed, question, dog, getting, spayed, wednesday, one, dog, year, old, almost, year, old, nervous, procedure, know, routine, better, long, term, planned, spay, occur, work, week, able, care, year, old, black, mouth, cur, year, old, black, lab, neither, health, issue, aware, pretty, active, seem, happy, etc, advice, aftercare, step, come, house, step, home, walk, updown, step, g...</td>\n",
       "      <td>[getting, spayed, question, getting, spayed, wednesday, one, almost, nervous, procedure, know, routine, better, long, term, planned, spay, occur, work, week, able, care, black, mouth, cur, black, lab, neither, health, issue, aware, pretty, active, seem, happy, etc, advice, aftercare, step, come, house, step, home, walk, updown, step, go, peepoop, outside, potty, pad, first, day, get, car, proc...</td>\n",
       "    </tr>\n",
       "    <tr>\n",
       "      <th>5894</th>\n",
       "      <td>[pup, chew, everything, walk, month, old, pup, try, chew, everything, walk, pinecone, branch, rock, grass, etc, tip, improve, googled, million, thing, say, one, thing, could, boredom, whole, point, walk, get, physical, activity, even, make, far, walk, lay, chew, grass, tried, food, puzzle, play, inside, walk, boredom, still, always]</td>\n",
       "      <td>[chew, everything, walk, try, chew, everything, walk, pinecone, branch, rock, grass, etc, tip, improve, googled, million, thing, say, one, thing, could, boredom, whole, point, walk, get, physical, activity, even, make, far, walk, lay, chew, grass, tried, food, puzzle, play, inside, walk, boredom, still, always]</td>\n",
       "    </tr>\n",
       "  </tbody>\n",
       "</table>\n",
       "</div>"
      ],
      "text/plain": [
       "                                                                                                                                                                                                                                                                                                                                                                                                 full_content_dog_lem  \\\n",
       "5890  [dog, lost, stomach, chest, hair, year, old, french, bulldog, lost, hair, since, three, month, ago, know, due, stress, got, new, puppy, exactly, three, month, ago, hair, back, due, possible, medical, illness, due, age, took, vet, test, came, normal, asked, xray, look, tumor, dr, know, ultrasound, perform, test, worried, put, diet, increased, activity, lost, pound, comparison, least, year, back...   \n",
       "5891                                                                                                                                                                                                                                                                                                                                                         [toy, poodle, fur, thinning, falling, one, spot, back, ]   \n",
       "5892                   [dog, want, let, every, night, middle, night, around, year, old, wonderfully, house, trained, like, never, accident, ever, new, annoying, habit, started, within, past, couple, month, always, let, go, bed, around, pm, last, meal, usually, around, pm, water, typically, empty, towards, evening, fill, back, potty, incessantly, whine, anxiously, walk, around, bed, let, recommendation]   \n",
       "5893  [dog, getting, spayed, question, dog, getting, spayed, wednesday, one, dog, year, old, almost, year, old, nervous, procedure, know, routine, better, long, term, planned, spay, occur, work, week, able, care, year, old, black, mouth, cur, year, old, black, lab, neither, health, issue, aware, pretty, active, seem, happy, etc, advice, aftercare, step, come, house, step, home, walk, updown, step, g...   \n",
       "5894                                                                   [pup, chew, everything, walk, month, old, pup, try, chew, everything, walk, pinecone, branch, rock, grass, etc, tip, improve, googled, million, thing, say, one, thing, could, boredom, whole, point, walk, get, physical, activity, even, make, far, walk, lay, chew, grass, tried, food, puzzle, play, inside, walk, boredom, still, always]   \n",
       "\n",
       "                                                                                                                                                                                                                                                                                                                                                                                          full_content_dog_rm_com_wds  \n",
       "5890  [lost, stomach, chest, hair, french, bulldog, lost, hair, since, three, ago, know, due, stress, got, new, exactly, three, ago, hair, back, due, possible, medical, illness, due, age, took, test, came, normal, asked, xray, look, tumor, dr, know, ultrasound, perform, test, worried, put, diet, increased, activity, lost, pound, comparison, least, back, weight, rib, wide, sudden, alopecia, plus, wid...  \n",
       "5891                                                                                                                                                                                                                                                                                                                                                         [toy, poodle, fur, thinning, falling, one, spot, back, ]  \n",
       "5892                                          [want, let, every, night, middle, night, around, wonderfully, house, trained, like, never, accident, ever, new, annoying, habit, started, within, past, couple, always, let, go, bed, around, pm, last, meal, usually, around, pm, water, typically, empty, towards, evening, fill, back, potty, incessantly, whine, anxiously, walk, around, bed, let, recommendation]  \n",
       "5893  [getting, spayed, question, getting, spayed, wednesday, one, almost, nervous, procedure, know, routine, better, long, term, planned, spay, occur, work, week, able, care, black, mouth, cur, black, lab, neither, health, issue, aware, pretty, active, seem, happy, etc, advice, aftercare, step, come, house, step, home, walk, updown, step, go, peepoop, outside, potty, pad, first, day, get, car, proc...  \n",
       "5894                                                                                         [chew, everything, walk, try, chew, everything, walk, pinecone, branch, rock, grass, etc, tip, improve, googled, million, thing, say, one, thing, could, boredom, whole, point, walk, get, physical, activity, even, make, far, walk, lay, chew, grass, tried, food, puzzle, play, inside, walk, boredom, still, always]  "
      ]
     },
     "execution_count": 145,
     "metadata": {},
     "output_type": "execute_result"
    }
   ],
   "source": [
    "dog_data[['full_content_dog_lem','full_content_dog_rm_com_wds']].tail()"
   ]
  },
  {
   "cell_type": "markdown",
   "metadata": {},
   "source": [
    "#### Labelling of Data & Appending Cat and Dog Dataframes"
   ]
  },
  {
   "cell_type": "code",
   "execution_count": 146,
   "metadata": {},
   "outputs": [],
   "source": [
    "# create a new data frame for each stage of text processing\n",
    "# original text = title + selftext(if any)\n",
    "df_cat = pd.DataFrame().assign(original_text=cat_data['full_content_cat'], removed_punc=cat_data['full_content_cat_punc'], \n",
    "                                    tokenized=cat_data['full_content_cat_token'],  removed_stop=cat_data['full_content_cat_nostop'],\n",
    "                                    stem=cat_data['full_content_cat_stem'], lem=cat_data['full_content_cat_lem'], rm_com_words=cat_data['full_content_cat_rm_com_wds'])\n",
    "\n",
    "df_dog = pd.DataFrame().assign(original_text=dog_data['full_content_dog'], removed_punc=dog_data['full_content_dog_punc'], \n",
    "                                    tokenized=dog_data['full_content_dog_token'],  removed_stop=dog_data['full_content_dog_nostop'],\n",
    "                                    stem=dog_data['full_content_dog_stem'], lem=dog_data['full_content_dog_lem'], rm_com_words=dog_data['full_content_dog_rm_com_wds'])"
   ]
  },
  {
   "cell_type": "code",
   "execution_count": 147,
   "metadata": {},
   "outputs": [],
   "source": [
    "# labelling of data for 'cat?': cat == 1; dog == 0\n",
    "df_cat['cat?'] = None\n",
    "df_cat.loc[:,'cat?'] = 1\n",
    "\n",
    "df_dog['cat?'] = None\n",
    "df_dog.loc[:,'cat?'] = 0"
   ]
  },
  {
   "cell_type": "code",
   "execution_count": 148,
   "metadata": {},
   "outputs": [
    {
     "name": "stderr",
     "output_type": "stream",
     "text": [
      "C:\\Users\\gyinh\\AppData\\Local\\Temp\\ipykernel_14660\\908103533.py:2: FutureWarning: The frame.append method is deprecated and will be removed from pandas in a future version. Use pandas.concat instead.\n",
      "  full_df = df_cat.append(df_dog)\n"
     ]
    },
    {
     "data": {
      "text/html": [
       "<div>\n",
       "<style scoped>\n",
       "    .dataframe tbody tr th:only-of-type {\n",
       "        vertical-align: middle;\n",
       "    }\n",
       "\n",
       "    .dataframe tbody tr th {\n",
       "        vertical-align: top;\n",
       "    }\n",
       "\n",
       "    .dataframe thead th {\n",
       "        text-align: right;\n",
       "    }\n",
       "</style>\n",
       "<table border=\"1\" class=\"dataframe\">\n",
       "  <thead>\n",
       "    <tr style=\"text-align: right;\">\n",
       "      <th></th>\n",
       "      <th>original_text</th>\n",
       "      <th>removed_punc</th>\n",
       "      <th>tokenized</th>\n",
       "      <th>removed_stop</th>\n",
       "      <th>stem</th>\n",
       "      <th>lem</th>\n",
       "      <th>rm_com_words</th>\n",
       "      <th>cat?</th>\n",
       "    </tr>\n",
       "  </thead>\n",
       "  <tbody>\n",
       "    <tr>\n",
       "      <th>0</th>\n",
       "      <td>Transporting cats on a . hr drive to move to a new place??? | Best way to make them comfortable? I have  cats and  carriers but I feel the carriers are a little small for such a long drive. It's fine when they go to the vet who is close. One cat is lbs the other is , we have the largest cat carriers we could find. Do they need to potty or have food/water for a long drive? Or will they be too s...</td>\n",
       "      <td>Transporting cats on a  hr drive to move to a new place  Best way to make them comfortable I have  cats and  carriers but I feel the carriers are a little small for such a long drive Its fine when they go to the vet who is close One cat is lbs the other is  we have the largest cat carriers we could find Do they need to potty or have foodwater for a long drive Or will they be too stressed to do...</td>\n",
       "      <td>[transporting, cats, on, a, hr, drive, to, move, to, a, new, place, best, way, to, make, them, comfortable, i, have, cats, and, carriers, but, i, feel, the, carriers, are, a, little, small, for, such, a, long, drive, its, fine, when, they, go, to, the, vet, who, is, close, one, cat, is, lbs, the, other, is, we, have, the, largest, cat, carriers, we, could, find, do, they, need, to, potty, or, ...</td>\n",
       "      <td>[transporting, cats, hr, drive, move, new, place, best, way, make, comfortable, cats, carriers, feel, carriers, little, small, long, drive, fine, go, vet, close, one, cat, lbs, largest, cat, carriers, could, find, need, potty, foodwater, long, drive, stressed, large, cat, scream, loud, hrs, straight, breaks, record, thus, far, starts, screaming, soon, gets, carrier, closed, people, car, especi...</td>\n",
       "      <td>[transport, cat, hr, drive, move, new, place, best, way, make, comfort, cat, carrier, feel, carrier, littl, small, long, drive, fine, go, vet, close, one, cat, lb, largest, cat, carrier, could, find, need, potti, foodwat, long, drive, stress, larg, cat, scream, loud, hr, straight, break, record, thu, far, start, scream, soon, get, carrier, close, peopl, car, especi, driver, keep, sane, calm, s...</td>\n",
       "      <td>[transporting, cat, hr, drive, move, new, place, best, way, make, comfortable, cat, carrier, feel, carrier, little, small, long, drive, fine, go, vet, close, one, cat, lb, largest, cat, carrier, could, find, need, potty, foodwater, long, drive, stressed, large, cat, scream, loud, hr, straight, break, record, thus, far, start, screaming, soon, get, carrier, closed, people, car, especially, driv...</td>\n",
       "      <td>[transporting, hr, drive, move, new, place, best, way, make, comfortable, carrier, feel, carrier, little, small, long, drive, fine, go, close, one, lb, largest, carrier, could, find, need, potty, foodwater, long, drive, stressed, large, scream, loud, hr, straight, break, record, thus, far, start, screaming, soon, get, carrier, closed, people, car, especially, driver, keep, sane, calm, screamin...</td>\n",
       "      <td>1</td>\n",
       "    </tr>\n",
       "    <tr>\n",
       "      <th>1</th>\n",
       "      <td>My cat wont eat. Vet determined he is not sick. Desperate for advice.</td>\n",
       "      <td>My cat wont eat Vet determined he is not sick Desperate for advice</td>\n",
       "      <td>[my, cat, wont, eat, vet, determined, he, is, not, sick, desperate, for, advice]</td>\n",
       "      <td>[cat, wont, eat, vet, determined, sick, desperate, advice]</td>\n",
       "      <td>[cat, wont, eat, vet, determin, sick, desper, advic]</td>\n",
       "      <td>[cat, wont, eat, vet, determined, sick, desperate, advice]</td>\n",
       "      <td>[wont, eat, determined, sick, desperate, advice]</td>\n",
       "      <td>1</td>\n",
       "    </tr>\n",
       "    <tr>\n",
       "      <th>2</th>\n",
       "      <td>Two  month old outdoor kittens, one injured one missing. Can the injured one help me find the missing one?</td>\n",
       "      <td>Two  month old outdoor kittens one injured one missing Can the injured one help me find the missing one</td>\n",
       "      <td>[two, month, old, outdoor, kittens, one, injured, one, missing, can, the, injured, one, help, me, find, the, missing, one]</td>\n",
       "      <td>[two, month, old, outdoor, kittens, one, injured, one, missing, injured, one, help, find, missing, one]</td>\n",
       "      <td>[two, month, old, outdoor, kitten, one, injur, one, miss, injur, one, help, find, miss, one]</td>\n",
       "      <td>[two, month, old, outdoor, kitten, one, injured, one, missing, injured, one, help, find, missing, one]</td>\n",
       "      <td>[two, outdoor, one, injured, one, missing, injured, one, help, find, missing, one]</td>\n",
       "      <td>1</td>\n",
       "    </tr>\n",
       "    <tr>\n",
       "      <th>3</th>\n",
       "      <td>new cat was eating but isn’t eating anymore? plus strange head shaking and scratching behaviors?</td>\n",
       "      <td>new cat was eating but isn’t eating anymore plus strange head shaking and scratching behaviors</td>\n",
       "      <td>[new, cat, was, eating, but, isn, t, eating, anymore, plus, strange, head, shaking, and, scratching, behaviors]</td>\n",
       "      <td>[new, cat, eating, eating, anymore, plus, strange, head, shaking, scratching, behaviors]</td>\n",
       "      <td>[new, cat, eat, eat, anymor, plu, strang, head, shake, scratch, behavior]</td>\n",
       "      <td>[new, cat, eating, eating, anymore, plus, strange, head, shaking, scratching, behavior]</td>\n",
       "      <td>[new, eating, eating, anymore, plus, strange, head, shaking, scratching, behavior]</td>\n",
       "      <td>1</td>\n",
       "    </tr>\n",
       "    <tr>\n",
       "      <th>4</th>\n",
       "      <td>Cat bullying? | I recently adopted an  week old kitten (Susan) &amp;amp; brought her home to my apartment. I currently live with my partner &amp;amp; his  year old cat (Fork). I did my best to take things slow but my partner is a little less… cautious than I am, so they met fairly quickly and after a bit of hissing from Fork he quietened down. \\n\\nNow, my concern is this. Fork is a big cat and he’s no...</td>\n",
       "      <td>Cat bullying  I recently adopted an  week old kitten Susan amp brought her home to my apartment I currently live with my partner amp his  year old cat Fork I did my best to take things slow but my partner is a little less… cautious than I am so they met fairly quickly and after a bit of hissing from Fork he quietened down \\n\\nNow my concern is this Fork is a big cat and he’s not well socialise...</td>\n",
       "      <td>[cat, bullying, i, recently, adopted, an, week, old, kitten, susan, amp, brought, her, home, to, my, apartment, i, currently, live, with, my, partner, amp, his, year, old, cat, fork, i, did, my, best, to, take, things, slow, but, my, partner, is, a, little, less, cautious, than, i, am, so, they, met, fairly, quickly, and, after, a, bit, of, hissing, from, fork, he, quietened, down, now, my, co...</td>\n",
       "      <td>[cat, bullying, recently, adopted, week, old, kitten, susan, amp, brought, home, apartment, currently, live, partner, amp, year, old, cat, fork, best, take, things, slow, partner, little, less, cautious, met, fairly, quickly, bit, hissing, fork, quietened, concern, fork, big, cat, well, socialised, opinion, affectionate, rarely, comes, near, us, shy, new, situations, quite, energetic, best, pl...</td>\n",
       "      <td>[cat, bulli, recent, adopt, week, old, kitten, susan, amp, brought, home, apart, current, live, partner, amp, year, old, cat, fork, best, take, thing, slow, partner, littl, less, cautiou, met, fairli, quickli, bit, hiss, fork, quieten, concern, fork, big, cat, well, socialis, opinion, affection, rare, come, near, us, shi, new, situat, quit, energet, best, play, provid, mental, stimul, never, t...</td>\n",
       "      <td>[cat, bullying, recently, adopted, week, old, kitten, susan, amp, brought, home, apartment, currently, live, partner, amp, year, old, cat, fork, best, take, thing, slow, partner, little, le, cautious, met, fairly, quickly, bit, hissing, fork, quietened, concern, fork, big, cat, well, socialised, opinion, affectionate, rarely, come, near, u, shy, new, situation, quite, energetic, best, play, pr...</td>\n",
       "      <td>[bullying, recently, adopted, week, susan, amp, brought, home, apartment, currently, live, partner, amp, fork, best, take, thing, slow, partner, little, le, cautious, met, fairly, quickly, bit, hissing, fork, quietened, concern, fork, big, well, socialised, opinion, affectionate, rarely, come, near, u, shy, new, situation, quite, energetic, best, play, provide, mental, stimulation, never, tire...</td>\n",
       "      <td>1</td>\n",
       "    </tr>\n",
       "    <tr>\n",
       "      <th>...</th>\n",
       "      <td>...</td>\n",
       "      <td>...</td>\n",
       "      <td>...</td>\n",
       "      <td>...</td>\n",
       "      <td>...</td>\n",
       "      <td>...</td>\n",
       "      <td>...</td>\n",
       "      <td>...</td>\n",
       "    </tr>\n",
       "    <tr>\n",
       "      <th>11822</th>\n",
       "      <td>Dog has lost all her stomach and chest hair. | My  year old French Bulldog has lost all her hair since three months ago. I don’t know if it’s due to stress (we got a new puppy exactly three months ago, she had all her hair back then) or due to a possible medical illness due to age. I took her to the vet and all tests came out normal, I asked for an X-Ray to look out for tumors. Dr. who knows a...</td>\n",
       "      <td>Dog has lost all her stomach and chest hair  My  year old French Bulldog has lost all her hair since three months ago I don’t know if it’s due to stress we got a new puppy exactly three months ago she had all her hair back then or due to a possible medical illness due to age I took her to the vet and all tests came out normal I asked for an XRay to look out for tumors Dr who knows about ultras...</td>\n",
       "      <td>[dog, has, lost, all, her, stomach, and, chest, hair, my, year, old, french, bulldog, has, lost, all, her, hair, since, three, months, ago, i, don, t, know, if, it, s, due, to, stress, we, got, a, new, puppy, exactly, three, months, ago, she, had, all, her, hair, back, then, or, due, to, a, possible, medical, illness, due, to, age, i, took, her, to, the, vet, and, all, tests, came, out, normal...</td>\n",
       "      <td>[dog, lost, stomach, chest, hair, year, old, french, bulldog, lost, hair, since, three, months, ago, know, due, stress, got, new, puppy, exactly, three, months, ago, hair, back, due, possible, medical, illness, due, age, took, vet, tests, came, normal, asked, xray, look, tumors, dr, knows, ultrasounds, perform, test, worried, put, diet, increased, activity, lost, pounds, comparison, least, yea...</td>\n",
       "      <td>[dog, lost, stomach, chest, hair, year, old, french, bulldog, lost, hair, sinc, three, month, ago, know, due, stress, got, new, puppi, exactli, three, month, ago, hair, back, due, possibl, medic, ill, due, age, took, vet, test, came, normal, ask, xray, look, tumor, dr, know, ultrasound, perform, test, worri, put, diet, increas, activ, lost, pound, comparison, least, year, back, weight, rib, wi...</td>\n",
       "      <td>[dog, lost, stomach, chest, hair, year, old, french, bulldog, lost, hair, since, three, month, ago, know, due, stress, got, new, puppy, exactly, three, month, ago, hair, back, due, possible, medical, illness, due, age, took, vet, test, came, normal, asked, xray, look, tumor, dr, know, ultrasound, perform, test, worried, put, diet, increased, activity, lost, pound, comparison, least, year, back...</td>\n",
       "      <td>[lost, stomach, chest, hair, french, bulldog, lost, hair, since, three, ago, know, due, stress, got, new, exactly, three, ago, hair, back, due, possible, medical, illness, due, age, took, test, came, normal, asked, xray, look, tumor, dr, know, ultrasound, perform, test, worried, put, diet, increased, activity, lost, pound, comparison, least, back, weight, rib, wide, sudden, alopecia, plus, wid...</td>\n",
       "      <td>0</td>\n",
       "    </tr>\n",
       "    <tr>\n",
       "      <th>11823</th>\n",
       "      <td>My toy poodle’s fur has been thinning and falling out in one spot on her back, what should I do? | .</td>\n",
       "      <td>My toy poodle’s fur has been thinning and falling out in one spot on her back what should I do</td>\n",
       "      <td>[my, toy, poodle, s, fur, has, been, thinning, and, falling, out, in, one, spot, on, her, back, what, should, i, do, ]</td>\n",
       "      <td>[toy, poodle, fur, thinning, falling, one, spot, back, ]</td>\n",
       "      <td>[toy, poodl, fur, thin, fall, one, spot, back, ]</td>\n",
       "      <td>[toy, poodle, fur, thinning, falling, one, spot, back, ]</td>\n",
       "      <td>[toy, poodle, fur, thinning, falling, one, spot, back, ]</td>\n",
       "      <td>0</td>\n",
       "    </tr>\n",
       "    <tr>\n",
       "      <th>11824</th>\n",
       "      <td>My dog wants to be let out every night, in the middle of the night (- am). | He’s around  years old and he’s wonderfully house trained, like never has an accident ever. This is a new (annoying) habit that has started within the past couple months. We always let him out before we go to bed (around  pm) and his last meal is usually around  pm. His water is typically empty towards the evening, so...</td>\n",
       "      <td>My dog wants to be let out every night in the middle of the night  am  He’s around  years old and he’s wonderfully house trained like never has an accident ever This is a new annoying habit that has started within the past couple months We always let him out before we go to bed around  pm and his last meal is usually around  pm His water is typically empty towards the evening so we just don’t ...</td>\n",
       "      <td>[my, dog, wants, to, be, let, out, every, night, in, the, middle, of, the, night, am, he, s, around, years, old, and, he, s, wonderfully, house, trained, like, never, has, an, accident, ever, this, is, a, new, annoying, habit, that, has, started, within, the, past, couple, months, we, always, let, him, out, before, we, go, to, bed, around, pm, and, his, last, meal, is, usually, around, pm, his...</td>\n",
       "      <td>[dog, wants, let, every, night, middle, night, around, years, old, wonderfully, house, trained, like, never, accident, ever, new, annoying, habit, started, within, past, couple, months, always, let, go, bed, around, pm, last, meal, usually, around, pm, water, typically, empty, towards, evening, fill, back, potty, incessantly, whine, anxiously, walk, around, bed, let, recommendations]</td>\n",
       "      <td>[dog, want, let, everi, night, middl, night, around, year, old, wonder, hous, train, like, never, accid, ever, new, annoy, habit, start, within, past, coupl, month, alway, let, go, bed, around, pm, last, meal, usual, around, pm, water, typic, empti, toward, even, fill, back, potti, incessantli, whine, anxious, walk, around, bed, let, recommend]</td>\n",
       "      <td>[dog, want, let, every, night, middle, night, around, year, old, wonderfully, house, trained, like, never, accident, ever, new, annoying, habit, started, within, past, couple, month, always, let, go, bed, around, pm, last, meal, usually, around, pm, water, typically, empty, towards, evening, fill, back, potty, incessantly, whine, anxiously, walk, around, bed, let, recommendation]</td>\n",
       "      <td>[want, let, every, night, middle, night, around, wonderfully, house, trained, like, never, accident, ever, new, annoying, habit, started, within, past, couple, always, let, go, bed, around, pm, last, meal, usually, around, pm, water, typically, empty, towards, evening, fill, back, potty, incessantly, whine, anxiously, walk, around, bed, let, recommendation]</td>\n",
       "      <td>0</td>\n",
       "    </tr>\n",
       "    <tr>\n",
       "      <th>11825</th>\n",
       "      <td>Dogs getting spayed… I have some questions. | Both my dogs are getting spayed on Wednesday (//). One dog is about  years old and the other is almost  years old. I’m nervous for the procedure, but I know that it is routine and better for them in the long term. I planned their spay to occur when I’ll be off from work for a week to be able to care for them. \\n\\n year old = black mouth cur \\n year...</td>\n",
       "      <td>Dogs getting spayed… I have some questions  Both my dogs are getting spayed on Wednesday  One dog is about  years old and the other is almost  years old I’m nervous for the procedure but I know that it is routine and better for them in the long term I planned their spay to occur when I’ll be off from work for a week to be able to care for them \\n\\n year old  black mouth cur \\n year old  black ...</td>\n",
       "      <td>[dogs, getting, spayed, i, have, some, questions, both, my, dogs, are, getting, spayed, on, wednesday, one, dog, is, about, years, old, and, the, other, is, almost, years, old, i, m, nervous, for, the, procedure, but, i, know, that, it, is, routine, and, better, for, them, in, the, long, term, i, planned, their, spay, to, occur, when, i, ll, be, off, from, work, for, a, week, to, be, able, to,...</td>\n",
       "      <td>[dogs, getting, spayed, questions, dogs, getting, spayed, wednesday, one, dog, years, old, almost, years, old, nervous, procedure, know, routine, better, long, term, planned, spay, occur, work, week, able, care, year, old, black, mouth, cur, year, old, black, lab, neither, health, issues, aware, pretty, active, seem, happy, etc, advice, aftercare, steps, come, house, steps, home, walk, updown,...</td>\n",
       "      <td>[dog, get, spay, question, dog, get, spay, wednesday, one, dog, year, old, almost, year, old, nervou, procedur, know, routin, better, long, term, plan, spay, occur, work, week, abl, care, year, old, black, mouth, cur, year, old, black, lab, neither, health, issu, awar, pretti, activ, seem, happi, etc, advic, aftercar, step, come, hous, step, home, walk, updown, step, go, peepoop, outsid, potti...</td>\n",
       "      <td>[dog, getting, spayed, question, dog, getting, spayed, wednesday, one, dog, year, old, almost, year, old, nervous, procedure, know, routine, better, long, term, planned, spay, occur, work, week, able, care, year, old, black, mouth, cur, year, old, black, lab, neither, health, issue, aware, pretty, active, seem, happy, etc, advice, aftercare, step, come, house, step, home, walk, updown, step, g...</td>\n",
       "      <td>[getting, spayed, question, getting, spayed, wednesday, one, almost, nervous, procedure, know, routine, better, long, term, planned, spay, occur, work, week, able, care, black, mouth, cur, black, lab, neither, health, issue, aware, pretty, active, seem, happy, etc, advice, aftercare, step, come, house, step, home, walk, updown, step, go, peepoop, outside, potty, pad, first, day, get, car, proc...</td>\n",
       "      <td>0</td>\n",
       "    </tr>\n",
       "    <tr>\n",
       "      <th>11826</th>\n",
       "      <td>Pup chews everything on walks | My  month old pup tries to chews everything on walks. Pinecones, branches, rocks, grass, etc. Any tips on how to improve it? I’ve googled a million things and they say one thing could be boredom. That’s the whole point of a walk? Get some physical activity? But he won’t even make it far on a walk and just lays down and chews grass :( I’ve tried doing food puzzle...</td>\n",
       "      <td>Pup chews everything on walks  My  month old pup tries to chews everything on walks Pinecones branches rocks grass etc Any tips on how to improve it I’ve googled a million things and they say one thing could be boredom That’s the whole point of a walk Get some physical activity But he won’t even make it far on a walk and just lays down and chews grass  I’ve tried doing food puzzles and play in...</td>\n",
       "      <td>[pup, chews, everything, on, walks, my, month, old, pup, tries, to, chews, everything, on, walks, pinecones, branches, rocks, grass, etc, any, tips, on, how, to, improve, it, i, ve, googled, a, million, things, and, they, say, one, thing, could, be, boredom, that, s, the, whole, point, of, a, walk, get, some, physical, activity, but, he, won, t, even, make, it, far, on, a, walk, and, just, lay...</td>\n",
       "      <td>[pup, chews, everything, walks, month, old, pup, tries, chews, everything, walks, pinecones, branches, rocks, grass, etc, tips, improve, googled, million, things, say, one, thing, could, boredom, whole, point, walk, get, physical, activity, even, make, far, walk, lays, chews, grass, tried, food, puzzles, play, inside, walk, boredom, still, always]</td>\n",
       "      <td>[pup, chew, everyth, walk, month, old, pup, tri, chew, everyth, walk, pinecon, branch, rock, grass, etc, tip, improv, googl, million, thing, say, one, thing, could, boredom, whole, point, walk, get, physic, activ, even, make, far, walk, lay, chew, grass, tri, food, puzzl, play, insid, walk, boredom, still, alway]</td>\n",
       "      <td>[pup, chew, everything, walk, month, old, pup, try, chew, everything, walk, pinecone, branch, rock, grass, etc, tip, improve, googled, million, thing, say, one, thing, could, boredom, whole, point, walk, get, physical, activity, even, make, far, walk, lay, chew, grass, tried, food, puzzle, play, inside, walk, boredom, still, always]</td>\n",
       "      <td>[chew, everything, walk, try, chew, everything, walk, pinecone, branch, rock, grass, etc, tip, improve, googled, million, thing, say, one, thing, could, boredom, whole, point, walk, get, physical, activity, even, make, far, walk, lay, chew, grass, tried, food, puzzle, play, inside, walk, boredom, still, always]</td>\n",
       "      <td>0</td>\n",
       "    </tr>\n",
       "  </tbody>\n",
       "</table>\n",
       "<p>11827 rows × 8 columns</p>\n",
       "</div>"
      ],
      "text/plain": [
       "                                                                                                                                                                                                                                                                                                                                                                                                         original_text  \\\n",
       "0      Transporting cats on a . hr drive to move to a new place??? | Best way to make them comfortable? I have  cats and  carriers but I feel the carriers are a little small for such a long drive. It's fine when they go to the vet who is close. One cat is lbs the other is , we have the largest cat carriers we could find. Do they need to potty or have food/water for a long drive? Or will they be too s...   \n",
       "1                                                                                                                                                                                                                                                                                                                                                My cat wont eat. Vet determined he is not sick. Desperate for advice.   \n",
       "2                                                                                                                                                                                                                                                                                                           Two  month old outdoor kittens, one injured one missing. Can the injured one help me find the missing one?   \n",
       "3                                                                                                                                                                                                                                                                                                                     new cat was eating but isn’t eating anymore? plus strange head shaking and scratching behaviors?   \n",
       "4      Cat bullying? | I recently adopted an  week old kitten (Susan) &amp; brought her home to my apartment. I currently live with my partner &amp; his  year old cat (Fork). I did my best to take things slow but my partner is a little less… cautious than I am, so they met fairly quickly and after a bit of hissing from Fork he quietened down. \\n\\nNow, my concern is this. Fork is a big cat and he’s no...   \n",
       "...                                                                                                                                                                                                                                                                                                                                                                                                                ...   \n",
       "11822  Dog has lost all her stomach and chest hair. | My  year old French Bulldog has lost all her hair since three months ago. I don’t know if it’s due to stress (we got a new puppy exactly three months ago, she had all her hair back then) or due to a possible medical illness due to age. I took her to the vet and all tests came out normal, I asked for an X-Ray to look out for tumors. Dr. who knows a...   \n",
       "11823                                                                                                                                                                                                                                                                                                             My toy poodle’s fur has been thinning and falling out in one spot on her back, what should I do? | .   \n",
       "11824  My dog wants to be let out every night, in the middle of the night (- am). | He’s around  years old and he’s wonderfully house trained, like never has an accident ever. This is a new (annoying) habit that has started within the past couple months. We always let him out before we go to bed (around  pm) and his last meal is usually around  pm. His water is typically empty towards the evening, so...   \n",
       "11825  Dogs getting spayed… I have some questions. | Both my dogs are getting spayed on Wednesday (//). One dog is about  years old and the other is almost  years old. I’m nervous for the procedure, but I know that it is routine and better for them in the long term. I planned their spay to occur when I’ll be off from work for a week to be able to care for them. \\n\\n year old = black mouth cur \\n year...   \n",
       "11826  Pup chews everything on walks | My  month old pup tries to chews everything on walks. Pinecones, branches, rocks, grass, etc. Any tips on how to improve it? I’ve googled a million things and they say one thing could be boredom. That’s the whole point of a walk? Get some physical activity? But he won’t even make it far on a walk and just lays down and chews grass :( I’ve tried doing food puzzle...   \n",
       "\n",
       "                                                                                                                                                                                                                                                                                                                                                                                                          removed_punc  \\\n",
       "0      Transporting cats on a  hr drive to move to a new place  Best way to make them comfortable I have  cats and  carriers but I feel the carriers are a little small for such a long drive Its fine when they go to the vet who is close One cat is lbs the other is  we have the largest cat carriers we could find Do they need to potty or have foodwater for a long drive Or will they be too stressed to do...   \n",
       "1                                                                                                                                                                                                                                                                                                                                                   My cat wont eat Vet determined he is not sick Desperate for advice   \n",
       "2                                                                                                                                                                                                                                                                                                              Two  month old outdoor kittens one injured one missing Can the injured one help me find the missing one   \n",
       "3                                                                                                                                                                                                                                                                                                                       new cat was eating but isn’t eating anymore plus strange head shaking and scratching behaviors   \n",
       "4      Cat bullying  I recently adopted an  week old kitten Susan amp brought her home to my apartment I currently live with my partner amp his  year old cat Fork I did my best to take things slow but my partner is a little less… cautious than I am so they met fairly quickly and after a bit of hissing from Fork he quietened down \\n\\nNow my concern is this Fork is a big cat and he’s not well socialise...   \n",
       "...                                                                                                                                                                                                                                                                                                                                                                                                                ...   \n",
       "11822  Dog has lost all her stomach and chest hair  My  year old French Bulldog has lost all her hair since three months ago I don’t know if it’s due to stress we got a new puppy exactly three months ago she had all her hair back then or due to a possible medical illness due to age I took her to the vet and all tests came out normal I asked for an XRay to look out for tumors Dr who knows about ultras...   \n",
       "11823                                                                                                                                                                                                                                                                                                                 My toy poodle’s fur has been thinning and falling out in one spot on her back what should I do     \n",
       "11824  My dog wants to be let out every night in the middle of the night  am  He’s around  years old and he’s wonderfully house trained like never has an accident ever This is a new annoying habit that has started within the past couple months We always let him out before we go to bed around  pm and his last meal is usually around  pm His water is typically empty towards the evening so we just don’t ...   \n",
       "11825  Dogs getting spayed… I have some questions  Both my dogs are getting spayed on Wednesday  One dog is about  years old and the other is almost  years old I’m nervous for the procedure but I know that it is routine and better for them in the long term I planned their spay to occur when I’ll be off from work for a week to be able to care for them \\n\\n year old  black mouth cur \\n year old  black ...   \n",
       "11826  Pup chews everything on walks  My  month old pup tries to chews everything on walks Pinecones branches rocks grass etc Any tips on how to improve it I’ve googled a million things and they say one thing could be boredom That’s the whole point of a walk Get some physical activity But he won’t even make it far on a walk and just lays down and chews grass  I’ve tried doing food puzzles and play in...   \n",
       "\n",
       "                                                                                                                                                                                                                                                                                                                                                                                                             tokenized  \\\n",
       "0      [transporting, cats, on, a, hr, drive, to, move, to, a, new, place, best, way, to, make, them, comfortable, i, have, cats, and, carriers, but, i, feel, the, carriers, are, a, little, small, for, such, a, long, drive, its, fine, when, they, go, to, the, vet, who, is, close, one, cat, is, lbs, the, other, is, we, have, the, largest, cat, carriers, we, could, find, do, they, need, to, potty, or, ...   \n",
       "1                                                                                                                                                                                                                                                                                                                                     [my, cat, wont, eat, vet, determined, he, is, not, sick, desperate, for, advice]   \n",
       "2                                                                                                                                                                                                                                                                                           [two, month, old, outdoor, kittens, one, injured, one, missing, can, the, injured, one, help, me, find, the, missing, one]   \n",
       "3                                                                                                                                                                                                                                                                                                      [new, cat, was, eating, but, isn, t, eating, anymore, plus, strange, head, shaking, and, scratching, behaviors]   \n",
       "4      [cat, bullying, i, recently, adopted, an, week, old, kitten, susan, amp, brought, her, home, to, my, apartment, i, currently, live, with, my, partner, amp, his, year, old, cat, fork, i, did, my, best, to, take, things, slow, but, my, partner, is, a, little, less, cautious, than, i, am, so, they, met, fairly, quickly, and, after, a, bit, of, hissing, from, fork, he, quietened, down, now, my, co...   \n",
       "...                                                                                                                                                                                                                                                                                                                                                                                                                ...   \n",
       "11822  [dog, has, lost, all, her, stomach, and, chest, hair, my, year, old, french, bulldog, has, lost, all, her, hair, since, three, months, ago, i, don, t, know, if, it, s, due, to, stress, we, got, a, new, puppy, exactly, three, months, ago, she, had, all, her, hair, back, then, or, due, to, a, possible, medical, illness, due, to, age, i, took, her, to, the, vet, and, all, tests, came, out, normal...   \n",
       "11823                                                                                                                                                                                                                                                                                           [my, toy, poodle, s, fur, has, been, thinning, and, falling, out, in, one, spot, on, her, back, what, should, i, do, ]   \n",
       "11824  [my, dog, wants, to, be, let, out, every, night, in, the, middle, of, the, night, am, he, s, around, years, old, and, he, s, wonderfully, house, trained, like, never, has, an, accident, ever, this, is, a, new, annoying, habit, that, has, started, within, the, past, couple, months, we, always, let, him, out, before, we, go, to, bed, around, pm, and, his, last, meal, is, usually, around, pm, his...   \n",
       "11825  [dogs, getting, spayed, i, have, some, questions, both, my, dogs, are, getting, spayed, on, wednesday, one, dog, is, about, years, old, and, the, other, is, almost, years, old, i, m, nervous, for, the, procedure, but, i, know, that, it, is, routine, and, better, for, them, in, the, long, term, i, planned, their, spay, to, occur, when, i, ll, be, off, from, work, for, a, week, to, be, able, to,...   \n",
       "11826  [pup, chews, everything, on, walks, my, month, old, pup, tries, to, chews, everything, on, walks, pinecones, branches, rocks, grass, etc, any, tips, on, how, to, improve, it, i, ve, googled, a, million, things, and, they, say, one, thing, could, be, boredom, that, s, the, whole, point, of, a, walk, get, some, physical, activity, but, he, won, t, even, make, it, far, on, a, walk, and, just, lay...   \n",
       "\n",
       "                                                                                                                                                                                                                                                                                                                                                                                                          removed_stop  \\\n",
       "0      [transporting, cats, hr, drive, move, new, place, best, way, make, comfortable, cats, carriers, feel, carriers, little, small, long, drive, fine, go, vet, close, one, cat, lbs, largest, cat, carriers, could, find, need, potty, foodwater, long, drive, stressed, large, cat, scream, loud, hrs, straight, breaks, record, thus, far, starts, screaming, soon, gets, carrier, closed, people, car, especi...   \n",
       "1                                                                                                                                                                                                                                                                                                                                                           [cat, wont, eat, vet, determined, sick, desperate, advice]   \n",
       "2                                                                                                                                                                                                                                                                                                              [two, month, old, outdoor, kittens, one, injured, one, missing, injured, one, help, find, missing, one]   \n",
       "3                                                                                                                                                                                                                                                                                                                             [new, cat, eating, eating, anymore, plus, strange, head, shaking, scratching, behaviors]   \n",
       "4      [cat, bullying, recently, adopted, week, old, kitten, susan, amp, brought, home, apartment, currently, live, partner, amp, year, old, cat, fork, best, take, things, slow, partner, little, less, cautious, met, fairly, quickly, bit, hissing, fork, quietened, concern, fork, big, cat, well, socialised, opinion, affectionate, rarely, comes, near, us, shy, new, situations, quite, energetic, best, pl...   \n",
       "...                                                                                                                                                                                                                                                                                                                                                                                                                ...   \n",
       "11822  [dog, lost, stomach, chest, hair, year, old, french, bulldog, lost, hair, since, three, months, ago, know, due, stress, got, new, puppy, exactly, three, months, ago, hair, back, due, possible, medical, illness, due, age, took, vet, tests, came, normal, asked, xray, look, tumors, dr, knows, ultrasounds, perform, test, worried, put, diet, increased, activity, lost, pounds, comparison, least, yea...   \n",
       "11823                                                                                                                                                                                                                                                                                                                                                         [toy, poodle, fur, thinning, falling, one, spot, back, ]   \n",
       "11824               [dog, wants, let, every, night, middle, night, around, years, old, wonderfully, house, trained, like, never, accident, ever, new, annoying, habit, started, within, past, couple, months, always, let, go, bed, around, pm, last, meal, usually, around, pm, water, typically, empty, towards, evening, fill, back, potty, incessantly, whine, anxiously, walk, around, bed, let, recommendations]   \n",
       "11825  [dogs, getting, spayed, questions, dogs, getting, spayed, wednesday, one, dog, years, old, almost, years, old, nervous, procedure, know, routine, better, long, term, planned, spay, occur, work, week, able, care, year, old, black, mouth, cur, year, old, black, lab, neither, health, issues, aware, pretty, active, seem, happy, etc, advice, aftercare, steps, come, house, steps, home, walk, updown,...   \n",
       "11826                                                    [pup, chews, everything, walks, month, old, pup, tries, chews, everything, walks, pinecones, branches, rocks, grass, etc, tips, improve, googled, million, things, say, one, thing, could, boredom, whole, point, walk, get, physical, activity, even, make, far, walk, lays, chews, grass, tried, food, puzzles, play, inside, walk, boredom, still, always]   \n",
       "\n",
       "                                                                                                                                                                                                                                                                                                                                                                                                                  stem  \\\n",
       "0      [transport, cat, hr, drive, move, new, place, best, way, make, comfort, cat, carrier, feel, carrier, littl, small, long, drive, fine, go, vet, close, one, cat, lb, largest, cat, carrier, could, find, need, potti, foodwat, long, drive, stress, larg, cat, scream, loud, hr, straight, break, record, thu, far, start, scream, soon, get, carrier, close, peopl, car, especi, driver, keep, sane, calm, s...   \n",
       "1                                                                                                                                                                                                                                                                                                                                                                 [cat, wont, eat, vet, determin, sick, desper, advic]   \n",
       "2                                                                                                                                                                                                                                                                                                                         [two, month, old, outdoor, kitten, one, injur, one, miss, injur, one, help, find, miss, one]   \n",
       "3                                                                                                                                                                                                                                                                                                                                            [new, cat, eat, eat, anymor, plu, strang, head, shake, scratch, behavior]   \n",
       "4      [cat, bulli, recent, adopt, week, old, kitten, susan, amp, brought, home, apart, current, live, partner, amp, year, old, cat, fork, best, take, thing, slow, partner, littl, less, cautiou, met, fairli, quickli, bit, hiss, fork, quieten, concern, fork, big, cat, well, socialis, opinion, affection, rare, come, near, us, shi, new, situat, quit, energet, best, play, provid, mental, stimul, never, t...   \n",
       "...                                                                                                                                                                                                                                                                                                                                                                                                                ...   \n",
       "11822  [dog, lost, stomach, chest, hair, year, old, french, bulldog, lost, hair, sinc, three, month, ago, know, due, stress, got, new, puppi, exactli, three, month, ago, hair, back, due, possibl, medic, ill, due, age, took, vet, test, came, normal, ask, xray, look, tumor, dr, know, ultrasound, perform, test, worri, put, diet, increas, activ, lost, pound, comparison, least, year, back, weight, rib, wi...   \n",
       "11823                                                                                                                                                                                                                                                                                                                                                                 [toy, poodl, fur, thin, fall, one, spot, back, ]   \n",
       "11824                                                       [dog, want, let, everi, night, middl, night, around, year, old, wonder, hous, train, like, never, accid, ever, new, annoy, habit, start, within, past, coupl, month, alway, let, go, bed, around, pm, last, meal, usual, around, pm, water, typic, empti, toward, even, fill, back, potti, incessantli, whine, anxious, walk, around, bed, let, recommend]   \n",
       "11825  [dog, get, spay, question, dog, get, spay, wednesday, one, dog, year, old, almost, year, old, nervou, procedur, know, routin, better, long, term, plan, spay, occur, work, week, abl, care, year, old, black, mouth, cur, year, old, black, lab, neither, health, issu, awar, pretti, activ, seem, happi, etc, advic, aftercar, step, come, hous, step, home, walk, updown, step, go, peepoop, outsid, potti...   \n",
       "11826                                                                                       [pup, chew, everyth, walk, month, old, pup, tri, chew, everyth, walk, pinecon, branch, rock, grass, etc, tip, improv, googl, million, thing, say, one, thing, could, boredom, whole, point, walk, get, physic, activ, even, make, far, walk, lay, chew, grass, tri, food, puzzl, play, insid, walk, boredom, still, alway]   \n",
       "\n",
       "                                                                                                                                                                                                                                                                                                                                                                                                                   lem  \\\n",
       "0      [transporting, cat, hr, drive, move, new, place, best, way, make, comfortable, cat, carrier, feel, carrier, little, small, long, drive, fine, go, vet, close, one, cat, lb, largest, cat, carrier, could, find, need, potty, foodwater, long, drive, stressed, large, cat, scream, loud, hr, straight, break, record, thus, far, start, screaming, soon, get, carrier, closed, people, car, especially, driv...   \n",
       "1                                                                                                                                                                                                                                                                                                                                                           [cat, wont, eat, vet, determined, sick, desperate, advice]   \n",
       "2                                                                                                                                                                                                                                                                                                               [two, month, old, outdoor, kitten, one, injured, one, missing, injured, one, help, find, missing, one]   \n",
       "3                                                                                                                                                                                                                                                                                                                              [new, cat, eating, eating, anymore, plus, strange, head, shaking, scratching, behavior]   \n",
       "4      [cat, bullying, recently, adopted, week, old, kitten, susan, amp, brought, home, apartment, currently, live, partner, amp, year, old, cat, fork, best, take, thing, slow, partner, little, le, cautious, met, fairly, quickly, bit, hissing, fork, quietened, concern, fork, big, cat, well, socialised, opinion, affectionate, rarely, come, near, u, shy, new, situation, quite, energetic, best, play, pr...   \n",
       "...                                                                                                                                                                                                                                                                                                                                                                                                                ...   \n",
       "11822  [dog, lost, stomach, chest, hair, year, old, french, bulldog, lost, hair, since, three, month, ago, know, due, stress, got, new, puppy, exactly, three, month, ago, hair, back, due, possible, medical, illness, due, age, took, vet, test, came, normal, asked, xray, look, tumor, dr, know, ultrasound, perform, test, worried, put, diet, increased, activity, lost, pound, comparison, least, year, back...   \n",
       "11823                                                                                                                                                                                                                                                                                                                                                         [toy, poodle, fur, thinning, falling, one, spot, back, ]   \n",
       "11824                   [dog, want, let, every, night, middle, night, around, year, old, wonderfully, house, trained, like, never, accident, ever, new, annoying, habit, started, within, past, couple, month, always, let, go, bed, around, pm, last, meal, usually, around, pm, water, typically, empty, towards, evening, fill, back, potty, incessantly, whine, anxiously, walk, around, bed, let, recommendation]   \n",
       "11825  [dog, getting, spayed, question, dog, getting, spayed, wednesday, one, dog, year, old, almost, year, old, nervous, procedure, know, routine, better, long, term, planned, spay, occur, work, week, able, care, year, old, black, mouth, cur, year, old, black, lab, neither, health, issue, aware, pretty, active, seem, happy, etc, advice, aftercare, step, come, house, step, home, walk, updown, step, g...   \n",
       "11826                                                                   [pup, chew, everything, walk, month, old, pup, try, chew, everything, walk, pinecone, branch, rock, grass, etc, tip, improve, googled, million, thing, say, one, thing, could, boredom, whole, point, walk, get, physical, activity, even, make, far, walk, lay, chew, grass, tried, food, puzzle, play, inside, walk, boredom, still, always]   \n",
       "\n",
       "                                                                                                                                                                                                                                                                                                                                                                                                          rm_com_words  \\\n",
       "0      [transporting, hr, drive, move, new, place, best, way, make, comfortable, carrier, feel, carrier, little, small, long, drive, fine, go, close, one, lb, largest, carrier, could, find, need, potty, foodwater, long, drive, stressed, large, scream, loud, hr, straight, break, record, thus, far, start, screaming, soon, get, carrier, closed, people, car, especially, driver, keep, sane, calm, screamin...   \n",
       "1                                                                                                                                                                                                                                                                                                                                                                     [wont, eat, determined, sick, desperate, advice]   \n",
       "2                                                                                                                                                                                                                                                                                                                                   [two, outdoor, one, injured, one, missing, injured, one, help, find, missing, one]   \n",
       "3                                                                                                                                                                                                                                                                                                                                   [new, eating, eating, anymore, plus, strange, head, shaking, scratching, behavior]   \n",
       "4      [bullying, recently, adopted, week, susan, amp, brought, home, apartment, currently, live, partner, amp, fork, best, take, thing, slow, partner, little, le, cautious, met, fairly, quickly, bit, hissing, fork, quietened, concern, fork, big, well, socialised, opinion, affectionate, rarely, come, near, u, shy, new, situation, quite, energetic, best, play, provide, mental, stimulation, never, tire...   \n",
       "...                                                                                                                                                                                                                                                                                                                                                                                                                ...   \n",
       "11822  [lost, stomach, chest, hair, french, bulldog, lost, hair, since, three, ago, know, due, stress, got, new, exactly, three, ago, hair, back, due, possible, medical, illness, due, age, took, test, came, normal, asked, xray, look, tumor, dr, know, ultrasound, perform, test, worried, put, diet, increased, activity, lost, pound, comparison, least, back, weight, rib, wide, sudden, alopecia, plus, wid...   \n",
       "11823                                                                                                                                                                                                                                                                                                                                                         [toy, poodle, fur, thinning, falling, one, spot, back, ]   \n",
       "11824                                          [want, let, every, night, middle, night, around, wonderfully, house, trained, like, never, accident, ever, new, annoying, habit, started, within, past, couple, always, let, go, bed, around, pm, last, meal, usually, around, pm, water, typically, empty, towards, evening, fill, back, potty, incessantly, whine, anxiously, walk, around, bed, let, recommendation]   \n",
       "11825  [getting, spayed, question, getting, spayed, wednesday, one, almost, nervous, procedure, know, routine, better, long, term, planned, spay, occur, work, week, able, care, black, mouth, cur, black, lab, neither, health, issue, aware, pretty, active, seem, happy, etc, advice, aftercare, step, come, house, step, home, walk, updown, step, go, peepoop, outside, potty, pad, first, day, get, car, proc...   \n",
       "11826                                                                                         [chew, everything, walk, try, chew, everything, walk, pinecone, branch, rock, grass, etc, tip, improve, googled, million, thing, say, one, thing, could, boredom, whole, point, walk, get, physical, activity, even, make, far, walk, lay, chew, grass, tried, food, puzzle, play, inside, walk, boredom, still, always]   \n",
       "\n",
       "       cat?  \n",
       "0         1  \n",
       "1         1  \n",
       "2         1  \n",
       "3         1  \n",
       "4         1  \n",
       "...     ...  \n",
       "11822     0  \n",
       "11823     0  \n",
       "11824     0  \n",
       "11825     0  \n",
       "11826     0  \n",
       "\n",
       "[11827 rows x 8 columns]"
      ]
     },
     "execution_count": 148,
     "metadata": {},
     "output_type": "execute_result"
    }
   ],
   "source": [
    "#append df_cat and df_dog to create a combined dataframe: full_df\n",
    "full_df = df_cat.append(df_dog)\n",
    "full_df.reset_index(drop=True, inplace=True)\n",
    "full_df"
   ]
  },
  {
   "cell_type": "code",
   "execution_count": null,
   "metadata": {},
   "outputs": [],
   "source": [
    "# save processed dataframe as full_df\n",
    "full_df.to_csv('../data/full_df_rm_com_wds.csv')"
   ]
  }
 ],
 "metadata": {
  "kernelspec": {
   "display_name": "Python 3 (ipykernel)",
   "language": "python",
   "name": "python3"
  },
  "language_info": {
   "codemirror_mode": {
    "name": "ipython",
    "version": 3
   },
   "file_extension": ".py",
   "mimetype": "text/x-python",
   "name": "python",
   "nbconvert_exporter": "python",
   "pygments_lexer": "ipython3",
   "version": "3.9.12"
  },
  "vscode": {
   "interpreter": {
    "hash": "42df287f9666a6f574164bafa3f224a566ab42bcdfed43652d121ceef826fd65"
   }
  }
 },
 "nbformat": 4,
 "nbformat_minor": 2
}
