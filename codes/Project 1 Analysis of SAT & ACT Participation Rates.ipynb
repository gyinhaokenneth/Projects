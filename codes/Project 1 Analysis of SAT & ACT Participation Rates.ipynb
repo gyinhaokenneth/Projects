{
 "cells": [
  {
   "cell_type": "markdown",
   "metadata": {},
   "source": [
    "<img src=\"http://imgur.com/1ZcRyrc.png\" style=\"float: left; margin: 20px; height: 55px\">\n",
    "\n",
    "# Project 1: Standardized Test Analysis"
   ]
  },
  {
   "cell_type": "markdown",
   "metadata": {},
   "source": [
    "--- \n",
    "# Part 1\n",
    "\n",
    "Part 1 requires knowledge of basic Python.\n",
    "\n",
    "---"
   ]
  },
  {
   "cell_type": "markdown",
   "metadata": {},
   "source": [
    "## Problem Statement"
   ]
  },
  {
   "cell_type": "markdown",
   "metadata": {},
   "source": [
    "The new format for the SAT was released in March 2016 in a bid to increase participation rate. Since then, levels of participation in multiple states have changed with varying legislative decisions. This project aims to explore trends in the participation rates of the SAT and ACT tests for the three-year period (2017-2019) and seeks to identify regions/states that have the lowest SAT participation rates as potential high growth areas."
   ]
  },
  {
   "cell_type": "markdown",
   "metadata": {},
   "source": [
    "### Contents:\n",
    "- [Background](#Background)\n",
    "- [Data Import & Cleaning](#Data-Import-and-Cleaning)\n",
    "- [Exploratory Data Analysis](#Exploratory-Data-Analysis)\n",
    "- [Data Visualization](#Visualize-the-Data)\n",
    "- [Conclusions and Recommendations](#Conclusions-and-Recommendations)"
   ]
  },
  {
   "cell_type": "markdown",
   "metadata": {},
   "source": [
    "## Background"
   ]
  },
  {
   "cell_type": "markdown",
   "metadata": {},
   "source": [
    "The SAT and ACT are standardized tests that many colleges and universities in the United States require for their admissions process. This score is used along with other materials such as grade point average (GPA) and essay responses to determine whether or not a potential student will be accepted to the university.\n",
    "\n",
    "The SAT has two sections of the test: Evidence-Based Reading and Writing and Math ([*source*](https://www.princetonreview.com/college/sat-sections)). The ACT has 4 sections: English, Mathematics, Reading, and Science, with an additional optional writing section ([*source*](https://www.act.org/content/act/en/products-and-services/the-act/scores/understanding-your-scores.html)). They have different score ranges, which you can read more about on their websites or additional outside sources (a quick Google search will help you understand the scores for each test):\n",
    "* [SAT](https://collegereadiness.collegeboard.org/sat)\n",
    "* [ACT](https://www.act.org/content/act/en.html)\n",
    "\n",
    "Standardized tests have long been a controversial topic for students, administrators, and legislators. Since the 1940's, an increasing number of colleges have been using scores from sudents' performances on tests like the SAT and the ACT as a measure for college readiness and aptitude ([*source*](https://www.minotdailynews.com/news/local-news/2017/04/a-brief-history-of-the-sat-and-act/)). Supporters of these tests argue that these scores can be used as an objective measure to determine college admittance. Opponents of these tests claim that these tests are not accurate measures of students potential or ability and serve as an inequitable barrier to entry. Lately, more and more schools are opting to drop the SAT/ACT requirement for their Fall 2021 applications ([*read more about this here*](https://www.cnn.com/2020/04/14/us/coronavirus-colleges-sat-act-test-trnd/index.html))."
   ]
  },
  {
   "cell_type": "markdown",
   "metadata": {},
   "source": [
    "**Additional Information** \n",
    "\n",
    "Prior to the 2016 format change, the College Board had conducted a format revision in 2005. The changes made were not popular as many found that the knowledge tested in the questions were not aligned with the high school curriculum. Preparation was deemed to be costly and students without the resources would be disadvantaged. Since the 2005 format revision, the alternative standardised test (ACT) had gained traction and recorded higher participation rate for many years.\n",
    "\n",
    "The College Board proceeded to make revision to the format, such as cutting down both Reading & Writing, as well as Math sections) to make it closer to ACT's format. These revisions were implemented it in 2016 in a bid to increase the participation rate by correcting the unpopular features and making the assessments relevant to the existing high school curriculum. Despite the effort, the mean participation rate for SAT over the three-year period is still lower than that of ACT's.\n",
    "\n",
    "[(Source)](https://edition.cnn.com/2014/03/05/living/sat-test-changes-schools/index.html)"
   ]
  },
  {
   "cell_type": "markdown",
   "metadata": {},
   "source": [
    "This project will be presented to the non-technical executive members of the SAT College Board."
   ]
  },
  {
   "cell_type": "markdown",
   "metadata": {},
   "source": [
    "### Choose your Data\n",
    "\n",
    "There are 10 datasets included in the [`data`](./data/) folder for this project. You are required to pick **at least two** of these to complete your analysis. Feel free to use more than two if you would like, or add other relevant datasets you find online.\n",
    "\n",
    "* [`act_2017.csv`](./data/act_2017.csv): 2017 ACT Scores by State\n",
    "* [`act_2018.csv`](./data/act_2018.csv): 2018 ACT Scores by State\n",
    "* [`act_2019.csv`](./data/act_2019.csv): 2019 ACT Scores by State\n",
    "* [`act_2019_ca.csv`](./data/act_2019_ca.csv): 2019 ACT Scores in California by School\n",
    "* [`sat_2017.csv`](./data/sat_2017.csv): 2017 SAT Scores by State\n",
    "* [`sat_2018.csv`](./data/sat_2018.csv): 2018 SAT Scores by State\n",
    "* [`sat_2019.csv`](./data/sat_2019.csv): 2019 SAT Scores by State\n",
    "* [`sat_2019_by_intended_college_major.csv`](./data/sat_2019_by_intended_college_major.csv): 2019 SAT Scores by Intended College Major\n",
    "* [`sat_2019_ca.csv`](./data/sat_2019_ca.csv): 2019 SAT Scores in California by School\n",
    "* [`sat_act_by_college.csv`](./data/sat_act_by_college.csv): Ranges of Accepted ACT & SAT Student Scores by Colleges"
   ]
  },
  {
   "cell_type": "markdown",
   "metadata": {},
   "source": [
    "**Chosen Dataset**\n",
    "\n",
    "*act_2017.csv*: Contains state-level information of the (1) Participation rate; (2) Average scores for Math, Reading, and Science; (3) Average composite score.\n",
    "\n",
    "*act_2018.csv & act_2019.csv*: Contains state-level information of (1) Participation rate; (2) Average composite score.\n",
    "\n",
    "*sat_2017.csv & sat_2018.csv & sat_2019.csv*: Contains state-level information of (1) Participation rate; (2) Average Evidence-Based Reading and Writing score; (3) Average Math score; (4) Average Total score."
   ]
  },
  {
   "cell_type": "markdown",
   "metadata": {},
   "source": [
    "### Outside Research"
   ]
  },
  {
   "cell_type": "markdown",
   "metadata": {},
   "source": [
    "Based on your problem statement and your chosen datasets, spend some time doing outside research on state policies or additional information that might be relevant. Summarize your findings below. If you bring in any outside tables or charts, make sure you are explicit about having borrowed them. If you quote any text, make sure that it renders as being quoted. **Make sure that you cite your sources.**"
   ]
  },
  {
   "cell_type": "markdown",
   "metadata": {},
   "source": [
    "**1. High School Graduate Requirement** [(Source)](https://prepmaven.com/blog/test-prep/states-require-sat-act/)\n",
    "\n",
    "*States where SAT is a high-school graduation requirement:*\n",
    "- Colorado\n",
    "- Connecticut\n",
    "- Delaware\n",
    "- Illinois\n",
    "- Maine\n",
    "- Michigan\n",
    "- New Hampshire\n",
    "- Rhode Island\n",
    "- West Virginia\n",
    "\n",
    "*States where ACT is a high-school graduation requirement:*\n",
    "- Hawaii\n",
    "- Kentucky  \n",
    "- Nebraska \n",
    "- Montana \n",
    "- North Carolina\n",
    "- Nevada\n",
    "- Wisconsin\n",
    "- Wyoming \n",
    "- Alabama\n",
    "\n",
    "**2. Estimated No. of High School Graduating Students**\n",
    "- Estimated figures for number of graduating students for the states listed were extracted from the document [(Source)](https://www.wiche.edu/resources/knocking-at-the-college-door-9th-edition/)\n",
    "\n",
    "|State|Geographical Location|Estimated No. of Graduates|\n",
    "|:---|:---|---|\n",
    "|Iowa|Midwest|35,000|\n",
    "|Kansas|Midwest|35,000|\n",
    "|Minnesota|Midwest|62,000|\n",
    "|Missouri|Midwest|68,500|\n",
    "|Nebraska|Midwest|24,000|\n",
    "|North Dakota|Midwest|7,600|\n",
    "|South Dakota|Midwest|8,600|\n",
    "|Ohio|Midwest|123,000|\n",
    "|Wisconsin|Midwest|66,000|\n",
    "|---|**Total**|421,960 **(~422,000)**|\n",
    "\n",
    "**3. Other Findings**\n",
    "- Typically, students who attempt both tests belong to the high-performing group and they tend to also do well in both tests. Most students would choose to complete either of the standardise test that is required to meet their graduation or college admission requirement.\n",
    "- Most students in the Midwest take the ACT test unless it is a state requirement to take the SAT, or because they are intending to apply to the top universities like Standford and Berkeley where only SAT is more accepted.\n",
    "- Both SAT and ACT offer Fee Waiver for underpriviledged students where they could take the test for free and access free resources to prepare for it. Their college application fee will also be waived. SAT College Board also provide financial aid for prospective students as well.\n",
    "\n",
    "[(Source 1)](https://medium.com/@james.dargan/participation-skews-state-averages-f68969371a01)\n",
    "[(Source 2)](https://www.forbes.com/sites/bentaylor/2014/07/17/why-the-midwest-dominates-the-sat/?sh=6bdfaf862f37)\n",
    "[(Source 3)](https://satsuite.collegeboard.org/media/pdf/sat-fee-waiver-student-brochure.pdf)\n",
    "[(Source 4)](https://www.act.org/content/act/en/products-and-services/the-act/registration/fees/fee-waivers.html)"
   ]
  },
  {
   "cell_type": "markdown",
   "metadata": {},
   "source": [
    "### Coding Challenges\n",
    "\n",
    "1. Manually calculate mean:\n",
    "\n",
    "    Write a function that takes in values and returns the mean of the values. Create a list of numbers that you test on your function to check to make sure your function works!\n",
    "    \n",
    "    *Note*: Do not use any mean methods built-in to any Python libraries to do this! This should be done without importing any additional libraries."
   ]
  },
  {
   "cell_type": "code",
   "execution_count": 1,
   "metadata": {},
   "outputs": [
    {
     "data": {
      "text/plain": [
       "6.142857142857143"
      ]
     },
     "execution_count": 1,
     "metadata": {},
     "output_type": "execute_result"
    }
   ],
   "source": [
    "# Code:\n",
    "def cal_mean(value_list):\n",
    "    sum = 0.0                    #set sum as a float at 0.\n",
    "    for n in value_list:\n",
    "        sum += n                 #summation of all the values in the list\n",
    "    mean = sum/len(value_list)   #calculate the mean by dividing the sum an the number of values in the list\n",
    "    return mean\n",
    "\n",
    "#for testing function\n",
    "test_list = [3,6,4,2,6,12,10]\n",
    "cal_mean(test_list)"
   ]
  },
  {
   "cell_type": "markdown",
   "metadata": {},
   "source": [
    "2. Manually calculate standard deviation:\n",
    "\n",
    "    The formula for standard deviation is below:\n",
    "\n",
    "    $$\\sigma = \\sqrt{\\frac{1}{n}\\sum_{i=1}^n(x_i - \\mu)^2}$$\n",
    "\n",
    "    Where $x_i$ represents each value in the dataset, $\\mu$ represents the mean of all values in the dataset and $n$ represents the number of values in the dataset.\n",
    "\n",
    "    Write a function that takes in values and returns the standard deviation of the values using the formula above. Hint: use the function you wrote above to calculate the mean! Use the list of numbers you created above to test on your function.\n",
    "    \n",
    "    *Note*: Do not use any standard deviation methods built-in to any Python libraries to do this! This should be done without importing any additional libraries."
   ]
  },
  {
   "cell_type": "code",
   "execution_count": 2,
   "metadata": {},
   "outputs": [
    {
     "data": {
      "text/plain": [
       "3.398679215248663"
      ]
     },
     "execution_count": 2,
     "metadata": {},
     "output_type": "execute_result"
    }
   ],
   "source": [
    "# Code:\n",
    "def stdev(value_list):\n",
    "    sum = 0.0                                  #set sum as a float at 0.\n",
    "    for m in value_list:\n",
    "        sum += (m - cal_mean(value_list))**2   #calculate the summation component of the sd formula.\n",
    "    sigma = (sum/len(value_list))**(0.5)       #calculate the standard deviation.\n",
    "    return sigma\n",
    "\n",
    "#for testing function\n",
    "test_list = [3,6,4,2,6,12,10]\n",
    "stdev(test_list)"
   ]
  },
  {
   "cell_type": "markdown",
   "metadata": {},
   "source": [
    "3. Data cleaning function:\n",
    "    \n",
    "    Write a function that takes in a string that is a number and a percent symbol (ex. '50%', '30.5%', etc.) and converts this to a float that is the decimal approximation of the percent. For example, inputting '50%' in your function should return 0.5, '30.5%' should return 0.305, etc. Make sure to test your function to make sure it works!\n",
    "\n",
    "You will use these functions later on in the project!"
   ]
  },
  {
   "cell_type": "code",
   "execution_count": 3,
   "metadata": {},
   "outputs": [
    {
     "data": {
      "text/plain": [
       "0.406"
      ]
     },
     "execution_count": 3,
     "metadata": {},
     "output_type": "execute_result"
    }
   ],
   "source": [
    "# Code:\n",
    "def pct_float_converter(value_str):\n",
    "    num_str = value_str.replace('%', '')  #remove the percentage sign.\n",
    "    num_float = (float(num_str))/100      #convert the string to a float, and divide by 100 as % is removed.\n",
    "    return num_float\n",
    "\n",
    "#for testing function\n",
    "pct_float_converter('40.6%')"
   ]
  },
  {
   "cell_type": "markdown",
   "metadata": {},
   "source": [
    "--- \n",
    "# Part 2\n",
    "\n",
    "Part 2 requires knowledge of Pandas, EDA, data cleaning, and data visualization.\n",
    "\n",
    "---"
   ]
  },
  {
   "cell_type": "markdown",
   "metadata": {},
   "source": [
    "*All libraries used should be added here*"
   ]
  },
  {
   "cell_type": "code",
   "execution_count": 4,
   "metadata": {},
   "outputs": [],
   "source": [
    "# Imports:\n",
    "import numpy as np\n",
    "import pandas as pd\n",
    "import matplotlib.pyplot as plt\n",
    "import seaborn as sns"
   ]
  },
  {
   "cell_type": "markdown",
   "metadata": {},
   "source": [
    "## Data Import and Cleaning"
   ]
  },
  {
   "cell_type": "markdown",
   "metadata": {},
   "source": [
    "### Data Import & Cleaning\n",
    "\n",
    "Import the datasets that you selected for this project and go through the following steps at a minimum. You are welcome to do further cleaning as you feel necessary:\n",
    "1. Display the data: print the first 5 rows of each dataframe to your Jupyter notebook.\n",
    "2. Check for missing values.\n",
    "3. Check for any obvious issues with the observations (keep in mind the minimum & maximum possible values for each test/subtest).\n",
    "4. Fix any errors you identified in steps 2-3.\n",
    "5. Display the data types of each feature.\n",
    "6. Fix any incorrect data types found in step 5.\n",
    "    - Fix any individual values preventing other columns from being the appropriate type.\n",
    "    - If your dataset has a column of percents (ex. '50%', '30.5%', etc.), use the function you wrote in Part 1 (coding challenges, number 3) to convert this to floats! *Hint*: use `.map()` or `.apply()`.\n",
    "7. Rename Columns.\n",
    "    - Column names should be all lowercase.\n",
    "    - Column names should not contain spaces (underscores will suffice--this allows for using the `df.column_name` method to access columns in addition to `df['column_name']`).\n",
    "    - Column names should be unique and informative.\n",
    "8. Drop unnecessary rows (if needed).\n",
    "9. Merge dataframes that can be merged.\n",
    "10. Perform any additional cleaning that you feel is necessary.\n",
    "11. Save your cleaned and merged dataframes as csv files."
   ]
  },
  {
   "cell_type": "markdown",
   "metadata": {},
   "source": [
    "#### A. Import SAT Data Files for 2017 - 2019"
   ]
  },
  {
   "cell_type": "markdown",
   "metadata": {},
   "source": [
    "##### SAT 2017"
   ]
  },
  {
   "cell_type": "code",
   "execution_count": 5,
   "metadata": {},
   "outputs": [
    {
     "data": {
      "text/html": [
       "<div>\n",
       "<style scoped>\n",
       "    .dataframe tbody tr th:only-of-type {\n",
       "        vertical-align: middle;\n",
       "    }\n",
       "\n",
       "    .dataframe tbody tr th {\n",
       "        vertical-align: top;\n",
       "    }\n",
       "\n",
       "    .dataframe thead th {\n",
       "        text-align: right;\n",
       "    }\n",
       "</style>\n",
       "<table border=\"1\" class=\"dataframe\">\n",
       "  <thead>\n",
       "    <tr style=\"text-align: right;\">\n",
       "      <th></th>\n",
       "      <th>State</th>\n",
       "      <th>Participation</th>\n",
       "      <th>Evidence-Based Reading and Writing</th>\n",
       "      <th>Math</th>\n",
       "      <th>Total</th>\n",
       "    </tr>\n",
       "  </thead>\n",
       "  <tbody>\n",
       "    <tr>\n",
       "      <th>0</th>\n",
       "      <td>Alabama</td>\n",
       "      <td>5%</td>\n",
       "      <td>593</td>\n",
       "      <td>572</td>\n",
       "      <td>1165</td>\n",
       "    </tr>\n",
       "    <tr>\n",
       "      <th>1</th>\n",
       "      <td>Alaska</td>\n",
       "      <td>38%</td>\n",
       "      <td>547</td>\n",
       "      <td>533</td>\n",
       "      <td>1080</td>\n",
       "    </tr>\n",
       "    <tr>\n",
       "      <th>2</th>\n",
       "      <td>Arizona</td>\n",
       "      <td>30%</td>\n",
       "      <td>563</td>\n",
       "      <td>553</td>\n",
       "      <td>1116</td>\n",
       "    </tr>\n",
       "    <tr>\n",
       "      <th>3</th>\n",
       "      <td>Arkansas</td>\n",
       "      <td>3%</td>\n",
       "      <td>614</td>\n",
       "      <td>594</td>\n",
       "      <td>1208</td>\n",
       "    </tr>\n",
       "    <tr>\n",
       "      <th>4</th>\n",
       "      <td>California</td>\n",
       "      <td>53%</td>\n",
       "      <td>531</td>\n",
       "      <td>524</td>\n",
       "      <td>1055</td>\n",
       "    </tr>\n",
       "  </tbody>\n",
       "</table>\n",
       "</div>"
      ],
      "text/plain": [
       "        State Participation  Evidence-Based Reading and Writing  Math  Total\n",
       "0     Alabama            5%                                 593   572   1165\n",
       "1      Alaska           38%                                 547   533   1080\n",
       "2     Arizona           30%                                 563   553   1116\n",
       "3    Arkansas            3%                                 614   594   1208\n",
       "4  California           53%                                 531   524   1055"
      ]
     },
     "execution_count": 5,
     "metadata": {},
     "output_type": "execute_result"
    }
   ],
   "source": [
    "#read sat_2017 data file and display first 5 rows\n",
    "sat_2017 = pd.read_csv(\"../data/sat_2017.csv\")\n",
    "sat_2017.head()"
   ]
  },
  {
   "cell_type": "code",
   "execution_count": 6,
   "metadata": {},
   "outputs": [
    {
     "data": {
      "text/plain": [
       "State                                 0\n",
       "Participation                         0\n",
       "Evidence-Based Reading and Writing    0\n",
       "Math                                  0\n",
       "Total                                 0\n",
       "dtype: int64"
      ]
     },
     "execution_count": 6,
     "metadata": {},
     "output_type": "execute_result"
    }
   ],
   "source": [
    "#check for missing values, special character inputs\n",
    "sat_2017.isnull().sum()"
   ]
  },
  {
   "cell_type": "code",
   "execution_count": 7,
   "metadata": {
    "scrolled": true
   },
   "outputs": [
    {
     "name": "stdout",
     "output_type": "stream",
     "text": [
      "<class 'pandas.core.frame.DataFrame'>\n",
      "RangeIndex: 51 entries, 0 to 50\n",
      "Data columns (total 6 columns):\n",
      " #   Column                              Non-Null Count  Dtype  \n",
      "---  ------                              --------------  -----  \n",
      " 0   State                               51 non-null     object \n",
      " 1   Participation                       51 non-null     object \n",
      " 2   Evidence-Based Reading and Writing  51 non-null     int64  \n",
      " 3   Math                                51 non-null     int64  \n",
      " 4   Total                               51 non-null     int64  \n",
      " 5   part_rate                           51 non-null     float64\n",
      "dtypes: float64(1), int64(3), object(2)\n",
      "memory usage: 2.5+ KB\n"
     ]
    }
   ],
   "source": [
    "#to remove % and convert to object in the Participation Rate column to float \n",
    "sat_2017['part_rate'] = sat_2017['Participation'].map(pct_float_converter)\n",
    "\n",
    "#display data types\n",
    "sat_2017.info()"
   ]
  },
  {
   "cell_type": "code",
   "execution_count": 8,
   "metadata": {},
   "outputs": [
    {
     "data": {
      "text/html": [
       "<div>\n",
       "<style scoped>\n",
       "    .dataframe tbody tr th:only-of-type {\n",
       "        vertical-align: middle;\n",
       "    }\n",
       "\n",
       "    .dataframe tbody tr th {\n",
       "        vertical-align: top;\n",
       "    }\n",
       "\n",
       "    .dataframe thead th {\n",
       "        text-align: right;\n",
       "    }\n",
       "</style>\n",
       "<table border=\"1\" class=\"dataframe\">\n",
       "  <thead>\n",
       "    <tr style=\"text-align: right;\">\n",
       "      <th></th>\n",
       "      <th>state</th>\n",
       "      <th>total_mean</th>\n",
       "      <th>part_rate</th>\n",
       "      <th>year</th>\n",
       "    </tr>\n",
       "  </thead>\n",
       "  <tbody>\n",
       "    <tr>\n",
       "      <th>0</th>\n",
       "      <td>Alabama</td>\n",
       "      <td>1165</td>\n",
       "      <td>0.05</td>\n",
       "      <td>2017</td>\n",
       "    </tr>\n",
       "    <tr>\n",
       "      <th>1</th>\n",
       "      <td>Alaska</td>\n",
       "      <td>1080</td>\n",
       "      <td>0.38</td>\n",
       "      <td>2017</td>\n",
       "    </tr>\n",
       "    <tr>\n",
       "      <th>2</th>\n",
       "      <td>Arizona</td>\n",
       "      <td>1116</td>\n",
       "      <td>0.30</td>\n",
       "      <td>2017</td>\n",
       "    </tr>\n",
       "    <tr>\n",
       "      <th>3</th>\n",
       "      <td>Arkansas</td>\n",
       "      <td>1208</td>\n",
       "      <td>0.03</td>\n",
       "      <td>2017</td>\n",
       "    </tr>\n",
       "    <tr>\n",
       "      <th>4</th>\n",
       "      <td>California</td>\n",
       "      <td>1055</td>\n",
       "      <td>0.53</td>\n",
       "      <td>2017</td>\n",
       "    </tr>\n",
       "  </tbody>\n",
       "</table>\n",
       "</div>"
      ],
      "text/plain": [
       "        state  total_mean  part_rate  year\n",
       "0     Alabama        1165       0.05  2017\n",
       "1      Alaska        1080       0.38  2017\n",
       "2     Arizona        1116       0.30  2017\n",
       "3    Arkansas        1208       0.03  2017\n",
       "4  California        1055       0.53  2017"
      ]
     },
     "execution_count": 8,
     "metadata": {},
     "output_type": "execute_result"
    }
   ],
   "source": [
    "#drop columns for participation and scores for individual components\n",
    "sat_2017.drop(['Participation', 'Evidence-Based Reading and Writing', 'Math'], axis=1, inplace=True)\n",
    "\n",
    "#column names set in lower case; remove spaces in column names; rename columns for clarity\n",
    "sat_2017.columns = sat_2017.columns.str.lower()\n",
    "sat_2017.rename(columns = {'participation':'participation_rate_pct'}, inplace = True)\n",
    "sat_2017.rename(columns = {'total':'total_mean'}, inplace = True)\n",
    "\n",
    "#add year column to all rows\n",
    "sat_2017[\"year\"] = \"2017\"\n",
    "\n",
    "sat_2017.head()"
   ]
  },
  {
   "cell_type": "code",
   "execution_count": 9,
   "metadata": {},
   "outputs": [
    {
     "name": "stdout",
     "output_type": "stream",
     "text": [
      "Mean total score is within 400-1600: True.\n"
     ]
    }
   ],
   "source": [
    "#to confirm all mean total score within score range of 400 - 1600  \n",
    "res_total = True\n",
    "for total in sat_2017['total_mean']:\n",
    "    if total<400 or total>1600:\n",
    "        res_total = False\n",
    "        break \n",
    "print(f\"Mean total score is within 400-1600: {res_total}.\")"
   ]
  },
  {
   "cell_type": "markdown",
   "metadata": {},
   "source": [
    "##### SAT 2018"
   ]
  },
  {
   "cell_type": "code",
   "execution_count": 10,
   "metadata": {},
   "outputs": [
    {
     "data": {
      "text/html": [
       "<div>\n",
       "<style scoped>\n",
       "    .dataframe tbody tr th:only-of-type {\n",
       "        vertical-align: middle;\n",
       "    }\n",
       "\n",
       "    .dataframe tbody tr th {\n",
       "        vertical-align: top;\n",
       "    }\n",
       "\n",
       "    .dataframe thead th {\n",
       "        text-align: right;\n",
       "    }\n",
       "</style>\n",
       "<table border=\"1\" class=\"dataframe\">\n",
       "  <thead>\n",
       "    <tr style=\"text-align: right;\">\n",
       "      <th></th>\n",
       "      <th>State</th>\n",
       "      <th>Participation</th>\n",
       "      <th>Evidence-Based Reading and Writing</th>\n",
       "      <th>Math</th>\n",
       "      <th>Total</th>\n",
       "    </tr>\n",
       "  </thead>\n",
       "  <tbody>\n",
       "    <tr>\n",
       "      <th>0</th>\n",
       "      <td>Alabama</td>\n",
       "      <td>6%</td>\n",
       "      <td>595</td>\n",
       "      <td>571</td>\n",
       "      <td>1166</td>\n",
       "    </tr>\n",
       "    <tr>\n",
       "      <th>1</th>\n",
       "      <td>Alaska</td>\n",
       "      <td>43%</td>\n",
       "      <td>562</td>\n",
       "      <td>544</td>\n",
       "      <td>1106</td>\n",
       "    </tr>\n",
       "    <tr>\n",
       "      <th>2</th>\n",
       "      <td>Arizona</td>\n",
       "      <td>29%</td>\n",
       "      <td>577</td>\n",
       "      <td>572</td>\n",
       "      <td>1149</td>\n",
       "    </tr>\n",
       "    <tr>\n",
       "      <th>3</th>\n",
       "      <td>Arkansas</td>\n",
       "      <td>5%</td>\n",
       "      <td>592</td>\n",
       "      <td>576</td>\n",
       "      <td>1169</td>\n",
       "    </tr>\n",
       "    <tr>\n",
       "      <th>4</th>\n",
       "      <td>California</td>\n",
       "      <td>60%</td>\n",
       "      <td>540</td>\n",
       "      <td>536</td>\n",
       "      <td>1076</td>\n",
       "    </tr>\n",
       "  </tbody>\n",
       "</table>\n",
       "</div>"
      ],
      "text/plain": [
       "        State Participation  Evidence-Based Reading and Writing  Math  Total\n",
       "0     Alabama            6%                                 595   571   1166\n",
       "1      Alaska           43%                                 562   544   1106\n",
       "2     Arizona           29%                                 577   572   1149\n",
       "3    Arkansas            5%                                 592   576   1169\n",
       "4  California           60%                                 540   536   1076"
      ]
     },
     "execution_count": 10,
     "metadata": {},
     "output_type": "execute_result"
    }
   ],
   "source": [
    "#read sat_2018 data file and display first 5 rows\n",
    "sat_2018 = pd.read_csv(\"../data/sat_2018.csv\")\n",
    "sat_2018.head()"
   ]
  },
  {
   "cell_type": "code",
   "execution_count": 11,
   "metadata": {},
   "outputs": [
    {
     "data": {
      "text/plain": [
       "State                                 0\n",
       "Participation                         0\n",
       "Evidence-Based Reading and Writing    0\n",
       "Math                                  0\n",
       "Total                                 0\n",
       "dtype: int64"
      ]
     },
     "execution_count": 11,
     "metadata": {},
     "output_type": "execute_result"
    }
   ],
   "source": [
    "#check for missing values, special character inputs\n",
    "sat_2018.isnull().sum()"
   ]
  },
  {
   "cell_type": "code",
   "execution_count": 12,
   "metadata": {},
   "outputs": [
    {
     "name": "stdout",
     "output_type": "stream",
     "text": [
      "<class 'pandas.core.frame.DataFrame'>\n",
      "RangeIndex: 51 entries, 0 to 50\n",
      "Data columns (total 6 columns):\n",
      " #   Column                              Non-Null Count  Dtype  \n",
      "---  ------                              --------------  -----  \n",
      " 0   State                               51 non-null     object \n",
      " 1   Participation                       51 non-null     object \n",
      " 2   Evidence-Based Reading and Writing  51 non-null     int64  \n",
      " 3   Math                                51 non-null     int64  \n",
      " 4   Total                               51 non-null     int64  \n",
      " 5   part_rate                           51 non-null     float64\n",
      "dtypes: float64(1), int64(3), object(2)\n",
      "memory usage: 2.5+ KB\n"
     ]
    }
   ],
   "source": [
    "#to remove % and convert object in the Participation column to float \n",
    "sat_2018['part_rate'] = sat_2018['Participation'].map(pct_float_converter)\n",
    "\n",
    "#display data types\n",
    "sat_2018.info()"
   ]
  },
  {
   "cell_type": "code",
   "execution_count": 13,
   "metadata": {},
   "outputs": [
    {
     "data": {
      "text/html": [
       "<div>\n",
       "<style scoped>\n",
       "    .dataframe tbody tr th:only-of-type {\n",
       "        vertical-align: middle;\n",
       "    }\n",
       "\n",
       "    .dataframe tbody tr th {\n",
       "        vertical-align: top;\n",
       "    }\n",
       "\n",
       "    .dataframe thead th {\n",
       "        text-align: right;\n",
       "    }\n",
       "</style>\n",
       "<table border=\"1\" class=\"dataframe\">\n",
       "  <thead>\n",
       "    <tr style=\"text-align: right;\">\n",
       "      <th></th>\n",
       "      <th>state</th>\n",
       "      <th>total_mean</th>\n",
       "      <th>part_rate</th>\n",
       "      <th>year</th>\n",
       "    </tr>\n",
       "  </thead>\n",
       "  <tbody>\n",
       "    <tr>\n",
       "      <th>0</th>\n",
       "      <td>Alabama</td>\n",
       "      <td>1166</td>\n",
       "      <td>0.06</td>\n",
       "      <td>2018</td>\n",
       "    </tr>\n",
       "    <tr>\n",
       "      <th>1</th>\n",
       "      <td>Alaska</td>\n",
       "      <td>1106</td>\n",
       "      <td>0.43</td>\n",
       "      <td>2018</td>\n",
       "    </tr>\n",
       "    <tr>\n",
       "      <th>2</th>\n",
       "      <td>Arizona</td>\n",
       "      <td>1149</td>\n",
       "      <td>0.29</td>\n",
       "      <td>2018</td>\n",
       "    </tr>\n",
       "    <tr>\n",
       "      <th>3</th>\n",
       "      <td>Arkansas</td>\n",
       "      <td>1169</td>\n",
       "      <td>0.05</td>\n",
       "      <td>2018</td>\n",
       "    </tr>\n",
       "    <tr>\n",
       "      <th>4</th>\n",
       "      <td>California</td>\n",
       "      <td>1076</td>\n",
       "      <td>0.60</td>\n",
       "      <td>2018</td>\n",
       "    </tr>\n",
       "  </tbody>\n",
       "</table>\n",
       "</div>"
      ],
      "text/plain": [
       "        state  total_mean  part_rate  year\n",
       "0     Alabama        1166       0.06  2018\n",
       "1      Alaska        1106       0.43  2018\n",
       "2     Arizona        1149       0.29  2018\n",
       "3    Arkansas        1169       0.05  2018\n",
       "4  California        1076       0.60  2018"
      ]
     },
     "execution_count": 13,
     "metadata": {},
     "output_type": "execute_result"
    }
   ],
   "source": [
    "#drop columns for participation and scores for individual components\n",
    "sat_2018.drop(['Participation', 'Evidence-Based Reading and Writing', 'Math'], axis=1, inplace=True)\n",
    "\n",
    "#column names set in lower case; remove spaces in column names; rename columns for clarity\n",
    "sat_2018.columns = sat_2018.columns.str.lower()\n",
    "sat_2018.rename(columns = {'participation':'participation_rate_pct'}, inplace = True)\n",
    "sat_2018.rename(columns = {'total':'total_mean'}, inplace = True)\n",
    "\n",
    "#add year column to all rows\n",
    "sat_2018[\"year\"] = \"2018\"\n",
    "\n",
    "#verify data changes\n",
    "sat_2018.head()"
   ]
  },
  {
   "cell_type": "code",
   "execution_count": 14,
   "metadata": {},
   "outputs": [
    {
     "name": "stdout",
     "output_type": "stream",
     "text": [
      "Mean total score is within 400-1600: True.\n"
     ]
    }
   ],
   "source": [
    "#to confirm all mean total score within score range of 400 - 1600  \n",
    "res_total = True\n",
    "for total in sat_2018['total_mean']:\n",
    "    if total<400 or total>1600:\n",
    "        res_total = False\n",
    "        break \n",
    "print(f\"Mean total score is within 400-1600: {res_total}.\")"
   ]
  },
  {
   "cell_type": "markdown",
   "metadata": {},
   "source": [
    "##### SAT 2019"
   ]
  },
  {
   "cell_type": "code",
   "execution_count": 15,
   "metadata": {},
   "outputs": [
    {
     "data": {
      "text/html": [
       "<div>\n",
       "<style scoped>\n",
       "    .dataframe tbody tr th:only-of-type {\n",
       "        vertical-align: middle;\n",
       "    }\n",
       "\n",
       "    .dataframe tbody tr th {\n",
       "        vertical-align: top;\n",
       "    }\n",
       "\n",
       "    .dataframe thead th {\n",
       "        text-align: right;\n",
       "    }\n",
       "</style>\n",
       "<table border=\"1\" class=\"dataframe\">\n",
       "  <thead>\n",
       "    <tr style=\"text-align: right;\">\n",
       "      <th></th>\n",
       "      <th>State</th>\n",
       "      <th>Participation Rate</th>\n",
       "      <th>EBRW</th>\n",
       "      <th>Math</th>\n",
       "      <th>Total</th>\n",
       "    </tr>\n",
       "  </thead>\n",
       "  <tbody>\n",
       "    <tr>\n",
       "      <th>0</th>\n",
       "      <td>Alabama</td>\n",
       "      <td>7%</td>\n",
       "      <td>583</td>\n",
       "      <td>560</td>\n",
       "      <td>1143</td>\n",
       "    </tr>\n",
       "    <tr>\n",
       "      <th>1</th>\n",
       "      <td>Alaska</td>\n",
       "      <td>41%</td>\n",
       "      <td>556</td>\n",
       "      <td>541</td>\n",
       "      <td>1097</td>\n",
       "    </tr>\n",
       "    <tr>\n",
       "      <th>2</th>\n",
       "      <td>Arizona</td>\n",
       "      <td>31%</td>\n",
       "      <td>569</td>\n",
       "      <td>565</td>\n",
       "      <td>1134</td>\n",
       "    </tr>\n",
       "    <tr>\n",
       "      <th>3</th>\n",
       "      <td>Arkansas</td>\n",
       "      <td>6%</td>\n",
       "      <td>582</td>\n",
       "      <td>559</td>\n",
       "      <td>1141</td>\n",
       "    </tr>\n",
       "    <tr>\n",
       "      <th>4</th>\n",
       "      <td>California</td>\n",
       "      <td>63%</td>\n",
       "      <td>534</td>\n",
       "      <td>531</td>\n",
       "      <td>1065</td>\n",
       "    </tr>\n",
       "  </tbody>\n",
       "</table>\n",
       "</div>"
      ],
      "text/plain": [
       "        State Participation Rate  EBRW  Math  Total\n",
       "0     Alabama                 7%   583   560   1143\n",
       "1      Alaska                41%   556   541   1097\n",
       "2     Arizona                31%   569   565   1134\n",
       "3    Arkansas                 6%   582   559   1141\n",
       "4  California                63%   534   531   1065"
      ]
     },
     "execution_count": 15,
     "metadata": {},
     "output_type": "execute_result"
    }
   ],
   "source": [
    "#read sat_2019 data file and display first 5 rows\n",
    "sat_2019 = pd.read_csv(\"../data/sat_2019.csv\")\n",
    "sat_2019.head()"
   ]
  },
  {
   "cell_type": "code",
   "execution_count": 16,
   "metadata": {},
   "outputs": [
    {
     "data": {
      "text/plain": [
       "State                 Participation Rate  EBRW  Math  Total\n",
       "Alabama               7%                  583   560   1143     1\n",
       "Nebraska              3%                  628   631   1260     1\n",
       "New Hampshire         95%                 533   526   1059     1\n",
       "New Jersey            82%                 544   545   1090     1\n",
       "New Mexico            18%                 543   530   1073     1\n",
       "New York              79%                 531   533   1064     1\n",
       "North Carolina        51%                 554   546   1100     1\n",
       "North Dakota          2%                  627   636   1263     1\n",
       "Ohio                  19%                 550   548   1097     1\n",
       "Oklahoma              22%                 490   472   963      1\n",
       "Oregon                51%                 562   550   1112     1\n",
       "Pennsylvania          70%                 545   537   1082     1\n",
       "Puerto Rico           —                   483   462   944      1\n",
       "Rhode Island          100%                503   492   995      1\n",
       "South Carolina        68%                 526   504   1030     1\n",
       "South Dakota          3%                  633   635   1268     1\n",
       "Tennessee             7%                  618   602   1220     1\n",
       "Texas                 68%                 515   507   1022     1\n",
       "Utah                  4%                  614   615   1230     1\n",
       "Vermont               66%                 560   546   1106     1\n",
       "Virgin Islands        —                   490   445   935      1\n",
       "Virginia              68%                 567   551   1119     1\n",
       "Washington            70%                 539   535   1074     1\n",
       "West Virginia         99%                 483   460   943      1\n",
       "Wisconsin             3%                  635   648   1283     1\n",
       "Nevada                20%                 580   576   1156     1\n",
       "Montana               9%                  603   596   1199     1\n",
       "Alaska                41%                 556   541   1097     1\n",
       "Missouri              4%                  622   615   1236     1\n",
       "Arizona               31%                 569   565   1134     1\n",
       "Arkansas              6%                  582   559   1141     1\n",
       "California            63%                 534   531   1065     1\n",
       "Colorado              100%                518   506   1024     1\n",
       "Connecticut           100%                529   516   1046     1\n",
       "Delaware              100%                499   486   985      1\n",
       "District of Columbia  94%                 495   480   975      1\n",
       "Florida               100%                516   483   999      1\n",
       "Georgia               71%                 538   519   1058     1\n",
       "Hawaii                54%                 550   550   1100     1\n",
       "Idaho                 100%                505   488   993      1\n",
       "Illinois              100%                509   504   1013     1\n",
       "Indiana               66%                 543   537   1080     1\n",
       "Iowa                  3%                  622   622   1244     1\n",
       "Kansas                4%                  618   623   1241     1\n",
       "Kentucky              4%                  620   612   1232     1\n",
       "Louisiana             5%                  610   591   1200     1\n",
       "Maine                 99%                 512   502   1013     1\n",
       "Maryland              82%                 535   523   1058     1\n",
       "Massachusetts         81%                 559   561   1120     1\n",
       "Michigan              100%                507   496   1003     1\n",
       "Minnesota             4%                  636   648   1284     1\n",
       "Mississippi           3%                  628   608   1237     1\n",
       "Wyoming               3%                  623   615   1238     1\n",
       "dtype: int64"
      ]
     },
     "execution_count": 16,
     "metadata": {},
     "output_type": "execute_result"
    }
   ],
   "source": [
    "#check for missing values and special characters\n",
    "sat_2019.value_counts()"
   ]
  },
  {
   "cell_type": "code",
   "execution_count": 17,
   "metadata": {},
   "outputs": [
    {
     "data": {
      "text/plain": [
       "State                 Participation Rate  EBRW  Math  Total  part_rate\n",
       "Alabama               7%                  583   560   1143   0.07         1\n",
       "Nebraska              3%                  628   631   1260   0.03         1\n",
       "New Hampshire         95%                 533   526   1059   0.95         1\n",
       "New Jersey            82%                 544   545   1090   0.82         1\n",
       "New Mexico            18%                 543   530   1073   0.18         1\n",
       "New York              79%                 531   533   1064   0.79         1\n",
       "North Carolina        51%                 554   546   1100   0.51         1\n",
       "North Dakota          2%                  627   636   1263   0.02         1\n",
       "Ohio                  19%                 550   548   1097   0.19         1\n",
       "Oklahoma              22%                 490   472   963    0.22         1\n",
       "Oregon                51%                 562   550   1112   0.51         1\n",
       "Pennsylvania          70%                 545   537   1082   0.70         1\n",
       "Puerto Rico           25%                 483   462   944    0.25         1\n",
       "Rhode Island          100%                503   492   995    1.00         1\n",
       "South Carolina        68%                 526   504   1030   0.68         1\n",
       "South Dakota          3%                  633   635   1268   0.03         1\n",
       "Tennessee             7%                  618   602   1220   0.07         1\n",
       "Texas                 68%                 515   507   1022   0.68         1\n",
       "Utah                  4%                  614   615   1230   0.04         1\n",
       "Vermont               66%                 560   546   1106   0.66         1\n",
       "Virgin Islands        25%                 490   445   935    0.25         1\n",
       "Virginia              68%                 567   551   1119   0.68         1\n",
       "Washington            70%                 539   535   1074   0.70         1\n",
       "West Virginia         99%                 483   460   943    0.99         1\n",
       "Wisconsin             3%                  635   648   1283   0.03         1\n",
       "Nevada                20%                 580   576   1156   0.20         1\n",
       "Montana               9%                  603   596   1199   0.09         1\n",
       "Alaska                41%                 556   541   1097   0.41         1\n",
       "Missouri              4%                  622   615   1236   0.04         1\n",
       "Arizona               31%                 569   565   1134   0.31         1\n",
       "Arkansas              6%                  582   559   1141   0.06         1\n",
       "California            63%                 534   531   1065   0.63         1\n",
       "Colorado              100%                518   506   1024   1.00         1\n",
       "Connecticut           100%                529   516   1046   1.00         1\n",
       "Delaware              100%                499   486   985    1.00         1\n",
       "District of Columbia  94%                 495   480   975    0.94         1\n",
       "Florida               100%                516   483   999    1.00         1\n",
       "Georgia               71%                 538   519   1058   0.71         1\n",
       "Hawaii                54%                 550   550   1100   0.54         1\n",
       "Idaho                 100%                505   488   993    1.00         1\n",
       "Illinois              100%                509   504   1013   1.00         1\n",
       "Indiana               66%                 543   537   1080   0.66         1\n",
       "Iowa                  3%                  622   622   1244   0.03         1\n",
       "Kansas                4%                  618   623   1241   0.04         1\n",
       "Kentucky              4%                  620   612   1232   0.04         1\n",
       "Louisiana             5%                  610   591   1200   0.05         1\n",
       "Maine                 99%                 512   502   1013   0.99         1\n",
       "Maryland              82%                 535   523   1058   0.82         1\n",
       "Massachusetts         81%                 559   561   1120   0.81         1\n",
       "Michigan              100%                507   496   1003   1.00         1\n",
       "Minnesota             4%                  636   648   1284   0.04         1\n",
       "Mississippi           3%                  628   608   1237   0.03         1\n",
       "Wyoming               3%                  623   615   1238   0.03         1\n",
       "dtype: int64"
      ]
     },
     "execution_count": 17,
     "metadata": {},
     "output_type": "execute_result"
    }
   ],
   "source": [
    "#remove \"—\" and impute 25% (Assume participation rate is similar to Puerto Rico [5189 takers/ 20361 graduates] -similar scores)\n",
    "sat_2019['Participation Rate'] = sat_2019['Participation Rate'].str.replace('—','25%') \n",
    "\n",
    "#to remove % and convert to float in Participation Rate column\n",
    "sat_2019['part_rate'] = sat_2019['Participation Rate'].map(pct_float_converter)\n",
    "\n",
    "#display data types to verify changes\n",
    "sat_2019.value_counts()"
   ]
  },
  {
   "cell_type": "code",
   "execution_count": 18,
   "metadata": {},
   "outputs": [
    {
     "data": {
      "text/html": [
       "<div>\n",
       "<style scoped>\n",
       "    .dataframe tbody tr th:only-of-type {\n",
       "        vertical-align: middle;\n",
       "    }\n",
       "\n",
       "    .dataframe tbody tr th {\n",
       "        vertical-align: top;\n",
       "    }\n",
       "\n",
       "    .dataframe thead th {\n",
       "        text-align: right;\n",
       "    }\n",
       "</style>\n",
       "<table border=\"1\" class=\"dataframe\">\n",
       "  <thead>\n",
       "    <tr style=\"text-align: right;\">\n",
       "      <th></th>\n",
       "      <th>state</th>\n",
       "      <th>total_mean</th>\n",
       "      <th>part_rate</th>\n",
       "      <th>year</th>\n",
       "    </tr>\n",
       "  </thead>\n",
       "  <tbody>\n",
       "    <tr>\n",
       "      <th>0</th>\n",
       "      <td>Alabama</td>\n",
       "      <td>1143</td>\n",
       "      <td>0.07</td>\n",
       "      <td>2019</td>\n",
       "    </tr>\n",
       "    <tr>\n",
       "      <th>1</th>\n",
       "      <td>Alaska</td>\n",
       "      <td>1097</td>\n",
       "      <td>0.41</td>\n",
       "      <td>2019</td>\n",
       "    </tr>\n",
       "    <tr>\n",
       "      <th>2</th>\n",
       "      <td>Arizona</td>\n",
       "      <td>1134</td>\n",
       "      <td>0.31</td>\n",
       "      <td>2019</td>\n",
       "    </tr>\n",
       "    <tr>\n",
       "      <th>3</th>\n",
       "      <td>Arkansas</td>\n",
       "      <td>1141</td>\n",
       "      <td>0.06</td>\n",
       "      <td>2019</td>\n",
       "    </tr>\n",
       "    <tr>\n",
       "      <th>4</th>\n",
       "      <td>California</td>\n",
       "      <td>1065</td>\n",
       "      <td>0.63</td>\n",
       "      <td>2019</td>\n",
       "    </tr>\n",
       "  </tbody>\n",
       "</table>\n",
       "</div>"
      ],
      "text/plain": [
       "        state  total_mean  part_rate  year\n",
       "0     Alabama        1143       0.07  2019\n",
       "1      Alaska        1097       0.41  2019\n",
       "2     Arizona        1134       0.31  2019\n",
       "3    Arkansas        1141       0.06  2019\n",
       "4  California        1065       0.63  2019"
      ]
     },
     "execution_count": 18,
     "metadata": {},
     "output_type": "execute_result"
    }
   ],
   "source": [
    "#drop columns for participation and scores for individual components\n",
    "sat_2019.drop(['Participation Rate', 'EBRW', 'Math'], axis=1, inplace=True)\n",
    "\n",
    "#column names set in lower case; remove spaces in column names; rename columns for clarity\n",
    "sat_2019.columns = sat_2019.columns.str.lower()\n",
    "sat_2019.rename(columns = {'participation rate':'participation_rate_pct'}, inplace = True)\n",
    "sat_2019.rename(columns = {'total':'total_mean'}, inplace = True)\n",
    "\n",
    "#add year column to all rows\n",
    "sat_2019[\"year\"] = \"2019\"\n",
    "\n",
    "#verify changes in data\n",
    "sat_2019.head()"
   ]
  },
  {
   "cell_type": "code",
   "execution_count": 19,
   "metadata": {},
   "outputs": [
    {
     "name": "stdout",
     "output_type": "stream",
     "text": [
      "Mean total score is within 400-1600: True.\n"
     ]
    }
   ],
   "source": [
    "#to confirm all mean total score within score range of 400 - 1600  \n",
    "res_total = True\n",
    "for total in sat_2019['total_mean']:\n",
    "    if total<400 or total>1600:\n",
    "        res_total = False\n",
    "        break \n",
    "print(f\"Mean total score is within 400-1600: {res_total}.\")"
   ]
  },
  {
   "cell_type": "markdown",
   "metadata": {},
   "source": [
    "##### Processing of SAT Data"
   ]
  },
  {
   "cell_type": "code",
   "execution_count": 20,
   "metadata": {},
   "outputs": [
    {
     "name": "stdout",
     "output_type": "stream",
     "text": [
      "Puerto Rico\n",
      "Virgin Islands\n"
     ]
    }
   ],
   "source": [
    "#identify the 2 states without data in 2017 and 2018\n",
    "for state in sat_2019['state']:\n",
    "    if state not in list(sat_2018['state']):\n",
    "        print (state)"
   ]
  },
  {
   "cell_type": "code",
   "execution_count": 21,
   "metadata": {},
   "outputs": [],
   "source": [
    "#drop rows related to Puerto Rico and Virgin Islands in 2019\n",
    "drop_state = sat_2019[(sat_2019['state'] == 'Puerto Rico') | (sat_2019['state'] == \"Virgin Islands\")].index\n",
    "sat_2019.drop(drop_state , inplace=True)"
   ]
  },
  {
   "cell_type": "code",
   "execution_count": 22,
   "metadata": {},
   "outputs": [
    {
     "name": "stdout",
     "output_type": "stream",
     "text": [
      "<class 'pandas.core.frame.DataFrame'>\n",
      "Int64Index: 153 entries, 0 to 52\n",
      "Data columns (total 4 columns):\n",
      " #   Column      Non-Null Count  Dtype  \n",
      "---  ------      --------------  -----  \n",
      " 0   state       153 non-null    object \n",
      " 1   total_mean  153 non-null    int64  \n",
      " 2   part_rate   153 non-null    float64\n",
      " 3   year        153 non-null    object \n",
      "dtypes: float64(1), int64(1), object(2)\n",
      "memory usage: 6.0+ KB\n"
     ]
    }
   ],
   "source": [
    "#merge relevant columns from 2017-2019 data together (stacked vertically)\n",
    "sat_stack_1 = pd.concat([sat_2017, sat_2018], axis=0)\n",
    "sat_stack_all = pd.concat([sat_stack_1, sat_2019], axis=0)\n",
    "sat_stack_all.info()"
   ]
  },
  {
   "cell_type": "code",
   "execution_count": 23,
   "metadata": {},
   "outputs": [],
   "source": [
    "#save as csv file\n",
    "sat_stack_all.to_csv(\"../data/sat_stack_all.csv\")"
   ]
  },
  {
   "cell_type": "code",
   "execution_count": 24,
   "metadata": {},
   "outputs": [
    {
     "data": {
      "text/html": [
       "<div>\n",
       "<style scoped>\n",
       "    .dataframe tbody tr th:only-of-type {\n",
       "        vertical-align: middle;\n",
       "    }\n",
       "\n",
       "    .dataframe tbody tr th {\n",
       "        vertical-align: top;\n",
       "    }\n",
       "\n",
       "    .dataframe thead th {\n",
       "        text-align: right;\n",
       "    }\n",
       "</style>\n",
       "<table border=\"1\" class=\"dataframe\">\n",
       "  <thead>\n",
       "    <tr style=\"text-align: right;\">\n",
       "      <th></th>\n",
       "      <th>Unnamed: 0</th>\n",
       "      <th>state</th>\n",
       "      <th>total_mean</th>\n",
       "      <th>part_rate</th>\n",
       "      <th>year</th>\n",
       "      <th>geog_location</th>\n",
       "    </tr>\n",
       "  </thead>\n",
       "  <tbody>\n",
       "    <tr>\n",
       "      <th>0</th>\n",
       "      <td>0</td>\n",
       "      <td>Alabama</td>\n",
       "      <td>1165</td>\n",
       "      <td>0.05</td>\n",
       "      <td>2017</td>\n",
       "      <td>South</td>\n",
       "    </tr>\n",
       "    <tr>\n",
       "      <th>1</th>\n",
       "      <td>1</td>\n",
       "      <td>Alaska</td>\n",
       "      <td>1080</td>\n",
       "      <td>0.38</td>\n",
       "      <td>2017</td>\n",
       "      <td>West</td>\n",
       "    </tr>\n",
       "    <tr>\n",
       "      <th>2</th>\n",
       "      <td>2</td>\n",
       "      <td>Arizona</td>\n",
       "      <td>1116</td>\n",
       "      <td>0.30</td>\n",
       "      <td>2017</td>\n",
       "      <td>South</td>\n",
       "    </tr>\n",
       "    <tr>\n",
       "      <th>3</th>\n",
       "      <td>3</td>\n",
       "      <td>Arkansas</td>\n",
       "      <td>1208</td>\n",
       "      <td>0.03</td>\n",
       "      <td>2017</td>\n",
       "      <td>South</td>\n",
       "    </tr>\n",
       "    <tr>\n",
       "      <th>4</th>\n",
       "      <td>4</td>\n",
       "      <td>California</td>\n",
       "      <td>1055</td>\n",
       "      <td>0.53</td>\n",
       "      <td>2017</td>\n",
       "      <td>West</td>\n",
       "    </tr>\n",
       "  </tbody>\n",
       "</table>\n",
       "</div>"
      ],
      "text/plain": [
       "   Unnamed: 0       state  total_mean  part_rate  year geog_location\n",
       "0           0     Alabama        1165       0.05  2017         South\n",
       "1           1      Alaska        1080       0.38  2017          West\n",
       "2           2     Arizona        1116       0.30  2017         South\n",
       "3           3    Arkansas        1208       0.03  2017         South\n",
       "4           4  California        1055       0.53  2017          West"
      ]
     },
     "execution_count": 24,
     "metadata": {},
     "output_type": "execute_result"
    }
   ],
   "source": [
    "#read sat_stack_all_region --> the states are further classified into geographical location\n",
    "sat_stack_all_region = pd.read_csv(\"../data/sat_stack_all_region.csv\")\n",
    "sat_stack_all_region.head()"
   ]
  },
  {
   "cell_type": "markdown",
   "metadata": {},
   "source": [
    "#### B. Import ACT Data Files for 2017 - 2019"
   ]
  },
  {
   "cell_type": "markdown",
   "metadata": {},
   "source": [
    "##### ACT 2017"
   ]
  },
  {
   "cell_type": "code",
   "execution_count": 25,
   "metadata": {},
   "outputs": [
    {
     "data": {
      "text/html": [
       "<div>\n",
       "<style scoped>\n",
       "    .dataframe tbody tr th:only-of-type {\n",
       "        vertical-align: middle;\n",
       "    }\n",
       "\n",
       "    .dataframe tbody tr th {\n",
       "        vertical-align: top;\n",
       "    }\n",
       "\n",
       "    .dataframe thead th {\n",
       "        text-align: right;\n",
       "    }\n",
       "</style>\n",
       "<table border=\"1\" class=\"dataframe\">\n",
       "  <thead>\n",
       "    <tr style=\"text-align: right;\">\n",
       "      <th></th>\n",
       "      <th>State</th>\n",
       "      <th>Participation</th>\n",
       "      <th>English</th>\n",
       "      <th>Math</th>\n",
       "      <th>Reading</th>\n",
       "      <th>Science</th>\n",
       "      <th>Composite</th>\n",
       "    </tr>\n",
       "  </thead>\n",
       "  <tbody>\n",
       "    <tr>\n",
       "      <th>0</th>\n",
       "      <td>National</td>\n",
       "      <td>60%</td>\n",
       "      <td>20.3</td>\n",
       "      <td>20.7</td>\n",
       "      <td>21.4</td>\n",
       "      <td>21.0</td>\n",
       "      <td>21.0</td>\n",
       "    </tr>\n",
       "    <tr>\n",
       "      <th>1</th>\n",
       "      <td>Alabama</td>\n",
       "      <td>100%</td>\n",
       "      <td>18.9</td>\n",
       "      <td>18.4</td>\n",
       "      <td>19.7</td>\n",
       "      <td>19.4</td>\n",
       "      <td>19.2</td>\n",
       "    </tr>\n",
       "    <tr>\n",
       "      <th>2</th>\n",
       "      <td>Alaska</td>\n",
       "      <td>65%</td>\n",
       "      <td>18.7</td>\n",
       "      <td>19.8</td>\n",
       "      <td>20.4</td>\n",
       "      <td>19.9</td>\n",
       "      <td>19.8</td>\n",
       "    </tr>\n",
       "    <tr>\n",
       "      <th>3</th>\n",
       "      <td>Arizona</td>\n",
       "      <td>62%</td>\n",
       "      <td>18.6</td>\n",
       "      <td>19.8</td>\n",
       "      <td>20.1</td>\n",
       "      <td>19.8</td>\n",
       "      <td>19.7</td>\n",
       "    </tr>\n",
       "    <tr>\n",
       "      <th>4</th>\n",
       "      <td>Arkansas</td>\n",
       "      <td>100%</td>\n",
       "      <td>18.9</td>\n",
       "      <td>19.0</td>\n",
       "      <td>19.7</td>\n",
       "      <td>19.5</td>\n",
       "      <td>19.4</td>\n",
       "    </tr>\n",
       "  </tbody>\n",
       "</table>\n",
       "</div>"
      ],
      "text/plain": [
       "      State Participation  English  Math  Reading  Science Composite\n",
       "0  National           60%     20.3  20.7     21.4     21.0      21.0\n",
       "1   Alabama          100%     18.9  18.4     19.7     19.4      19.2\n",
       "2    Alaska           65%     18.7  19.8     20.4     19.9      19.8\n",
       "3   Arizona           62%     18.6  19.8     20.1     19.8      19.7\n",
       "4  Arkansas          100%     18.9  19.0     19.7     19.5      19.4"
      ]
     },
     "execution_count": 25,
     "metadata": {},
     "output_type": "execute_result"
    }
   ],
   "source": [
    "#read act_2017 data file\n",
    "act_2017 = pd.read_csv(\"../data/act_2017.csv\")\n",
    "act_2017.head()"
   ]
  },
  {
   "cell_type": "code",
   "execution_count": 26,
   "metadata": {},
   "outputs": [
    {
     "data": {
      "text/plain": [
       "State            0\n",
       "Participation    0\n",
       "English          0\n",
       "Math             0\n",
       "Reading          0\n",
       "Science          0\n",
       "Composite        0\n",
       "dtype: int64"
      ]
     },
     "execution_count": 26,
     "metadata": {},
     "output_type": "execute_result"
    }
   ],
   "source": [
    "#check for missing values\n",
    "act_2017.isnull().sum()"
   ]
  },
  {
   "cell_type": "code",
   "execution_count": 27,
   "metadata": {},
   "outputs": [
    {
     "name": "stdout",
     "output_type": "stream",
     "text": [
      "<class 'pandas.core.frame.DataFrame'>\n",
      "RangeIndex: 52 entries, 0 to 51\n",
      "Data columns (total 7 columns):\n",
      " #   Column         Non-Null Count  Dtype  \n",
      "---  ------         --------------  -----  \n",
      " 0   State          52 non-null     object \n",
      " 1   Participation  52 non-null     object \n",
      " 2   English        52 non-null     float64\n",
      " 3   Math           52 non-null     float64\n",
      " 4   Reading        52 non-null     float64\n",
      " 5   Science        52 non-null     float64\n",
      " 6   Composite      52 non-null     object \n",
      "dtypes: float64(4), object(3)\n",
      "memory usage: 3.0+ KB\n"
     ]
    }
   ],
   "source": [
    "#display data types of each feature\n",
    "act_2017.info()"
   ]
  },
  {
   "cell_type": "code",
   "execution_count": 28,
   "metadata": {},
   "outputs": [
    {
     "data": {
      "text/html": [
       "<div>\n",
       "<style scoped>\n",
       "    .dataframe tbody tr th:only-of-type {\n",
       "        vertical-align: middle;\n",
       "    }\n",
       "\n",
       "    .dataframe tbody tr th {\n",
       "        vertical-align: top;\n",
       "    }\n",
       "\n",
       "    .dataframe thead th {\n",
       "        text-align: right;\n",
       "    }\n",
       "</style>\n",
       "<table border=\"1\" class=\"dataframe\">\n",
       "  <thead>\n",
       "    <tr style=\"text-align: right;\">\n",
       "      <th></th>\n",
       "      <th>State</th>\n",
       "      <th>Participation</th>\n",
       "      <th>English</th>\n",
       "      <th>Math</th>\n",
       "      <th>Reading</th>\n",
       "      <th>Science</th>\n",
       "      <th>Composite</th>\n",
       "      <th>part_rate</th>\n",
       "    </tr>\n",
       "  </thead>\n",
       "  <tbody>\n",
       "    <tr>\n",
       "      <th>0</th>\n",
       "      <td>National</td>\n",
       "      <td>60%</td>\n",
       "      <td>20.3</td>\n",
       "      <td>20.7</td>\n",
       "      <td>21.4</td>\n",
       "      <td>21.0</td>\n",
       "      <td>21.0</td>\n",
       "      <td>0.60</td>\n",
       "    </tr>\n",
       "    <tr>\n",
       "      <th>1</th>\n",
       "      <td>Alabama</td>\n",
       "      <td>100%</td>\n",
       "      <td>18.9</td>\n",
       "      <td>18.4</td>\n",
       "      <td>19.7</td>\n",
       "      <td>19.4</td>\n",
       "      <td>19.2</td>\n",
       "      <td>1.00</td>\n",
       "    </tr>\n",
       "    <tr>\n",
       "      <th>2</th>\n",
       "      <td>Alaska</td>\n",
       "      <td>65%</td>\n",
       "      <td>18.7</td>\n",
       "      <td>19.8</td>\n",
       "      <td>20.4</td>\n",
       "      <td>19.9</td>\n",
       "      <td>19.8</td>\n",
       "      <td>0.65</td>\n",
       "    </tr>\n",
       "    <tr>\n",
       "      <th>3</th>\n",
       "      <td>Arizona</td>\n",
       "      <td>62%</td>\n",
       "      <td>18.6</td>\n",
       "      <td>19.8</td>\n",
       "      <td>20.1</td>\n",
       "      <td>19.8</td>\n",
       "      <td>19.7</td>\n",
       "      <td>0.62</td>\n",
       "    </tr>\n",
       "    <tr>\n",
       "      <th>4</th>\n",
       "      <td>Arkansas</td>\n",
       "      <td>100%</td>\n",
       "      <td>18.9</td>\n",
       "      <td>19.0</td>\n",
       "      <td>19.7</td>\n",
       "      <td>19.5</td>\n",
       "      <td>19.4</td>\n",
       "      <td>1.00</td>\n",
       "    </tr>\n",
       "  </tbody>\n",
       "</table>\n",
       "</div>"
      ],
      "text/plain": [
       "      State Participation  English  Math  Reading  Science Composite  \\\n",
       "0  National           60%     20.3  20.7     21.4     21.0      21.0   \n",
       "1   Alabama          100%     18.9  18.4     19.7     19.4      19.2   \n",
       "2    Alaska           65%     18.7  19.8     20.4     19.9      19.8   \n",
       "3   Arizona           62%     18.6  19.8     20.1     19.8      19.7   \n",
       "4  Arkansas          100%     18.9  19.0     19.7     19.5      19.4   \n",
       "\n",
       "   part_rate  \n",
       "0       0.60  \n",
       "1       1.00  \n",
       "2       0.65  \n",
       "3       0.62  \n",
       "4       1.00  "
      ]
     },
     "execution_count": 28,
     "metadata": {},
     "output_type": "execute_result"
    }
   ],
   "source": [
    "#to remove % and convert object in Participation Rate column to float \n",
    "act_2017['part_rate'] = act_2017['Participation'].map(pct_float_converter)\n",
    "\n",
    "#to check if output is correct\n",
    "act_2017.head()"
   ]
  },
  {
   "cell_type": "code",
   "execution_count": 29,
   "metadata": {},
   "outputs": [
    {
     "data": {
      "text/html": [
       "<div>\n",
       "<style scoped>\n",
       "    .dataframe tbody tr th:only-of-type {\n",
       "        vertical-align: middle;\n",
       "    }\n",
       "\n",
       "    .dataframe tbody tr th {\n",
       "        vertical-align: top;\n",
       "    }\n",
       "\n",
       "    .dataframe thead th {\n",
       "        text-align: right;\n",
       "    }\n",
       "</style>\n",
       "<table border=\"1\" class=\"dataframe\">\n",
       "  <thead>\n",
       "    <tr style=\"text-align: right;\">\n",
       "      <th></th>\n",
       "      <th>state</th>\n",
       "      <th>act_composite_mean</th>\n",
       "      <th>part_rate</th>\n",
       "      <th>year</th>\n",
       "    </tr>\n",
       "  </thead>\n",
       "  <tbody>\n",
       "    <tr>\n",
       "      <th>1</th>\n",
       "      <td>Alabama</td>\n",
       "      <td>19.2</td>\n",
       "      <td>1.00</td>\n",
       "      <td>2017</td>\n",
       "    </tr>\n",
       "    <tr>\n",
       "      <th>2</th>\n",
       "      <td>Alaska</td>\n",
       "      <td>19.8</td>\n",
       "      <td>0.65</td>\n",
       "      <td>2017</td>\n",
       "    </tr>\n",
       "    <tr>\n",
       "      <th>3</th>\n",
       "      <td>Arizona</td>\n",
       "      <td>19.7</td>\n",
       "      <td>0.62</td>\n",
       "      <td>2017</td>\n",
       "    </tr>\n",
       "    <tr>\n",
       "      <th>4</th>\n",
       "      <td>Arkansas</td>\n",
       "      <td>19.4</td>\n",
       "      <td>1.00</td>\n",
       "      <td>2017</td>\n",
       "    </tr>\n",
       "    <tr>\n",
       "      <th>5</th>\n",
       "      <td>California</td>\n",
       "      <td>22.8</td>\n",
       "      <td>0.31</td>\n",
       "      <td>2017</td>\n",
       "    </tr>\n",
       "  </tbody>\n",
       "</table>\n",
       "</div>"
      ],
      "text/plain": [
       "        state act_composite_mean  part_rate  year\n",
       "1     Alabama               19.2       1.00  2017\n",
       "2      Alaska               19.8       0.65  2017\n",
       "3     Arizona               19.7       0.62  2017\n",
       "4    Arkansas               19.4       1.00  2017\n",
       "5  California               22.8       0.31  2017"
      ]
     },
     "execution_count": 29,
     "metadata": {},
     "output_type": "execute_result"
    }
   ],
   "source": [
    "#column names set in lower case; rename columns for clarity\n",
    "act_2017.columns = act_2017.columns.str.lower()\n",
    "act_2017.rename(columns = {'composite':'act_composite_mean'}, inplace = True)\n",
    "\n",
    "#drop columns for participation and scores for individual components\n",
    "act_2017.drop(['participation', 'english', 'math', 'reading', 'science'], axis=1, inplace=True)\n",
    "\n",
    "#drop national average row\n",
    "drop_national = act_2017[(act_2017['state'] == 'National')].index\n",
    "act_2017.drop(drop_national , inplace=True)\n",
    "\n",
    "#add year column to all rows\n",
    "act_2017[\"year\"] = \"2017\"\n",
    "\n",
    "#to check if output is correct\n",
    "act_2017.head()"
   ]
  },
  {
   "cell_type": "code",
   "execution_count": 30,
   "metadata": {},
   "outputs": [
    {
     "data": {
      "text/html": [
       "<div>\n",
       "<style scoped>\n",
       "    .dataframe tbody tr th:only-of-type {\n",
       "        vertical-align: middle;\n",
       "    }\n",
       "\n",
       "    .dataframe tbody tr th {\n",
       "        vertical-align: top;\n",
       "    }\n",
       "\n",
       "    .dataframe thead th {\n",
       "        text-align: right;\n",
       "    }\n",
       "</style>\n",
       "<table border=\"1\" class=\"dataframe\">\n",
       "  <thead>\n",
       "    <tr style=\"text-align: right;\">\n",
       "      <th></th>\n",
       "      <th>state</th>\n",
       "      <th>act_composite_mean</th>\n",
       "      <th>part_rate</th>\n",
       "      <th>year</th>\n",
       "    </tr>\n",
       "  </thead>\n",
       "  <tbody>\n",
       "    <tr>\n",
       "      <th>47</th>\n",
       "      <td>Virginia</td>\n",
       "      <td>23.8</td>\n",
       "      <td>0.29</td>\n",
       "      <td>2017</td>\n",
       "    </tr>\n",
       "    <tr>\n",
       "      <th>48</th>\n",
       "      <td>Washington</td>\n",
       "      <td>21.9</td>\n",
       "      <td>0.29</td>\n",
       "      <td>2017</td>\n",
       "    </tr>\n",
       "    <tr>\n",
       "      <th>49</th>\n",
       "      <td>West Virginia</td>\n",
       "      <td>20.4</td>\n",
       "      <td>0.69</td>\n",
       "      <td>2017</td>\n",
       "    </tr>\n",
       "    <tr>\n",
       "      <th>50</th>\n",
       "      <td>Wisconsin</td>\n",
       "      <td>20.5</td>\n",
       "      <td>1.00</td>\n",
       "      <td>2017</td>\n",
       "    </tr>\n",
       "    <tr>\n",
       "      <th>51</th>\n",
       "      <td>Wyoming</td>\n",
       "      <td>20.2</td>\n",
       "      <td>1.00</td>\n",
       "      <td>2017</td>\n",
       "    </tr>\n",
       "  </tbody>\n",
       "</table>\n",
       "</div>"
      ],
      "text/plain": [
       "            state act_composite_mean  part_rate  year\n",
       "47       Virginia               23.8       0.29  2017\n",
       "48     Washington               21.9       0.29  2017\n",
       "49  West Virginia               20.4       0.69  2017\n",
       "50      Wisconsin               20.5       1.00  2017\n",
       "51        Wyoming               20.2       1.00  2017"
      ]
     },
     "execution_count": 30,
     "metadata": {},
     "output_type": "execute_result"
    }
   ],
   "source": [
    "#clean up: Wyoming composite score contains a stray character --> change 20.2x to 20.2\n",
    "act_2017.loc[act_2017['state'] == \"Wyoming\", \"act_composite_mean\"] = 20.2 \n",
    "\n",
    "#to check if output is correct\n",
    "act_2017.tail()"
   ]
  },
  {
   "cell_type": "code",
   "execution_count": 31,
   "metadata": {},
   "outputs": [
    {
     "name": "stdout",
     "output_type": "stream",
     "text": [
      "Mean Composite score is within 1-36 inclusive: True.\n"
     ]
    }
   ],
   "source": [
    "#convert act_composite_mean to float, and check if composite mean scores are within score range of 1-36  \n",
    "res_composite = True\n",
    "for composite in act_2017['act_composite_mean']:\n",
    "    composite = float(composite)\n",
    "    if composite<1 or composite>36:\n",
    "        res_composite = False\n",
    "        break \n",
    "print(f\"Mean Composite score is within 1-36 inclusive: {res_composite}.\")"
   ]
  },
  {
   "cell_type": "markdown",
   "metadata": {},
   "source": [
    "##### ACT 2018"
   ]
  },
  {
   "cell_type": "code",
   "execution_count": 32,
   "metadata": {},
   "outputs": [
    {
     "data": {
      "text/html": [
       "<div>\n",
       "<style scoped>\n",
       "    .dataframe tbody tr th:only-of-type {\n",
       "        vertical-align: middle;\n",
       "    }\n",
       "\n",
       "    .dataframe tbody tr th {\n",
       "        vertical-align: top;\n",
       "    }\n",
       "\n",
       "    .dataframe thead th {\n",
       "        text-align: right;\n",
       "    }\n",
       "</style>\n",
       "<table border=\"1\" class=\"dataframe\">\n",
       "  <thead>\n",
       "    <tr style=\"text-align: right;\">\n",
       "      <th></th>\n",
       "      <th>State</th>\n",
       "      <th>Participation</th>\n",
       "      <th>Composite</th>\n",
       "    </tr>\n",
       "  </thead>\n",
       "  <tbody>\n",
       "    <tr>\n",
       "      <th>0</th>\n",
       "      <td>Alabama</td>\n",
       "      <td>100%</td>\n",
       "      <td>19.1</td>\n",
       "    </tr>\n",
       "    <tr>\n",
       "      <th>1</th>\n",
       "      <td>Alaska</td>\n",
       "      <td>33%</td>\n",
       "      <td>20.8</td>\n",
       "    </tr>\n",
       "    <tr>\n",
       "      <th>2</th>\n",
       "      <td>Arizona</td>\n",
       "      <td>66%</td>\n",
       "      <td>19.2</td>\n",
       "    </tr>\n",
       "    <tr>\n",
       "      <th>3</th>\n",
       "      <td>Arkansas</td>\n",
       "      <td>100%</td>\n",
       "      <td>19.4</td>\n",
       "    </tr>\n",
       "    <tr>\n",
       "      <th>4</th>\n",
       "      <td>California</td>\n",
       "      <td>27%</td>\n",
       "      <td>22.7</td>\n",
       "    </tr>\n",
       "  </tbody>\n",
       "</table>\n",
       "</div>"
      ],
      "text/plain": [
       "        State Participation  Composite\n",
       "0     Alabama          100%       19.1\n",
       "1      Alaska           33%       20.8\n",
       "2     Arizona           66%       19.2\n",
       "3    Arkansas          100%       19.4\n",
       "4  California           27%       22.7"
      ]
     },
     "execution_count": 32,
     "metadata": {},
     "output_type": "execute_result"
    }
   ],
   "source": [
    "#read act_2018 data file\n",
    "act_2018 = pd.read_csv(\"../data/act_2018.csv\")\n",
    "\n",
    "#display data\n",
    "act_2018.head()"
   ]
  },
  {
   "cell_type": "code",
   "execution_count": 33,
   "metadata": {},
   "outputs": [
    {
     "data": {
      "text/plain": [
       "State            0\n",
       "Participation    0\n",
       "Composite        0\n",
       "dtype: int64"
      ]
     },
     "execution_count": 33,
     "metadata": {},
     "output_type": "execute_result"
    }
   ],
   "source": [
    "#check for missing values\n",
    "act_2018.isnull().sum()"
   ]
  },
  {
   "cell_type": "code",
   "execution_count": 34,
   "metadata": {},
   "outputs": [
    {
     "name": "stdout",
     "output_type": "stream",
     "text": [
      "<class 'pandas.core.frame.DataFrame'>\n",
      "RangeIndex: 52 entries, 0 to 51\n",
      "Data columns (total 3 columns):\n",
      " #   Column         Non-Null Count  Dtype  \n",
      "---  ------         --------------  -----  \n",
      " 0   State          52 non-null     object \n",
      " 1   Participation  52 non-null     object \n",
      " 2   Composite      52 non-null     float64\n",
      "dtypes: float64(1), object(2)\n",
      "memory usage: 1.3+ KB\n"
     ]
    }
   ],
   "source": [
    "#display data types of each feature\n",
    "act_2018.info()"
   ]
  },
  {
   "cell_type": "code",
   "execution_count": 35,
   "metadata": {},
   "outputs": [
    {
     "data": {
      "text/html": [
       "<div>\n",
       "<style scoped>\n",
       "    .dataframe tbody tr th:only-of-type {\n",
       "        vertical-align: middle;\n",
       "    }\n",
       "\n",
       "    .dataframe tbody tr th {\n",
       "        vertical-align: top;\n",
       "    }\n",
       "\n",
       "    .dataframe thead th {\n",
       "        text-align: right;\n",
       "    }\n",
       "</style>\n",
       "<table border=\"1\" class=\"dataframe\">\n",
       "  <thead>\n",
       "    <tr style=\"text-align: right;\">\n",
       "      <th></th>\n",
       "      <th>State</th>\n",
       "      <th>Participation</th>\n",
       "      <th>Composite</th>\n",
       "      <th>part_rate</th>\n",
       "    </tr>\n",
       "  </thead>\n",
       "  <tbody>\n",
       "    <tr>\n",
       "      <th>0</th>\n",
       "      <td>Alabama</td>\n",
       "      <td>100%</td>\n",
       "      <td>19.1</td>\n",
       "      <td>1.00</td>\n",
       "    </tr>\n",
       "    <tr>\n",
       "      <th>1</th>\n",
       "      <td>Alaska</td>\n",
       "      <td>33%</td>\n",
       "      <td>20.8</td>\n",
       "      <td>0.33</td>\n",
       "    </tr>\n",
       "    <tr>\n",
       "      <th>2</th>\n",
       "      <td>Arizona</td>\n",
       "      <td>66%</td>\n",
       "      <td>19.2</td>\n",
       "      <td>0.66</td>\n",
       "    </tr>\n",
       "    <tr>\n",
       "      <th>3</th>\n",
       "      <td>Arkansas</td>\n",
       "      <td>100%</td>\n",
       "      <td>19.4</td>\n",
       "      <td>1.00</td>\n",
       "    </tr>\n",
       "    <tr>\n",
       "      <th>4</th>\n",
       "      <td>California</td>\n",
       "      <td>27%</td>\n",
       "      <td>22.7</td>\n",
       "      <td>0.27</td>\n",
       "    </tr>\n",
       "  </tbody>\n",
       "</table>\n",
       "</div>"
      ],
      "text/plain": [
       "        State Participation  Composite  part_rate\n",
       "0     Alabama          100%       19.1       1.00\n",
       "1      Alaska           33%       20.8       0.33\n",
       "2     Arizona           66%       19.2       0.66\n",
       "3    Arkansas          100%       19.4       1.00\n",
       "4  California           27%       22.7       0.27"
      ]
     },
     "execution_count": 35,
     "metadata": {},
     "output_type": "execute_result"
    }
   ],
   "source": [
    "#to remove % and convert object in Participation column to float\n",
    "act_2018['part_rate'] = act_2018['Participation'].map(pct_float_converter)\n",
    "\n",
    "act_2018.head()"
   ]
  },
  {
   "cell_type": "code",
   "execution_count": 36,
   "metadata": {},
   "outputs": [
    {
     "data": {
      "text/plain": [
       "State                 Participation  Composite  part_rate\n",
       "Maine                 7%             24.0       0.07         2\n",
       "Alabama               100%           19.1       1.00         1\n",
       "Montana               100%           20.0       1.00         1\n",
       "Nevada                100%           17.7       1.00         1\n",
       "New Hampshire         16%            25.1       0.16         1\n",
       "New Jersey            31%            23.7       0.31         1\n",
       "New Mexico            67%            19.4       0.67         1\n",
       "New York              27%            24.5       0.27         1\n",
       "North Carolina        100%           19.1       1.00         1\n",
       "North Dakota          98%            20.3       0.98         1\n",
       "Ohio                  100%           20.3       1.00         1\n",
       "Oklahoma              100%           19.3       1.00         1\n",
       "Oregon                42%            21.3       0.42         1\n",
       "Pennsylvania          20%            23.5       0.20         1\n",
       "Rhode Island          15%            24.2       0.15         1\n",
       "South Carolina        100%           18.3       1.00         1\n",
       "South Dakota          77%            21.9       0.77         1\n",
       "Tennessee             100%           19.6       1.00         1\n",
       "Texas                 45%            20.7       0.45         1\n",
       "Utah                  100%           20.4       1.00         1\n",
       "Vermont               24%            24.1       0.24         1\n",
       "Virginia              24%            23.9       0.24         1\n",
       "Washington            24%            22.2       0.24         1\n",
       "West Virginia         65%            20.3       0.65         1\n",
       "Wisconsin             100%           20.5       1.00         1\n",
       "Nebraska              100%           20.1       1.00         1\n",
       "Missouri              100%           20.0       1.00         1\n",
       "Alaska                33%            20.8       0.33         1\n",
       "Mississippi           100%           18.6       1.00         1\n",
       "Arizona               66%            19.2       0.66         1\n",
       "Arkansas              100%           19.4       1.00         1\n",
       "California            27%            22.7       0.27         1\n",
       "Colorado              30%            23.9       0.30         1\n",
       "Connecticut           26%            25.6       0.26         1\n",
       "Delaware              17%            23.8       0.17         1\n",
       "District of columbia  32%            23.6       0.32         1\n",
       "Florida               66%            19.9       0.66         1\n",
       "Georgia               53%            21.4       0.53         1\n",
       "Hawaii                89%            18.9       0.89         1\n",
       "Idaho                 36%            22.3       0.36         1\n",
       "Illinois              43%            23.9       0.43         1\n",
       "Indiana               32%            22.5       0.32         1\n",
       "Iowa                  68%            21.8       0.68         1\n",
       "Kansas                71%            21.6       0.71         1\n",
       "Kentucky              100%           20.2       1.00         1\n",
       "Louisiana             100%           19.2       1.00         1\n",
       "Maryland              31%            22.5       0.31         1\n",
       "Massachusetts         25%            25.5       0.25         1\n",
       "Michigan              22%            24.2       0.22         1\n",
       "Minnesota             99%            21.3       0.99         1\n",
       "Wyoming               100%           20.0       1.00         1\n",
       "dtype: int64"
      ]
     },
     "execution_count": 36,
     "metadata": {},
     "output_type": "execute_result"
    }
   ],
   "source": [
    "#check individual inputs --> noted that Maine clocked 2 counts\n",
    "act_2018.value_counts()"
   ]
  },
  {
   "cell_type": "code",
   "execution_count": 37,
   "metadata": {},
   "outputs": [],
   "source": [
    "#remove duplicate entry for Maine\n",
    "act_2018 = act_2018.drop_duplicates()"
   ]
  },
  {
   "cell_type": "code",
   "execution_count": 38,
   "metadata": {},
   "outputs": [
    {
     "data": {
      "text/plain": [
       "state                 act_composite_mean  part_rate  year\n",
       "Alabama               19.1                1.00       2018    1\n",
       "Pennsylvania          23.5                0.20       2018    1\n",
       "Nevada                17.7                1.00       2018    1\n",
       "New Hampshire         25.1                0.16       2018    1\n",
       "New Jersey            23.7                0.31       2018    1\n",
       "New Mexico            19.4                0.67       2018    1\n",
       "New York              24.5                0.27       2018    1\n",
       "North Carolina        19.1                1.00       2018    1\n",
       "North Dakota          20.3                0.98       2018    1\n",
       "Ohio                  20.3                1.00       2018    1\n",
       "Oklahoma              19.3                1.00       2018    1\n",
       "Oregon                21.3                0.42       2018    1\n",
       "Rhode Island          24.2                0.15       2018    1\n",
       "Montana               20.0                1.00       2018    1\n",
       "South Carolina        18.3                1.00       2018    1\n",
       "South Dakota          21.9                0.77       2018    1\n",
       "Tennessee             19.6                1.00       2018    1\n",
       "Texas                 20.7                0.45       2018    1\n",
       "Utah                  20.4                1.00       2018    1\n",
       "Vermont               24.1                0.24       2018    1\n",
       "Virginia              23.9                0.24       2018    1\n",
       "Washington            22.2                0.24       2018    1\n",
       "West Virginia         20.3                0.65       2018    1\n",
       "Wisconsin             20.5                1.00       2018    1\n",
       "Nebraska              20.1                1.00       2018    1\n",
       "Missouri              20.0                1.00       2018    1\n",
       "Alaska                20.8                0.33       2018    1\n",
       "Idaho                 22.3                0.36       2018    1\n",
       "Arizona               19.2                0.66       2018    1\n",
       "Arkansas              19.4                1.00       2018    1\n",
       "California            22.7                0.27       2018    1\n",
       "Colorado              23.9                0.30       2018    1\n",
       "Connecticut           25.6                0.26       2018    1\n",
       "Delaware              23.8                0.17       2018    1\n",
       "District of Columbia  23.6                0.32       2018    1\n",
       "Florida               19.9                0.66       2018    1\n",
       "Georgia               21.4                0.53       2018    1\n",
       "Hawaii                18.9                0.89       2018    1\n",
       "Illinois              23.9                0.43       2018    1\n",
       "Mississippi           18.6                1.00       2018    1\n",
       "Indiana               22.5                0.32       2018    1\n",
       "Iowa                  21.8                0.68       2018    1\n",
       "Kansas                21.6                0.71       2018    1\n",
       "Kentucky              20.2                1.00       2018    1\n",
       "Louisiana             19.2                1.00       2018    1\n",
       "Maine                 24.0                0.07       2018    1\n",
       "Maryland              22.5                0.31       2018    1\n",
       "Massachusetts         25.5                0.25       2018    1\n",
       "Michigan              24.2                0.22       2018    1\n",
       "Minnesota             21.3                0.99       2018    1\n",
       "Wyoming               20.0                1.00       2018    1\n",
       "dtype: int64"
      ]
     },
     "execution_count": 38,
     "metadata": {},
     "output_type": "execute_result"
    }
   ],
   "source": [
    "#column names set in lower case; rename columns for clarity\n",
    "act_2018.columns = act_2018.columns.str.lower()\n",
    "act_2018.rename(columns = {'composite':'act_composite_mean'}, inplace = True)\n",
    "\n",
    "#drop participation column\n",
    "act_2018.drop(['participation'], axis=1, inplace=True)\n",
    "\n",
    "#change \"c\" in columbia to caps\n",
    "act_2018.loc[act_2018['state'] == \"District of columbia\", \"state\"] = \"District of Columbia\"\n",
    "\n",
    "#add year column to all rows\n",
    "act_2018[\"year\"] = \"2018\"\n",
    "\n",
    "#verify data\n",
    "act_2018.value_counts()"
   ]
  },
  {
   "cell_type": "code",
   "execution_count": 39,
   "metadata": {},
   "outputs": [
    {
     "name": "stdout",
     "output_type": "stream",
     "text": [
      "Mean Composite score is within 1-36 inclusive: True.\n"
     ]
    }
   ],
   "source": [
    "#convert act_composite_mean to float, and check if composite mean scores are within score range of 1-36  \n",
    "res_composite = True\n",
    "for composite in act_2018['act_composite_mean']:\n",
    "    composite = float(composite)\n",
    "    if composite<1 or composite>36:\n",
    "        res_composite = False\n",
    "        break \n",
    "print(f\"Mean Composite score is within 1-36 inclusive: {res_composite}.\")"
   ]
  },
  {
   "cell_type": "markdown",
   "metadata": {},
   "source": [
    "##### ACT 2019"
   ]
  },
  {
   "cell_type": "code",
   "execution_count": 40,
   "metadata": {},
   "outputs": [
    {
     "data": {
      "text/html": [
       "<div>\n",
       "<style scoped>\n",
       "    .dataframe tbody tr th:only-of-type {\n",
       "        vertical-align: middle;\n",
       "    }\n",
       "\n",
       "    .dataframe tbody tr th {\n",
       "        vertical-align: top;\n",
       "    }\n",
       "\n",
       "    .dataframe thead th {\n",
       "        text-align: right;\n",
       "    }\n",
       "</style>\n",
       "<table border=\"1\" class=\"dataframe\">\n",
       "  <thead>\n",
       "    <tr style=\"text-align: right;\">\n",
       "      <th></th>\n",
       "      <th>State</th>\n",
       "      <th>Participation</th>\n",
       "      <th>Composite</th>\n",
       "    </tr>\n",
       "  </thead>\n",
       "  <tbody>\n",
       "    <tr>\n",
       "      <th>0</th>\n",
       "      <td>Alabama</td>\n",
       "      <td>100%</td>\n",
       "      <td>18.9</td>\n",
       "    </tr>\n",
       "    <tr>\n",
       "      <th>1</th>\n",
       "      <td>Alaska</td>\n",
       "      <td>38%</td>\n",
       "      <td>20.1</td>\n",
       "    </tr>\n",
       "    <tr>\n",
       "      <th>2</th>\n",
       "      <td>Arizona</td>\n",
       "      <td>73%</td>\n",
       "      <td>19.0</td>\n",
       "    </tr>\n",
       "    <tr>\n",
       "      <th>3</th>\n",
       "      <td>Arkansas</td>\n",
       "      <td>100%</td>\n",
       "      <td>19.3</td>\n",
       "    </tr>\n",
       "    <tr>\n",
       "      <th>4</th>\n",
       "      <td>California</td>\n",
       "      <td>23%</td>\n",
       "      <td>22.6</td>\n",
       "    </tr>\n",
       "  </tbody>\n",
       "</table>\n",
       "</div>"
      ],
      "text/plain": [
       "        State Participation  Composite\n",
       "0     Alabama          100%       18.9\n",
       "1      Alaska           38%       20.1\n",
       "2     Arizona           73%       19.0\n",
       "3    Arkansas          100%       19.3\n",
       "4  California           23%       22.6"
      ]
     },
     "execution_count": 40,
     "metadata": {},
     "output_type": "execute_result"
    }
   ],
   "source": [
    "#read act_2019 data file\n",
    "act_2019 = pd.read_csv(\"../data/act_2019.csv\")\n",
    "act_2019.head()"
   ]
  },
  {
   "cell_type": "code",
   "execution_count": 41,
   "metadata": {},
   "outputs": [
    {
     "data": {
      "text/plain": [
       "State            0\n",
       "Participation    0\n",
       "Composite        0\n",
       "dtype: int64"
      ]
     },
     "execution_count": 41,
     "metadata": {},
     "output_type": "execute_result"
    }
   ],
   "source": [
    "#check for missing values\n",
    "act_2019.isnull().sum()"
   ]
  },
  {
   "cell_type": "code",
   "execution_count": 42,
   "metadata": {},
   "outputs": [
    {
     "data": {
      "text/html": [
       "<div>\n",
       "<style scoped>\n",
       "    .dataframe tbody tr th:only-of-type {\n",
       "        vertical-align: middle;\n",
       "    }\n",
       "\n",
       "    .dataframe tbody tr th {\n",
       "        vertical-align: top;\n",
       "    }\n",
       "\n",
       "    .dataframe thead th {\n",
       "        text-align: right;\n",
       "    }\n",
       "</style>\n",
       "<table border=\"1\" class=\"dataframe\">\n",
       "  <thead>\n",
       "    <tr style=\"text-align: right;\">\n",
       "      <th></th>\n",
       "      <th>State</th>\n",
       "      <th>Participation</th>\n",
       "      <th>Composite</th>\n",
       "      <th>part_rate</th>\n",
       "    </tr>\n",
       "  </thead>\n",
       "  <tbody>\n",
       "    <tr>\n",
       "      <th>0</th>\n",
       "      <td>Alabama</td>\n",
       "      <td>100%</td>\n",
       "      <td>18.9</td>\n",
       "      <td>1.00</td>\n",
       "    </tr>\n",
       "    <tr>\n",
       "      <th>1</th>\n",
       "      <td>Alaska</td>\n",
       "      <td>38%</td>\n",
       "      <td>20.1</td>\n",
       "      <td>0.38</td>\n",
       "    </tr>\n",
       "    <tr>\n",
       "      <th>2</th>\n",
       "      <td>Arizona</td>\n",
       "      <td>73%</td>\n",
       "      <td>19.0</td>\n",
       "      <td>0.73</td>\n",
       "    </tr>\n",
       "    <tr>\n",
       "      <th>3</th>\n",
       "      <td>Arkansas</td>\n",
       "      <td>100%</td>\n",
       "      <td>19.3</td>\n",
       "      <td>1.00</td>\n",
       "    </tr>\n",
       "    <tr>\n",
       "      <th>4</th>\n",
       "      <td>California</td>\n",
       "      <td>23%</td>\n",
       "      <td>22.6</td>\n",
       "      <td>0.23</td>\n",
       "    </tr>\n",
       "  </tbody>\n",
       "</table>\n",
       "</div>"
      ],
      "text/plain": [
       "        State Participation  Composite  part_rate\n",
       "0     Alabama          100%       18.9       1.00\n",
       "1      Alaska           38%       20.1       0.38\n",
       "2     Arizona           73%       19.0       0.73\n",
       "3    Arkansas          100%       19.3       1.00\n",
       "4  California           23%       22.6       0.23"
      ]
     },
     "execution_count": 42,
     "metadata": {},
     "output_type": "execute_result"
    }
   ],
   "source": [
    "#to remove % and convert to float in Participation column\n",
    "act_2019['part_rate'] = act_2019['Participation'].map(pct_float_converter)\n",
    "\n",
    "#verify data\n",
    "act_2019.head()"
   ]
  },
  {
   "cell_type": "code",
   "execution_count": 43,
   "metadata": {},
   "outputs": [
    {
     "name": "stdout",
     "output_type": "stream",
     "text": [
      "<class 'pandas.core.frame.DataFrame'>\n",
      "RangeIndex: 52 entries, 0 to 51\n",
      "Data columns (total 4 columns):\n",
      " #   Column         Non-Null Count  Dtype  \n",
      "---  ------         --------------  -----  \n",
      " 0   State          52 non-null     object \n",
      " 1   Participation  52 non-null     object \n",
      " 2   Composite      52 non-null     float64\n",
      " 3   part_rate      52 non-null     float64\n",
      "dtypes: float64(2), object(2)\n",
      "memory usage: 1.8+ KB\n"
     ]
    }
   ],
   "source": [
    "#display data types of each feature\n",
    "act_2019.info()"
   ]
  },
  {
   "cell_type": "code",
   "execution_count": 44,
   "metadata": {},
   "outputs": [
    {
     "data": {
      "text/html": [
       "<div>\n",
       "<style scoped>\n",
       "    .dataframe tbody tr th:only-of-type {\n",
       "        vertical-align: middle;\n",
       "    }\n",
       "\n",
       "    .dataframe tbody tr th {\n",
       "        vertical-align: top;\n",
       "    }\n",
       "\n",
       "    .dataframe thead th {\n",
       "        text-align: right;\n",
       "    }\n",
       "</style>\n",
       "<table border=\"1\" class=\"dataframe\">\n",
       "  <thead>\n",
       "    <tr style=\"text-align: right;\">\n",
       "      <th></th>\n",
       "      <th>state</th>\n",
       "      <th>act_composite_mean</th>\n",
       "      <th>part_rate</th>\n",
       "      <th>year</th>\n",
       "    </tr>\n",
       "  </thead>\n",
       "  <tbody>\n",
       "    <tr>\n",
       "      <th>0</th>\n",
       "      <td>Alabama</td>\n",
       "      <td>18.9</td>\n",
       "      <td>1.00</td>\n",
       "      <td>2019</td>\n",
       "    </tr>\n",
       "    <tr>\n",
       "      <th>1</th>\n",
       "      <td>Alaska</td>\n",
       "      <td>20.1</td>\n",
       "      <td>0.38</td>\n",
       "      <td>2019</td>\n",
       "    </tr>\n",
       "    <tr>\n",
       "      <th>2</th>\n",
       "      <td>Arizona</td>\n",
       "      <td>19.0</td>\n",
       "      <td>0.73</td>\n",
       "      <td>2019</td>\n",
       "    </tr>\n",
       "    <tr>\n",
       "      <th>3</th>\n",
       "      <td>Arkansas</td>\n",
       "      <td>19.3</td>\n",
       "      <td>1.00</td>\n",
       "      <td>2019</td>\n",
       "    </tr>\n",
       "    <tr>\n",
       "      <th>4</th>\n",
       "      <td>California</td>\n",
       "      <td>22.6</td>\n",
       "      <td>0.23</td>\n",
       "      <td>2019</td>\n",
       "    </tr>\n",
       "  </tbody>\n",
       "</table>\n",
       "</div>"
      ],
      "text/plain": [
       "        state  act_composite_mean  part_rate  year\n",
       "0     Alabama                18.9       1.00  2019\n",
       "1      Alaska                20.1       0.38  2019\n",
       "2     Arizona                19.0       0.73  2019\n",
       "3    Arkansas                19.3       1.00  2019\n",
       "4  California                22.6       0.23  2019"
      ]
     },
     "execution_count": 44,
     "metadata": {},
     "output_type": "execute_result"
    }
   ],
   "source": [
    "#column names set in lower case; rename columns for clarity\n",
    "act_2019.columns = act_2019.columns.str.lower()\n",
    "act_2019.rename(columns = {'composite':'act_composite_mean'}, inplace = True)\n",
    "\n",
    "#drop participation column\n",
    "act_2019.drop(['participation'], axis=1, inplace=True)\n",
    "\n",
    "#drop national average row\n",
    "drop_national = act_2019[(act_2019['state'] == 'National')].index\n",
    "act_2019.drop(drop_national , inplace=True)\n",
    "\n",
    "#add year column to all rows\n",
    "act_2019[\"year\"] = \"2019\"\n",
    "\n",
    "#verify data\n",
    "act_2019.head()"
   ]
  },
  {
   "cell_type": "code",
   "execution_count": 45,
   "metadata": {},
   "outputs": [
    {
     "name": "stdout",
     "output_type": "stream",
     "text": [
      "Mean Composite score is within 1-36 inclusive: True.\n"
     ]
    }
   ],
   "source": [
    "#convert act_composite_mean to float, and check if composite mean scores are within score range of 1-36  \n",
    "res_composite = True\n",
    "for composite in act_2019['act_composite_mean']:\n",
    "    composite = float(composite)\n",
    "    if composite<1 or composite>36:\n",
    "        res_composite = False\n",
    "        break \n",
    "print(f\"Mean Composite score is within 1-36 inclusive: {res_composite}.\")"
   ]
  },
  {
   "cell_type": "markdown",
   "metadata": {},
   "source": [
    "##### Processing of ACT Data"
   ]
  },
  {
   "cell_type": "code",
   "execution_count": 46,
   "metadata": {},
   "outputs": [
    {
     "name": "stdout",
     "output_type": "stream",
     "text": [
      "<class 'pandas.core.frame.DataFrame'>\n",
      "Int64Index: 153 entries, 1 to 50\n",
      "Data columns (total 4 columns):\n",
      " #   Column              Non-Null Count  Dtype  \n",
      "---  ------              --------------  -----  \n",
      " 0   state               153 non-null    object \n",
      " 1   act_composite_mean  153 non-null    object \n",
      " 2   part_rate           153 non-null    float64\n",
      " 3   year                153 non-null    object \n",
      "dtypes: float64(1), object(3)\n",
      "memory usage: 6.0+ KB\n"
     ]
    }
   ],
   "source": [
    "#merge relevant columns from 2017-2019 data together (stacked vertically)\n",
    "act_stack_1 = pd.concat([act_2017, act_2018], axis=0)\n",
    "act_stack_all = pd.concat([act_stack_1, act_2019], axis=0)\n",
    "act_stack_all.info()"
   ]
  },
  {
   "cell_type": "code",
   "execution_count": 47,
   "metadata": {},
   "outputs": [],
   "source": [
    "#save as csv file\n",
    "act_stack_all.to_csv(\"../data/act_stack_all.csv\")"
   ]
  },
  {
   "cell_type": "code",
   "execution_count": 48,
   "metadata": {},
   "outputs": [
    {
     "data": {
      "text/html": [
       "<div>\n",
       "<style scoped>\n",
       "    .dataframe tbody tr th:only-of-type {\n",
       "        vertical-align: middle;\n",
       "    }\n",
       "\n",
       "    .dataframe tbody tr th {\n",
       "        vertical-align: top;\n",
       "    }\n",
       "\n",
       "    .dataframe thead th {\n",
       "        text-align: right;\n",
       "    }\n",
       "</style>\n",
       "<table border=\"1\" class=\"dataframe\">\n",
       "  <thead>\n",
       "    <tr style=\"text-align: right;\">\n",
       "      <th></th>\n",
       "      <th>Unnamed: 0</th>\n",
       "      <th>state</th>\n",
       "      <th>act_composite_mean</th>\n",
       "      <th>part_rate</th>\n",
       "      <th>year</th>\n",
       "      <th>geog_location</th>\n",
       "    </tr>\n",
       "  </thead>\n",
       "  <tbody>\n",
       "    <tr>\n",
       "      <th>0</th>\n",
       "      <td>1</td>\n",
       "      <td>Alabama</td>\n",
       "      <td>19.2</td>\n",
       "      <td>1.00</td>\n",
       "      <td>2017</td>\n",
       "      <td>South</td>\n",
       "    </tr>\n",
       "    <tr>\n",
       "      <th>1</th>\n",
       "      <td>2</td>\n",
       "      <td>Alaska</td>\n",
       "      <td>19.8</td>\n",
       "      <td>0.65</td>\n",
       "      <td>2017</td>\n",
       "      <td>West</td>\n",
       "    </tr>\n",
       "    <tr>\n",
       "      <th>2</th>\n",
       "      <td>3</td>\n",
       "      <td>Arizona</td>\n",
       "      <td>19.7</td>\n",
       "      <td>0.62</td>\n",
       "      <td>2017</td>\n",
       "      <td>South</td>\n",
       "    </tr>\n",
       "    <tr>\n",
       "      <th>3</th>\n",
       "      <td>4</td>\n",
       "      <td>Arkansas</td>\n",
       "      <td>19.4</td>\n",
       "      <td>1.00</td>\n",
       "      <td>2017</td>\n",
       "      <td>South</td>\n",
       "    </tr>\n",
       "    <tr>\n",
       "      <th>4</th>\n",
       "      <td>5</td>\n",
       "      <td>California</td>\n",
       "      <td>22.8</td>\n",
       "      <td>0.31</td>\n",
       "      <td>2017</td>\n",
       "      <td>West</td>\n",
       "    </tr>\n",
       "  </tbody>\n",
       "</table>\n",
       "</div>"
      ],
      "text/plain": [
       "   Unnamed: 0       state  act_composite_mean  part_rate  year geog_location\n",
       "0           1     Alabama                19.2       1.00  2017         South\n",
       "1           2      Alaska                19.8       0.65  2017          West\n",
       "2           3     Arizona                19.7       0.62  2017         South\n",
       "3           4    Arkansas                19.4       1.00  2017         South\n",
       "4           5  California                22.8       0.31  2017          West"
      ]
     },
     "execution_count": 48,
     "metadata": {},
     "output_type": "execute_result"
    }
   ],
   "source": [
    "#read act_stack_all_region --> the states are further categorised into geographical location\n",
    "act_stack_all_region = pd.read_csv(\"../data/act_stack_all_region.csv\")\n",
    "act_stack_all_region.head()"
   ]
  },
  {
   "cell_type": "markdown",
   "metadata": {},
   "source": [
    "### Data Dictionary\n",
    "\n",
    "Now that we've fixed our data, and given it appropriate names, let's create a [data dictionary](http://library.ucmerced.edu/node/10249). \n",
    "\n",
    "A data dictionary provides a quick overview of features/variables/columns, alongside data types and descriptions. The more descriptive you can be, the more useful this document is.\n",
    "\n",
    "Example of a Fictional Data Dictionary Entry: \n",
    "\n",
    "|Feature|Type|Dataset|Description|\n",
    "|---|---|---|---|\n",
    "|**county_pop**|*integer*|2010 census|The population of the county (units in thousands, where 2.5 represents 2500 people).| \n",
    "|**per_poverty**|*float*|2010 census|The percent of the county over the age of 18 living below the 200% of official US poverty rate (units percent to two decimal places 98.10 means 98.1%)|\n",
    "\n",
    "[Here's a quick link to a short guide for formatting markdown in Jupyter notebooks](https://jupyter-notebook.readthedocs.io/en/stable/examples/Notebook/Working%20With%20Markdown%20Cells.html).\n",
    "\n",
    "Provided is the skeleton for formatting a markdown table, with columns headers that will help you create a data dictionary to quickly summarize your data, as well as some examples. **This would be a great thing to copy and paste into your custom README for this project.**\n",
    "\n",
    "*Note*: if you are unsure of what a feature is, check the source of the data! This can be found in the README."
   ]
  },
  {
   "cell_type": "markdown",
   "metadata": {},
   "source": [
    "|Feature|Type|Dataset|Description|\n",
    "|:---|:---|:---|:---|\n",
    "|**state**|*object*|ACT & SAT|This column contains the states where the test takers were from.| \n",
    "|**part_rate**|*float*|ACT & SAT|This column contains the participation rate for each state (proportion of graduating students who took the respective tests).| \n",
    "|**geog_location**|object|ACT & SAT|This column contains the categories of the geographical location of the states (South, West, Midwest, Northeast)|\n",
    "|**year**|int|ACT & SAT|This column indicates the year of the results.| \n",
    "|**total_mean**|float|SAT|This column contains the mean total score for SAT test.| \n",
    "|**act_composite_mean**|float|ACT|This column contains the mean composite score for ACT test.| "
   ]
  },
  {
   "cell_type": "markdown",
   "metadata": {},
   "source": [
    "## Exploratory Data Analysis\n",
    "\n",
    "Complete the following steps to explore your data. You are welcome to do more EDA than the steps outlined here as you feel necessary:\n",
    "1. Summary Statistics.\n",
    "2. Use a **dictionary comprehension** to apply the standard deviation function you create in part 1 to each numeric column in the dataframe.  **No loops**.\n",
    "    - Assign the output to variable `sd` as a dictionary where: \n",
    "        - Each column name is now a key \n",
    "        - That standard deviation of the column is the value \n",
    "        - *Example Output :* `{'ACT_Math': 120, 'ACT_Reading': 120, ...}`\n",
    "3. Investigate trends in the data.\n",
    "    - Using sorting and/or masking (along with the `.head()` method to avoid printing our entire dataframe), consider questions relevant to your problem statement. Some examples are provided below (but feel free to change these questions for your specific problem):\n",
    "        - Which states have the highest and lowest participation rates for the 2017, 2019, or 2019 SAT and ACT?\n",
    "        - Which states have the highest and lowest mean total/composite scores for the 2017, 2019, or 2019 SAT and ACT?\n",
    "        - Do any states with 100% participation on a given test have a rate change year-to-year?\n",
    "        - Do any states show have >50% participation on *both* tests each year?\n",
    "        - Which colleges have the highest median SAT and ACT scores for admittance?\n",
    "        - Which California school districts have the highest and lowest mean test scores?\n",
    "    - **You should comment on your findings at each step in a markdown cell below your code block**. Make sure you include at least one example of sorting your dataframe by a column, and one example of using boolean filtering (i.e., masking) to select a subset of the dataframe."
   ]
  },
  {
   "cell_type": "markdown",
   "metadata": {},
   "source": [
    "##### 1. Data Exploration for SAT Dataset"
   ]
  },
  {
   "cell_type": "code",
   "execution_count": 49,
   "metadata": {},
   "outputs": [
    {
     "data": {
      "text/html": [
       "<div>\n",
       "<style scoped>\n",
       "    .dataframe tbody tr th:only-of-type {\n",
       "        vertical-align: middle;\n",
       "    }\n",
       "\n",
       "    .dataframe tbody tr th {\n",
       "        vertical-align: top;\n",
       "    }\n",
       "\n",
       "    .dataframe thead th {\n",
       "        text-align: right;\n",
       "    }\n",
       "</style>\n",
       "<table border=\"1\" class=\"dataframe\">\n",
       "  <thead>\n",
       "    <tr style=\"text-align: right;\">\n",
       "      <th></th>\n",
       "      <th>total_mean</th>\n",
       "      <th>part_rate</th>\n",
       "    </tr>\n",
       "  </thead>\n",
       "  <tbody>\n",
       "    <tr>\n",
       "      <th>count</th>\n",
       "      <td>51.00</td>\n",
       "      <td>51.00</td>\n",
       "    </tr>\n",
       "    <tr>\n",
       "      <th>mean</th>\n",
       "      <td>1126.10</td>\n",
       "      <td>0.40</td>\n",
       "    </tr>\n",
       "    <tr>\n",
       "      <th>std</th>\n",
       "      <td>92.49</td>\n",
       "      <td>0.35</td>\n",
       "    </tr>\n",
       "    <tr>\n",
       "      <th>min</th>\n",
       "      <td>950.00</td>\n",
       "      <td>0.02</td>\n",
       "    </tr>\n",
       "    <tr>\n",
       "      <th>25%</th>\n",
       "      <td>1055.50</td>\n",
       "      <td>0.04</td>\n",
       "    </tr>\n",
       "    <tr>\n",
       "      <th>50%</th>\n",
       "      <td>1107.00</td>\n",
       "      <td>0.38</td>\n",
       "    </tr>\n",
       "    <tr>\n",
       "      <th>75%</th>\n",
       "      <td>1212.00</td>\n",
       "      <td>0.66</td>\n",
       "    </tr>\n",
       "    <tr>\n",
       "      <th>max</th>\n",
       "      <td>1295.00</td>\n",
       "      <td>1.00</td>\n",
       "    </tr>\n",
       "  </tbody>\n",
       "</table>\n",
       "</div>"
      ],
      "text/plain": [
       "       total_mean  part_rate\n",
       "count       51.00      51.00\n",
       "mean      1126.10       0.40\n",
       "std         92.49       0.35\n",
       "min        950.00       0.02\n",
       "25%       1055.50       0.04\n",
       "50%       1107.00       0.38\n",
       "75%       1212.00       0.66\n",
       "max       1295.00       1.00"
      ]
     },
     "execution_count": 49,
     "metadata": {},
     "output_type": "execute_result"
    }
   ],
   "source": [
    "#descriptive stats for SAT - 2017\n",
    "sat_2017.describe().round(2)"
   ]
  },
  {
   "cell_type": "code",
   "execution_count": 50,
   "metadata": {},
   "outputs": [
    {
     "data": {
      "text/html": [
       "<div>\n",
       "<style scoped>\n",
       "    .dataframe tbody tr th:only-of-type {\n",
       "        vertical-align: middle;\n",
       "    }\n",
       "\n",
       "    .dataframe tbody tr th {\n",
       "        vertical-align: top;\n",
       "    }\n",
       "\n",
       "    .dataframe thead th {\n",
       "        text-align: right;\n",
       "    }\n",
       "</style>\n",
       "<table border=\"1\" class=\"dataframe\">\n",
       "  <thead>\n",
       "    <tr style=\"text-align: right;\">\n",
       "      <th></th>\n",
       "      <th>total_mean</th>\n",
       "      <th>part_rate</th>\n",
       "    </tr>\n",
       "  </thead>\n",
       "  <tbody>\n",
       "    <tr>\n",
       "      <th>count</th>\n",
       "      <td>51.00</td>\n",
       "      <td>51.00</td>\n",
       "    </tr>\n",
       "    <tr>\n",
       "      <th>mean</th>\n",
       "      <td>1120.02</td>\n",
       "      <td>0.46</td>\n",
       "    </tr>\n",
       "    <tr>\n",
       "      <th>std</th>\n",
       "      <td>94.16</td>\n",
       "      <td>0.37</td>\n",
       "    </tr>\n",
       "    <tr>\n",
       "      <th>min</th>\n",
       "      <td>977.00</td>\n",
       "      <td>0.02</td>\n",
       "    </tr>\n",
       "    <tr>\n",
       "      <th>25%</th>\n",
       "      <td>1057.50</td>\n",
       "      <td>0.04</td>\n",
       "    </tr>\n",
       "    <tr>\n",
       "      <th>50%</th>\n",
       "      <td>1098.00</td>\n",
       "      <td>0.52</td>\n",
       "    </tr>\n",
       "    <tr>\n",
       "      <th>75%</th>\n",
       "      <td>1204.00</td>\n",
       "      <td>0.78</td>\n",
       "    </tr>\n",
       "    <tr>\n",
       "      <th>max</th>\n",
       "      <td>1298.00</td>\n",
       "      <td>1.00</td>\n",
       "    </tr>\n",
       "  </tbody>\n",
       "</table>\n",
       "</div>"
      ],
      "text/plain": [
       "       total_mean  part_rate\n",
       "count       51.00      51.00\n",
       "mean      1120.02       0.46\n",
       "std         94.16       0.37\n",
       "min        977.00       0.02\n",
       "25%       1057.50       0.04\n",
       "50%       1098.00       0.52\n",
       "75%       1204.00       0.78\n",
       "max       1298.00       1.00"
      ]
     },
     "execution_count": 50,
     "metadata": {},
     "output_type": "execute_result"
    }
   ],
   "source": [
    "#descriptive stats for SAT - 2018\n",
    "sat_2018.describe().round(2)"
   ]
  },
  {
   "cell_type": "code",
   "execution_count": 51,
   "metadata": {},
   "outputs": [
    {
     "data": {
      "text/html": [
       "<div>\n",
       "<style scoped>\n",
       "    .dataframe tbody tr th:only-of-type {\n",
       "        vertical-align: middle;\n",
       "    }\n",
       "\n",
       "    .dataframe tbody tr th {\n",
       "        vertical-align: top;\n",
       "    }\n",
       "\n",
       "    .dataframe thead th {\n",
       "        text-align: right;\n",
       "    }\n",
       "</style>\n",
       "<table border=\"1\" class=\"dataframe\">\n",
       "  <thead>\n",
       "    <tr style=\"text-align: right;\">\n",
       "      <th></th>\n",
       "      <th>total_mean</th>\n",
       "      <th>part_rate</th>\n",
       "    </tr>\n",
       "  </thead>\n",
       "  <tbody>\n",
       "    <tr>\n",
       "      <th>count</th>\n",
       "      <td>51.00</td>\n",
       "      <td>51.00</td>\n",
       "    </tr>\n",
       "    <tr>\n",
       "      <th>mean</th>\n",
       "      <td>1113.08</td>\n",
       "      <td>0.49</td>\n",
       "    </tr>\n",
       "    <tr>\n",
       "      <th>std</th>\n",
       "      <td>97.20</td>\n",
       "      <td>0.39</td>\n",
       "    </tr>\n",
       "    <tr>\n",
       "      <th>min</th>\n",
       "      <td>943.00</td>\n",
       "      <td>0.02</td>\n",
       "    </tr>\n",
       "    <tr>\n",
       "      <th>25%</th>\n",
       "      <td>1038.00</td>\n",
       "      <td>0.06</td>\n",
       "    </tr>\n",
       "    <tr>\n",
       "      <th>50%</th>\n",
       "      <td>1097.00</td>\n",
       "      <td>0.54</td>\n",
       "    </tr>\n",
       "    <tr>\n",
       "      <th>75%</th>\n",
       "      <td>1210.00</td>\n",
       "      <td>0.82</td>\n",
       "    </tr>\n",
       "    <tr>\n",
       "      <th>max</th>\n",
       "      <td>1284.00</td>\n",
       "      <td>1.00</td>\n",
       "    </tr>\n",
       "  </tbody>\n",
       "</table>\n",
       "</div>"
      ],
      "text/plain": [
       "       total_mean  part_rate\n",
       "count       51.00      51.00\n",
       "mean      1113.08       0.49\n",
       "std         97.20       0.39\n",
       "min        943.00       0.02\n",
       "25%       1038.00       0.06\n",
       "50%       1097.00       0.54\n",
       "75%       1210.00       0.82\n",
       "max       1284.00       1.00"
      ]
     },
     "execution_count": 51,
     "metadata": {},
     "output_type": "execute_result"
    }
   ],
   "source": [
    "#descriptive stats for SAT - 2019\n",
    "sat_2019.describe().round(2)"
   ]
  },
  {
   "cell_type": "code",
   "execution_count": 52,
   "metadata": {},
   "outputs": [
    {
     "data": {
      "text/html": [
       "<div>\n",
       "<style scoped>\n",
       "    .dataframe tbody tr th:only-of-type {\n",
       "        vertical-align: middle;\n",
       "    }\n",
       "\n",
       "    .dataframe tbody tr th {\n",
       "        vertical-align: top;\n",
       "    }\n",
       "\n",
       "    .dataframe thead th {\n",
       "        text-align: right;\n",
       "    }\n",
       "</style>\n",
       "<table border=\"1\" class=\"dataframe\">\n",
       "  <thead>\n",
       "    <tr style=\"text-align: right;\">\n",
       "      <th></th>\n",
       "      <th>total_mean</th>\n",
       "      <th>part_rate</th>\n",
       "    </tr>\n",
       "  </thead>\n",
       "  <tbody>\n",
       "    <tr>\n",
       "      <th>count</th>\n",
       "      <td>153.00</td>\n",
       "      <td>153.00</td>\n",
       "    </tr>\n",
       "    <tr>\n",
       "      <th>mean</th>\n",
       "      <td>1119.73</td>\n",
       "      <td>0.45</td>\n",
       "    </tr>\n",
       "    <tr>\n",
       "      <th>std</th>\n",
       "      <td>94.16</td>\n",
       "      <td>0.37</td>\n",
       "    </tr>\n",
       "    <tr>\n",
       "      <th>min</th>\n",
       "      <td>943.00</td>\n",
       "      <td>0.02</td>\n",
       "    </tr>\n",
       "    <tr>\n",
       "      <th>25%</th>\n",
       "      <td>1053.00</td>\n",
       "      <td>0.04</td>\n",
       "    </tr>\n",
       "    <tr>\n",
       "      <th>50%</th>\n",
       "      <td>1099.00</td>\n",
       "      <td>0.50</td>\n",
       "    </tr>\n",
       "    <tr>\n",
       "      <th>75%</th>\n",
       "      <td>1210.00</td>\n",
       "      <td>0.76</td>\n",
       "    </tr>\n",
       "    <tr>\n",
       "      <th>max</th>\n",
       "      <td>1298.00</td>\n",
       "      <td>1.00</td>\n",
       "    </tr>\n",
       "  </tbody>\n",
       "</table>\n",
       "</div>"
      ],
      "text/plain": [
       "       total_mean  part_rate\n",
       "count      153.00     153.00\n",
       "mean      1119.73       0.45\n",
       "std         94.16       0.37\n",
       "min        943.00       0.02\n",
       "25%       1053.00       0.04\n",
       "50%       1099.00       0.50\n",
       "75%       1210.00       0.76\n",
       "max       1298.00       1.00"
      ]
     },
     "execution_count": 52,
     "metadata": {},
     "output_type": "execute_result"
    }
   ],
   "source": [
    "#select relevant columns to create a dataframe (total_mean and part_rate)\n",
    "sat_stack_all_region_test = sat_stack_all_region.iloc[:, 2:4]\n",
    "\n",
    "#descriptive stats for SAT - 2017 to 2019\n",
    "sat_stack_all_region_test.describe().round(2)"
   ]
  },
  {
   "cell_type": "markdown",
   "metadata": {},
   "source": [
    "1. The mean participation over the three-year period is 45% with a standard deviation of 37%. The mean is towards the left of the median (50%), indicating that many observations are recording low participation rates.\n",
    "2. The mean participation rate increased slightly over the three-years, from 40% to 49%."
   ]
  },
  {
   "cell_type": "code",
   "execution_count": 53,
   "metadata": {},
   "outputs": [
    {
     "data": {
      "text/plain": [
       "{'total_mean': 93.8544281331918, 'part_rate': 0.3697299717899723}"
      ]
     },
     "execution_count": 53,
     "metadata": {},
     "output_type": "execute_result"
    }
   ],
   "source": [
    "#DICTIONARY COMPREHENSION - to obtain stdev for SAT 2019 (nationwide)\n",
    "sd = { col: stdev(sat_stack_all_region_test[col])  for col in sat_stack_all_region_test.columns}\n",
    "\n",
    "#to print out the dictionary with the calculate standard deviation for each key\n",
    "sd"
   ]
  },
  {
   "cell_type": "code",
   "execution_count": 54,
   "metadata": {},
   "outputs": [
    {
     "data": {
      "text/html": [
       "<div>\n",
       "<style scoped>\n",
       "    .dataframe tbody tr th:only-of-type {\n",
       "        vertical-align: middle;\n",
       "    }\n",
       "\n",
       "    .dataframe tbody tr th {\n",
       "        vertical-align: top;\n",
       "    }\n",
       "\n",
       "    .dataframe thead th {\n",
       "        text-align: right;\n",
       "    }\n",
       "</style>\n",
       "<table border=\"1\" class=\"dataframe\">\n",
       "  <thead>\n",
       "    <tr style=\"text-align: right;\">\n",
       "      <th></th>\n",
       "      <th>state</th>\n",
       "      <th>total_mean</th>\n",
       "      <th>part_rate</th>\n",
       "      <th>year</th>\n",
       "    </tr>\n",
       "  </thead>\n",
       "  <tbody>\n",
       "    <tr>\n",
       "      <th>40</th>\n",
       "      <td>Rhode Island</td>\n",
       "      <td>995</td>\n",
       "      <td>1.0</td>\n",
       "      <td>2019</td>\n",
       "    </tr>\n",
       "    <tr>\n",
       "      <th>13</th>\n",
       "      <td>Illinois</td>\n",
       "      <td>1013</td>\n",
       "      <td>1.0</td>\n",
       "      <td>2019</td>\n",
       "    </tr>\n",
       "    <tr>\n",
       "      <th>22</th>\n",
       "      <td>Michigan</td>\n",
       "      <td>1003</td>\n",
       "      <td>1.0</td>\n",
       "      <td>2019</td>\n",
       "    </tr>\n",
       "    <tr>\n",
       "      <th>5</th>\n",
       "      <td>Colorado</td>\n",
       "      <td>1024</td>\n",
       "      <td>1.0</td>\n",
       "      <td>2019</td>\n",
       "    </tr>\n",
       "    <tr>\n",
       "      <th>6</th>\n",
       "      <td>Connecticut</td>\n",
       "      <td>1046</td>\n",
       "      <td>1.0</td>\n",
       "      <td>2019</td>\n",
       "    </tr>\n",
       "  </tbody>\n",
       "</table>\n",
       "</div>"
      ],
      "text/plain": [
       "           state  total_mean  part_rate  year\n",
       "40  Rhode Island         995        1.0  2019\n",
       "13      Illinois        1013        1.0  2019\n",
       "22      Michigan        1003        1.0  2019\n",
       "5       Colorado        1024        1.0  2019\n",
       "6    Connecticut        1046        1.0  2019"
      ]
     },
     "execution_count": 54,
     "metadata": {},
     "output_type": "execute_result"
    }
   ],
   "source": [
    "#sort 2019 data by part_rate column (descending order)\n",
    "sorted_sat_2019 = sat_2019.sort_values(by=['part_rate'], ascending=False)\n",
    "\n",
    "#print the first 5 entries\n",
    "sorted_sat_2019.head()"
   ]
  },
  {
   "cell_type": "markdown",
   "metadata": {},
   "source": [
    "The 5 states listed above are those that recorded 100% participation rate in the SAT test for 2019.\n",
    "Rhode Island, Illinois, Michigan, Colorado, Connecticut"
   ]
  },
  {
   "cell_type": "code",
   "execution_count": 55,
   "metadata": {},
   "outputs": [
    {
     "data": {
      "text/html": [
       "<div>\n",
       "<style scoped>\n",
       "    .dataframe tbody tr th:only-of-type {\n",
       "        vertical-align: middle;\n",
       "    }\n",
       "\n",
       "    .dataframe tbody tr th {\n",
       "        vertical-align: top;\n",
       "    }\n",
       "\n",
       "    .dataframe thead th {\n",
       "        text-align: right;\n",
       "    }\n",
       "</style>\n",
       "<table border=\"1\" class=\"dataframe\">\n",
       "  <thead>\n",
       "    <tr style=\"text-align: right;\">\n",
       "      <th></th>\n",
       "      <th>state</th>\n",
       "      <th>total_mean</th>\n",
       "      <th>part_rate</th>\n",
       "      <th>year</th>\n",
       "    </tr>\n",
       "  </thead>\n",
       "  <tbody>\n",
       "    <tr>\n",
       "      <th>34</th>\n",
       "      <td>North Dakota</td>\n",
       "      <td>1263</td>\n",
       "      <td>0.02</td>\n",
       "      <td>2019</td>\n",
       "    </tr>\n",
       "    <tr>\n",
       "      <th>52</th>\n",
       "      <td>Wyoming</td>\n",
       "      <td>1238</td>\n",
       "      <td>0.03</td>\n",
       "      <td>2019</td>\n",
       "    </tr>\n",
       "    <tr>\n",
       "      <th>42</th>\n",
       "      <td>South Dakota</td>\n",
       "      <td>1268</td>\n",
       "      <td>0.03</td>\n",
       "      <td>2019</td>\n",
       "    </tr>\n",
       "    <tr>\n",
       "      <th>27</th>\n",
       "      <td>Nebraska</td>\n",
       "      <td>1260</td>\n",
       "      <td>0.03</td>\n",
       "      <td>2019</td>\n",
       "    </tr>\n",
       "    <tr>\n",
       "      <th>51</th>\n",
       "      <td>Wisconsin</td>\n",
       "      <td>1283</td>\n",
       "      <td>0.03</td>\n",
       "      <td>2019</td>\n",
       "    </tr>\n",
       "  </tbody>\n",
       "</table>\n",
       "</div>"
      ],
      "text/plain": [
       "           state  total_mean  part_rate  year\n",
       "34  North Dakota        1263       0.02  2019\n",
       "52       Wyoming        1238       0.03  2019\n",
       "42  South Dakota        1268       0.03  2019\n",
       "27      Nebraska        1260       0.03  2019\n",
       "51     Wisconsin        1283       0.03  2019"
      ]
     },
     "execution_count": 55,
     "metadata": {},
     "output_type": "execute_result"
    }
   ],
   "source": [
    "#sort 2019 data by part_rate column (ascending order)\n",
    "sorted_sat_2019 = sat_2019.sort_values(by=['part_rate'], ascending=True)\n",
    "\n",
    "#print the first 5 entries\n",
    "sorted_sat_2019.head()"
   ]
  },
  {
   "cell_type": "markdown",
   "metadata": {},
   "source": [
    "North Dakota recorded lowest participation rate (2%) in 2019."
   ]
  },
  {
   "cell_type": "markdown",
   "metadata": {},
   "source": [
    "##### 2. Data Exploration for ACT Dataset"
   ]
  },
  {
   "cell_type": "code",
   "execution_count": 56,
   "metadata": {},
   "outputs": [
    {
     "data": {
      "text/html": [
       "<div>\n",
       "<style scoped>\n",
       "    .dataframe tbody tr th:only-of-type {\n",
       "        vertical-align: middle;\n",
       "    }\n",
       "\n",
       "    .dataframe tbody tr th {\n",
       "        vertical-align: top;\n",
       "    }\n",
       "\n",
       "    .dataframe thead th {\n",
       "        text-align: right;\n",
       "    }\n",
       "</style>\n",
       "<table border=\"1\" class=\"dataframe\">\n",
       "  <thead>\n",
       "    <tr style=\"text-align: right;\">\n",
       "      <th></th>\n",
       "      <th>part_rate</th>\n",
       "    </tr>\n",
       "  </thead>\n",
       "  <tbody>\n",
       "    <tr>\n",
       "      <th>count</th>\n",
       "      <td>51.00</td>\n",
       "    </tr>\n",
       "    <tr>\n",
       "      <th>mean</th>\n",
       "      <td>0.65</td>\n",
       "    </tr>\n",
       "    <tr>\n",
       "      <th>std</th>\n",
       "      <td>0.32</td>\n",
       "    </tr>\n",
       "    <tr>\n",
       "      <th>min</th>\n",
       "      <td>0.08</td>\n",
       "    </tr>\n",
       "    <tr>\n",
       "      <th>25%</th>\n",
       "      <td>0.31</td>\n",
       "    </tr>\n",
       "    <tr>\n",
       "      <th>50%</th>\n",
       "      <td>0.69</td>\n",
       "    </tr>\n",
       "    <tr>\n",
       "      <th>75%</th>\n",
       "      <td>1.00</td>\n",
       "    </tr>\n",
       "    <tr>\n",
       "      <th>max</th>\n",
       "      <td>1.00</td>\n",
       "    </tr>\n",
       "  </tbody>\n",
       "</table>\n",
       "</div>"
      ],
      "text/plain": [
       "       part_rate\n",
       "count      51.00\n",
       "mean        0.65\n",
       "std         0.32\n",
       "min         0.08\n",
       "25%         0.31\n",
       "50%         0.69\n",
       "75%         1.00\n",
       "max         1.00"
      ]
     },
     "execution_count": 56,
     "metadata": {},
     "output_type": "execute_result"
    }
   ],
   "source": [
    "#descriptive stats for ACT - 2017\n",
    "act_2017.describe().round(2)"
   ]
  },
  {
   "cell_type": "code",
   "execution_count": 57,
   "metadata": {},
   "outputs": [
    {
     "data": {
      "text/html": [
       "<div>\n",
       "<style scoped>\n",
       "    .dataframe tbody tr th:only-of-type {\n",
       "        vertical-align: middle;\n",
       "    }\n",
       "\n",
       "    .dataframe tbody tr th {\n",
       "        vertical-align: top;\n",
       "    }\n",
       "\n",
       "    .dataframe thead th {\n",
       "        text-align: right;\n",
       "    }\n",
       "</style>\n",
       "<table border=\"1\" class=\"dataframe\">\n",
       "  <thead>\n",
       "    <tr style=\"text-align: right;\">\n",
       "      <th></th>\n",
       "      <th>act_composite_mean</th>\n",
       "      <th>part_rate</th>\n",
       "    </tr>\n",
       "  </thead>\n",
       "  <tbody>\n",
       "    <tr>\n",
       "      <th>count</th>\n",
       "      <td>51.00</td>\n",
       "      <td>51.00</td>\n",
       "    </tr>\n",
       "    <tr>\n",
       "      <th>mean</th>\n",
       "      <td>21.50</td>\n",
       "      <td>0.62</td>\n",
       "    </tr>\n",
       "    <tr>\n",
       "      <th>std</th>\n",
       "      <td>2.11</td>\n",
       "      <td>0.34</td>\n",
       "    </tr>\n",
       "    <tr>\n",
       "      <th>min</th>\n",
       "      <td>17.70</td>\n",
       "      <td>0.07</td>\n",
       "    </tr>\n",
       "    <tr>\n",
       "      <th>25%</th>\n",
       "      <td>19.95</td>\n",
       "      <td>0.29</td>\n",
       "    </tr>\n",
       "    <tr>\n",
       "      <th>50%</th>\n",
       "      <td>21.30</td>\n",
       "      <td>0.66</td>\n",
       "    </tr>\n",
       "    <tr>\n",
       "      <th>75%</th>\n",
       "      <td>23.65</td>\n",
       "      <td>1.00</td>\n",
       "    </tr>\n",
       "    <tr>\n",
       "      <th>max</th>\n",
       "      <td>25.60</td>\n",
       "      <td>1.00</td>\n",
       "    </tr>\n",
       "  </tbody>\n",
       "</table>\n",
       "</div>"
      ],
      "text/plain": [
       "       act_composite_mean  part_rate\n",
       "count               51.00      51.00\n",
       "mean                21.50       0.62\n",
       "std                  2.11       0.34\n",
       "min                 17.70       0.07\n",
       "25%                 19.95       0.29\n",
       "50%                 21.30       0.66\n",
       "75%                 23.65       1.00\n",
       "max                 25.60       1.00"
      ]
     },
     "execution_count": 57,
     "metadata": {},
     "output_type": "execute_result"
    }
   ],
   "source": [
    "#descriptive stats for ACT - 2018\n",
    "act_2018.describe().round(2)"
   ]
  },
  {
   "cell_type": "code",
   "execution_count": 58,
   "metadata": {},
   "outputs": [
    {
     "data": {
      "text/html": [
       "<div>\n",
       "<style scoped>\n",
       "    .dataframe tbody tr th:only-of-type {\n",
       "        vertical-align: middle;\n",
       "    }\n",
       "\n",
       "    .dataframe tbody tr th {\n",
       "        vertical-align: top;\n",
       "    }\n",
       "\n",
       "    .dataframe thead th {\n",
       "        text-align: right;\n",
       "    }\n",
       "</style>\n",
       "<table border=\"1\" class=\"dataframe\">\n",
       "  <thead>\n",
       "    <tr style=\"text-align: right;\">\n",
       "      <th></th>\n",
       "      <th>act_composite_mean</th>\n",
       "      <th>part_rate</th>\n",
       "    </tr>\n",
       "  </thead>\n",
       "  <tbody>\n",
       "    <tr>\n",
       "      <th>count</th>\n",
       "      <td>51.00</td>\n",
       "      <td>51.00</td>\n",
       "    </tr>\n",
       "    <tr>\n",
       "      <th>mean</th>\n",
       "      <td>21.46</td>\n",
       "      <td>0.59</td>\n",
       "    </tr>\n",
       "    <tr>\n",
       "      <th>std</th>\n",
       "      <td>2.19</td>\n",
       "      <td>0.35</td>\n",
       "    </tr>\n",
       "    <tr>\n",
       "      <th>min</th>\n",
       "      <td>17.90</td>\n",
       "      <td>0.06</td>\n",
       "    </tr>\n",
       "    <tr>\n",
       "      <th>25%</th>\n",
       "      <td>19.80</td>\n",
       "      <td>0.24</td>\n",
       "    </tr>\n",
       "    <tr>\n",
       "      <th>50%</th>\n",
       "      <td>21.10</td>\n",
       "      <td>0.54</td>\n",
       "    </tr>\n",
       "    <tr>\n",
       "      <th>75%</th>\n",
       "      <td>23.70</td>\n",
       "      <td>1.00</td>\n",
       "    </tr>\n",
       "    <tr>\n",
       "      <th>max</th>\n",
       "      <td>25.50</td>\n",
       "      <td>1.00</td>\n",
       "    </tr>\n",
       "  </tbody>\n",
       "</table>\n",
       "</div>"
      ],
      "text/plain": [
       "       act_composite_mean  part_rate\n",
       "count               51.00      51.00\n",
       "mean                21.46       0.59\n",
       "std                  2.19       0.35\n",
       "min                 17.90       0.06\n",
       "25%                 19.80       0.24\n",
       "50%                 21.10       0.54\n",
       "75%                 23.70       1.00\n",
       "max                 25.50       1.00"
      ]
     },
     "execution_count": 58,
     "metadata": {},
     "output_type": "execute_result"
    }
   ],
   "source": [
    "#descriptive stats for ACT - 2019\n",
    "act_2019.describe().round(2)"
   ]
  },
  {
   "cell_type": "code",
   "execution_count": 59,
   "metadata": {},
   "outputs": [
    {
     "data": {
      "text/html": [
       "<div>\n",
       "<style scoped>\n",
       "    .dataframe tbody tr th:only-of-type {\n",
       "        vertical-align: middle;\n",
       "    }\n",
       "\n",
       "    .dataframe tbody tr th {\n",
       "        vertical-align: top;\n",
       "    }\n",
       "\n",
       "    .dataframe thead th {\n",
       "        text-align: right;\n",
       "    }\n",
       "</style>\n",
       "<table border=\"1\" class=\"dataframe\">\n",
       "  <thead>\n",
       "    <tr style=\"text-align: right;\">\n",
       "      <th></th>\n",
       "      <th>act_composite_mean</th>\n",
       "      <th>part_rate</th>\n",
       "    </tr>\n",
       "  </thead>\n",
       "  <tbody>\n",
       "    <tr>\n",
       "      <th>count</th>\n",
       "      <td>153.00</td>\n",
       "      <td>153.00</td>\n",
       "    </tr>\n",
       "    <tr>\n",
       "      <th>mean</th>\n",
       "      <td>21.49</td>\n",
       "      <td>0.62</td>\n",
       "    </tr>\n",
       "    <tr>\n",
       "      <th>std</th>\n",
       "      <td>2.10</td>\n",
       "      <td>0.33</td>\n",
       "    </tr>\n",
       "    <tr>\n",
       "      <th>min</th>\n",
       "      <td>17.70</td>\n",
       "      <td>0.06</td>\n",
       "    </tr>\n",
       "    <tr>\n",
       "      <th>25%</th>\n",
       "      <td>19.80</td>\n",
       "      <td>0.29</td>\n",
       "    </tr>\n",
       "    <tr>\n",
       "      <th>50%</th>\n",
       "      <td>21.30</td>\n",
       "      <td>0.66</td>\n",
       "    </tr>\n",
       "    <tr>\n",
       "      <th>75%</th>\n",
       "      <td>23.60</td>\n",
       "      <td>1.00</td>\n",
       "    </tr>\n",
       "    <tr>\n",
       "      <th>max</th>\n",
       "      <td>25.60</td>\n",
       "      <td>1.00</td>\n",
       "    </tr>\n",
       "  </tbody>\n",
       "</table>\n",
       "</div>"
      ],
      "text/plain": [
       "       act_composite_mean  part_rate\n",
       "count              153.00     153.00\n",
       "mean                21.49       0.62\n",
       "std                  2.10       0.33\n",
       "min                 17.70       0.06\n",
       "25%                 19.80       0.29\n",
       "50%                 21.30       0.66\n",
       "75%                 23.60       1.00\n",
       "max                 25.60       1.00"
      ]
     },
     "execution_count": 59,
     "metadata": {},
     "output_type": "execute_result"
    }
   ],
   "source": [
    "#select relevant columns to create a dataframe (act_composite_mean and part_rate)\n",
    "act_stack_all_region_test = act_stack_all_region.iloc[:, 2:4]\n",
    "\n",
    "#descriptive stats for SAT - 2017 to 2019\n",
    "act_stack_all_region_test.describe().round(2)"
   ]
  },
  {
   "cell_type": "markdown",
   "metadata": {},
   "source": [
    "1. The mean participation rate for the three-year period is at 62%, with a standard deviation of 33%. The mean is towards the left of the median (66%).\n",
    "2. The mean participation rate is higher than that recorded for the SAT test."
   ]
  },
  {
   "cell_type": "code",
   "execution_count": 60,
   "metadata": {},
   "outputs": [
    {
     "data": {
      "text/html": [
       "<div>\n",
       "<style scoped>\n",
       "    .dataframe tbody tr th:only-of-type {\n",
       "        vertical-align: middle;\n",
       "    }\n",
       "\n",
       "    .dataframe tbody tr th {\n",
       "        vertical-align: top;\n",
       "    }\n",
       "\n",
       "    .dataframe thead th {\n",
       "        text-align: right;\n",
       "    }\n",
       "</style>\n",
       "<table border=\"1\" class=\"dataframe\">\n",
       "  <thead>\n",
       "    <tr style=\"text-align: right;\">\n",
       "      <th></th>\n",
       "      <th>state</th>\n",
       "      <th>part_rate</th>\n",
       "    </tr>\n",
       "  </thead>\n",
       "  <tbody>\n",
       "    <tr>\n",
       "      <th>102</th>\n",
       "      <td>Alabama</td>\n",
       "      <td>1.0</td>\n",
       "    </tr>\n",
       "    <tr>\n",
       "      <th>119</th>\n",
       "      <td>Kentucky</td>\n",
       "      <td>1.0</td>\n",
       "    </tr>\n",
       "    <tr>\n",
       "      <th>151</th>\n",
       "      <td>Wisconsin</td>\n",
       "      <td>1.0</td>\n",
       "    </tr>\n",
       "    <tr>\n",
       "      <th>146</th>\n",
       "      <td>Utah</td>\n",
       "      <td>1.0</td>\n",
       "    </tr>\n",
       "    <tr>\n",
       "      <th>144</th>\n",
       "      <td>Tennessee</td>\n",
       "      <td>1.0</td>\n",
       "    </tr>\n",
       "  </tbody>\n",
       "</table>\n",
       "</div>"
      ],
      "text/plain": [
       "         state  part_rate\n",
       "102    Alabama        1.0\n",
       "119   Kentucky        1.0\n",
       "151  Wisconsin        1.0\n",
       "146       Utah        1.0\n",
       "144  Tennessee        1.0"
      ]
     },
     "execution_count": 60,
     "metadata": {},
     "output_type": "execute_result"
    }
   ],
   "source": [
    "#sort 2019 data by part_rate column (ascending order)\n",
    "act_filtered_2019 = act_stack_all_region.loc[act_stack_all_region['year'] == 2019, [\"state\", \"part_rate\"]]\n",
    "act_sorted_2019 = act_filtered_2019.sort_values(by=['part_rate'], ascending=False)\n",
    "act_sorted_2019.head()"
   ]
  },
  {
   "cell_type": "markdown",
   "metadata": {},
   "source": [
    "The 5 states listed above recorded 100% participation for ACT test in 2019.\n",
    "Alabama, Kentucky, Wisconsin, Utah, Tennessee"
   ]
  },
  {
   "cell_type": "code",
   "execution_count": 61,
   "metadata": {},
   "outputs": [
    {
     "data": {
      "text/html": [
       "<div>\n",
       "<style scoped>\n",
       "    .dataframe tbody tr th:only-of-type {\n",
       "        vertical-align: middle;\n",
       "    }\n",
       "\n",
       "    .dataframe tbody tr th {\n",
       "        vertical-align: top;\n",
       "    }\n",
       "\n",
       "    .dataframe thead th {\n",
       "        text-align: right;\n",
       "    }\n",
       "</style>\n",
       "<table border=\"1\" class=\"dataframe\">\n",
       "  <thead>\n",
       "    <tr style=\"text-align: right;\">\n",
       "      <th></th>\n",
       "      <th>state</th>\n",
       "      <th>part_rate</th>\n",
       "    </tr>\n",
       "  </thead>\n",
       "  <tbody>\n",
       "    <tr>\n",
       "      <th>121</th>\n",
       "      <td>Maine</td>\n",
       "      <td>0.06</td>\n",
       "    </tr>\n",
       "    <tr>\n",
       "      <th>141</th>\n",
       "      <td>Rhode Island</td>\n",
       "      <td>0.12</td>\n",
       "    </tr>\n",
       "    <tr>\n",
       "      <th>109</th>\n",
       "      <td>Delaware</td>\n",
       "      <td>0.13</td>\n",
       "    </tr>\n",
       "    <tr>\n",
       "      <th>131</th>\n",
       "      <td>New Hampshire</td>\n",
       "      <td>0.14</td>\n",
       "    </tr>\n",
       "    <tr>\n",
       "      <th>140</th>\n",
       "      <td>Pennsylvania</td>\n",
       "      <td>0.17</td>\n",
       "    </tr>\n",
       "  </tbody>\n",
       "</table>\n",
       "</div>"
      ],
      "text/plain": [
       "             state  part_rate\n",
       "121          Maine       0.06\n",
       "141   Rhode Island       0.12\n",
       "109       Delaware       0.13\n",
       "131  New Hampshire       0.14\n",
       "140   Pennsylvania       0.17"
      ]
     },
     "execution_count": 61,
     "metadata": {},
     "output_type": "execute_result"
    }
   ],
   "source": [
    "#sort 2019 data by part_rate column (ascending order)\n",
    "act_filtered_2019 = act_stack_all_region.loc[act_stack_all_region['year'] == 2019, [\"state\", \"part_rate\"]]\n",
    "act_sorted_2019 = act_filtered_2019.sort_values(by=['part_rate'], ascending=True)\n",
    "act_sorted_2019.head()"
   ]
  },
  {
   "cell_type": "markdown",
   "metadata": {},
   "source": [
    "Maine recorded the lowest participation of 6% for ACT test in 2019."
   ]
  },
  {
   "cell_type": "markdown",
   "metadata": {},
   "source": [
    "## Visualize the Data\n",
    "\n",
    "There's not a magic bullet recommendation for the right number of plots to understand a given dataset, but visualizing your data is *always* a good idea. Not only does it allow you to quickly convey your findings (even if you have a non-technical audience), it will often reveal trends in your data that escaped you when you were looking only at numbers. It is important to not only create visualizations, but to **interpret your visualizations** as well.\n",
    "\n",
    "**Every plot should**:\n",
    "- Have a title\n",
    "- Have axis labels\n",
    "- Have appropriate tick labels\n",
    "- Text is legible in a plot\n",
    "- Plots demonstrate meaningful and valid relationships\n",
    "- Have an interpretation to aid understanding\n",
    "\n",
    "Here is an example of what your plots should look like following the above guidelines. Note that while the content of this example is unrelated, the principles of visualization hold:\n",
    "\n",
    "![](https://snag.gy/hCBR1U.jpg)\n",
    "*Interpretation: The above image shows that as we increase our spending on advertising, our sales numbers also tend to increase. There is a positive correlation between advertising spending and sales.*\n",
    "\n",
    "---\n",
    "\n",
    "Here are some prompts to get you started with visualizations. Feel free to add additional visualizations as you see fit:\n",
    "1. Use Seaborn's heatmap with pandas `.corr()` to visualize correlations between all numeric features.\n",
    "    - Heatmaps are generally not appropriate for presentations, and should often be excluded from reports as they can be visually overwhelming. **However**, they can be extremely useful in identify relationships of potential interest (as well as identifying potential collinearity before modeling).\n",
    "    - Please take time to format your output, adding a title. Look through some of the additional arguments and options. (Axis labels aren't really necessary, as long as the title is informative).\n",
    "2. Visualize distributions using histograms. If you have a lot, consider writing a custom function and use subplots.\n",
    "    - *OPTIONAL*: Summarize the underlying distributions of your features (in words & statistics)\n",
    "         - Be thorough in your verbal description of these distributions.\n",
    "         - Be sure to back up these summaries with statistics.\n",
    "         - We generally assume that data we sample from a population will be normally distributed. Do we observe this trend? Explain your answers for each distribution and how you think this will affect estimates made from these data.\n",
    "3. Plot and interpret boxplots. \n",
    "    - Boxplots demonstrate central tendency and spread in variables. In a certain sense, these are somewhat redundant with histograms, but you may be better able to identify clear outliers or differences in IQR, etc.\n",
    "    - Multiple values can be plotted to a single boxplot as long as they are of the same relative scale (meaning they have similar min/max values).\n",
    "    - Each boxplot should:\n",
    "        - Only include variables of a similar scale\n",
    "        - Have clear labels for each variable\n",
    "        - Have appropriate titles and labels\n",
    "4. Plot and interpret scatter plots to view relationships between features. Feel free to write a custom function, and subplot if you'd like. Functions save both time and space.\n",
    "    - Your plots should have:\n",
    "        - Two clearly labeled axes\n",
    "        - A proper title\n",
    "        - Colors and symbols that are clear and unmistakable\n",
    "5. Additional plots of your choosing.\n",
    "    - Are there any additional trends or relationships you haven't explored? Was there something interesting you saw that you'd like to dive further into? It's likely that there are a few more plots you might want to generate to support your narrative and recommendations that you are building toward. **As always, make sure you're interpreting your plots as you go**."
   ]
  },
  {
   "cell_type": "markdown",
   "metadata": {},
   "source": [
    "##### 1. Heatmaps"
   ]
  },
  {
   "cell_type": "code",
   "execution_count": 62,
   "metadata": {},
   "outputs": [
    {
     "data": {
      "text/plain": [
       "[Text(0, 0.5, 'participation rate'), Text(0, 1.5, 'total score')]"
      ]
     },
     "execution_count": 62,
     "metadata": {},
     "output_type": "execute_result"
    },
    {
     "data": {
      "image/png": "[encoded data removed]",
      "text/plain": [
       "<Figure size 432x288 with 2 Axes>"
      ]
     },
     "metadata": {
      "needs_background": "light"
     },
     "output_type": "display_data"
    }
   ],
   "source": [
    "#plot correlation matrix between the participation rates and total scores for SAT test\n",
    "columns1 = ['part_rate', 'total_mean']\n",
    "plt.title(\"Correlation Matrix of SAT Participation Rates &\\nTotal Scores (2017 - 2019)\", fontsize =18)\n",
    "sat_cor_test = sat_stack_all_region.loc[:,columns1].corr()\n",
    "xticklabels = ['participation rate', 'total score']\n",
    "yticklabels = ['participation rate', 'total score']\n",
    "sat_corr = sns.heatmap(sat_cor_test, annot=True, annot_kws={'size': 15}, vmin=-1.0, vmax=1, xticklabels=xticklabels, yticklabels=yticklabels)\n",
    "sat_corr.set_xticklabels(sat_corr.get_xticklabels(), rotation=0, fontsize = 12)\n",
    "sat_corr.set_yticklabels(sat_corr.get_yticklabels(), rotation=0, fontsize = 12)"
   ]
  },
  {
   "cell_type": "code",
   "execution_count": 63,
   "metadata": {},
   "outputs": [
    {
     "data": {
      "text/plain": [
       "[Text(0, 0.5, 'participation rate'), Text(0, 1.5, 'composite score')]"
      ]
     },
     "execution_count": 63,
     "metadata": {},
     "output_type": "execute_result"
    },
    {
     "data": {
      "image/png": "[encoded data removed]",
      "text/plain": [
       "<Figure size 432x288 with 2 Axes>"
      ]
     },
     "metadata": {
      "needs_background": "light"
     },
     "output_type": "display_data"
    }
   ],
   "source": [
    "#plot correlation matrix between the participation rates and composite scores for ACT test\n",
    "columns2 = ['part_rate', 'act_composite_mean']\n",
    "plt.title(\"Correlation Matrix of ACT Participation Rates &\\nComposite Scores (2017 - 2019)\", fontsize =18)\n",
    "act_cor_test = act_stack_all_region.loc[:,columns2].corr()\n",
    "xticklabels = ['participation rate', 'composite score']\n",
    "yticklabels = ['participation rate', 'composite score']\n",
    "act_corr = sns.heatmap(act_cor_test, annot=True, annot_kws={'size': 15}, vmin=-1.0, vmax=1, xticklabels=xticklabels, yticklabels=yticklabels)\n",
    "act_corr.set_xticklabels(act_corr.get_xticklabels(), rotation=0, fontsize = 12)\n",
    "act_corr.set_yticklabels(act_corr.get_yticklabels(), rotation=0, fontsize = 12)"
   ]
  },
  {
   "cell_type": "markdown",
   "metadata": {},
   "source": [
    "Both heatmaps for SAT and ACT showed negative correlations between particpation rates and the respective test scores."
   ]
  },
  {
   "cell_type": "markdown",
   "metadata": {},
   "source": [
    "##### 2. Histograms"
   ]
  },
  {
   "cell_type": "code",
   "execution_count": 64,
   "metadata": {
    "scrolled": true
   },
   "outputs": [
    {
     "data": {
      "text/plain": [
       "<matplotlib.legend.Legend at 0x2435a2af1c0>"
      ]
     },
     "execution_count": 64,
     "metadata": {},
     "output_type": "execute_result"
    },
    {
     "data": {
      "image/png": "[encoded data removed]",
      "text/plain": [
       "<Figure size 1080x360 with 2 Axes>"
      ]
     },
     "metadata": {
      "needs_background": "light"
     },
     "output_type": "display_data"
    }
   ],
   "source": [
    "#plot histogram matrix\n",
    "fig, axes = plt.subplots(1, 2, figsize=(15,5), sharey=False, layout=\"constrained\")\n",
    "\n",
    "#histogram for SAT (2017 - 2019)\n",
    "sat_histo = sns.histplot(data=sat_stack_all_region, x=\"part_rate\", bins=15, ax=axes[0])\n",
    "sat_histo.axes.set_title(\"Distribution of SAT Participation Rates (2017 - 2019)\", fontsize=14)\n",
    "sat_histo.set_xlabel(\"Participation Rate\", fontsize=13)\n",
    "sat_histo.set_ylabel(\"Count\", fontsize=13)\n",
    "\n",
    "#histrogram for ACT (2017 -2019)\n",
    "act_histo = sns.histplot(data=act_stack_all_region, x=\"part_rate\", bins=15, ax=axes[1])\n",
    "act_histo.axes.set_title(\"Distribution of ACT Participation Rates (2017 - 2019)\", fontsize=14)\n",
    "act_histo.set_xlabel(\"Participation Rate\", fontsize=13)\n",
    "act_histo.set_ylabel(\"Count\", fontsize=13)\n",
    "\n",
    "#mean value line for each ACT and SAT participation rate distributions\n",
    "act_histo.axvline(0.618824, color ='red')\n",
    "sat_histo.axvline(0.448693, color ='red')\n",
    "\n",
    "#add legend\n",
    "plt.legend(labels=[\"Mean\"], fontsize = \"13\")"
   ]
  },
  {
   "cell_type": "markdown",
   "metadata": {},
   "source": [
    "1. Distribution of the SAT participation rates over the three-year period (2017-2019) shows a Bimodal Distribution where there are two peaks - there are high number of observations with either very low participation rates (<10%) or almost 100% participation rates. There 50 observations with participation rates close to 0 (mode). With the mode located at the far left, the mean of the distribution (0.449) is skewed to the left.\n",
    "\n",
    "2. Distribution of the ACT participation rates over the three-year period (2017-2019) also shows a Bimodal Distribution (albeit to a lesser extent). The mode of the distribution is located at the far right where more than 50 observations recorded participation rates of more than 0.9. As the mode is located at the far right, the mean of the distribution (0.619) is skewed to the right."
   ]
  },
  {
   "cell_type": "markdown",
   "metadata": {},
   "source": [
    "##### 3. Boxplots"
   ]
  },
  {
   "cell_type": "code",
   "execution_count": 65,
   "metadata": {},
   "outputs": [
    {
     "data": {
      "text/plain": [
       "(-0.05, 1.05)"
      ]
     },
     "execution_count": 65,
     "metadata": {},
     "output_type": "execute_result"
    },
    {
     "data": {
      "image/png": "[encoded data removed]",
      "text/plain": [
       "<Figure size 1080x360 with 2 Axes>"
      ]
     },
     "metadata": {
      "needs_background": "light"
     },
     "output_type": "display_data"
    }
   ],
   "source": [
    "fig, axes = plt.subplots(1, 2, figsize=(15,5), sharey=False, layout=\"constrained\")\n",
    "fig.suptitle('Year-on-Year Comparison of Participation Rates Across Geographical Regions', fontsize=16)\n",
    "\n",
    "#boxplot for SAT participation rate comparison \n",
    "sat_part_rate_region_bp = sns.boxplot(ax=axes[0], data = sat_stack_all_region, y ='part_rate', x = 'geog_location', hue = 'year', \n",
    "                                     order=[\"West\", \"Midwest\", \"South\", \"Northeast\"], palette=\"PuBuGn\")\n",
    "sat_part_rate_region_bp.axes.set_title(\"SAT\", fontsize=14)\n",
    "sat_part_rate_region_bp.set_xlabel(\"Geographical Regions\", fontsize=13)\n",
    "sat_part_rate_region_bp.set_ylabel(\"Participation Rate\", fontsize=13)\n",
    "sat_part_rate_region_bp.set_ylim(-0.05, 1.05)\n",
    "\n",
    "#boxplot for ACT participation rate comparison\n",
    "act_part_rate_region_bp = sns.boxplot(ax=axes[1], data =act_stack_all_region, y ='part_rate', x = 'geog_location', hue = 'year', \n",
    "                                     order=[\"West\", \"Midwest\", \"South\", \"Northeast\"], palette=\"PuBuGn\")\n",
    "act_part_rate_region_bp.axes.set_title(\"ACT\", fontsize=14)\n",
    "act_part_rate_region_bp.set_xlabel(\"Geographical Regions\", fontsize=13)\n",
    "act_part_rate_region_bp.set_ylabel(\"Participation Rate\", fontsize=13)\n",
    "act_part_rate_region_bp.set_ylim(-0.05, 1.05)"
   ]
  },
  {
   "cell_type": "markdown",
   "metadata": {},
   "source": [
    "*SAT Boxplots*\n",
    "1. The Midwest region is observed to have significantly lower SAT participation rates as compared to the states in other regions across the three-year period. However, there are some states with almost 100% participation in the SAT (outliers).\n",
    "2. The boxplots for Midwest increased in size over the years - this indicates that there is some increase in the participating rates.\n",
    "3. The Northeast region clocked significantly higher participation rates consistently across the three-year period as compared to the other regions.\n",
    "4. Within the West and South regions respectively, there is a huge disparity in the SAT participation rates.\n",
    "5. For all regions except the Midwest, the median participation rates are observed to be increasing yearly across the three-year period.\n",
    "\n",
    "*ACT Boxplots*\n",
    "1. The Northeast region is observed to have significantly lower ACT participation rates as compared to other regions. The mean participation rates are also observed to be decreasing year-on-year. \n",
    "2. The participation rates for ACT in the other three regions are relatively high.\n",
    "3. Both the West and South regions recorded reduced median participation rates across the three-year period."
   ]
  },
  {
   "cell_type": "code",
   "execution_count": 66,
   "metadata": {},
   "outputs": [
    {
     "data": {
      "text/plain": [
       "Text(0, 0.5, 'SAT Participation Rate')"
      ]
     },
     "execution_count": 66,
     "metadata": {},
     "output_type": "execute_result"
    },
    {
     "data": {
      "image/png": "[encoded data removed]",
      "text/plain": [
       "<Figure size 1080x360 with 3 Axes>"
      ]
     },
     "metadata": {
      "needs_background": "light"
     },
     "output_type": "display_data"
    }
   ],
   "source": [
    "#to create matrix for plot multiplot\n",
    "fig, axes = plt.subplots(1, 3, figsize=(15,5), sharey=False, layout=\"constrained\")\n",
    "fig.suptitle('Correlations between ACT and SAT Participation Rates by Year', fontsize=16)\n",
    "\n",
    "#to create the dataframe for 2017\n",
    "act_part_rate_2017 = act_stack_all_region.loc[act_stack_all_region['year'] == 2017, \"part_rate\"]\n",
    "sat_part_rate_2017 = sat_stack_all_region.loc[sat_stack_all_region['year'] == 2017, \"part_rate\"]\n",
    "#correlation scatterplot between ACT and SAT participation rate for 2017\n",
    "scatter_17 = sns.regplot(x=act_part_rate_2017, y=sat_part_rate_2017, ax=axes[0])\n",
    "scatter_17.axes.set_title(\"2017\", fontsize=14)\n",
    "scatter_17.set_xlabel(\"ACT Participation Rate\", fontsize=13)\n",
    "scatter_17.set_ylabel(\"SAT Participation Rate\", fontsize=13)\n",
    "\n",
    "#to create the dataframe for 2018\n",
    "act_part_rate_2018 = act_stack_all_region.loc[act_stack_all_region['year'] == 2018, \"part_rate\"]\n",
    "sat_part_rate_2018 = sat_stack_all_region.loc[sat_stack_all_region['year'] == 2018, \"part_rate\"]\n",
    "#correlation scatterplot between ACT and SAT participation rate for 2018\n",
    "scatter_18 = sns.regplot(x=act_part_rate_2018, y=sat_part_rate_2018, ax=axes[1])\n",
    "scatter_18.axes.set_title(\"2018\", fontsize=14)\n",
    "scatter_18.set_xlabel(\"ACT Participation Rate\", fontsize=13)\n",
    "scatter_18.set_ylabel(\"SAT Participation Rate\", fontsize=13)\n",
    "\n",
    "#to create the dataframe for 2019\n",
    "act_part_rate_2019 = act_stack_all_region.loc[act_stack_all_region['year'] == 2019, \"part_rate\"]\n",
    "sat_part_rate_2019 = sat_stack_all_region.loc[sat_stack_all_region['year'] == 2019, \"part_rate\"]\n",
    "#correlation scatterplot between ACT and SAT participation rate for 2019\n",
    "scatter_19 = sns.regplot(x=act_part_rate_2019, y=sat_part_rate_2019, ax=axes[2])\n",
    "scatter_19.axes.set_title(\"2019\", fontsize=14)\n",
    "scatter_19.set_xlabel(\"ACT Participation Rate\", fontsize=13)\n",
    "scatter_19.set_ylabel(\"SAT Participation Rate\", fontsize=13)"
   ]
  },
  {
   "cell_type": "code",
   "execution_count": 67,
   "metadata": {},
   "outputs": [
    {
     "name": "stdout",
     "output_type": "stream",
     "text": [
      "Correlation Coefficient for 2017: -0.841\n",
      "Correlation Coefficient for 2018: -0.868\n",
      "Correlation Coefficient for 2019: -0.865\n"
     ]
    }
   ],
   "source": [
    "#to calculate the correlation coefficient for the 3 scatterplots above respectively\n",
    "print(f\"Correlation Coefficient for 2017: {round(act_part_rate_2017.corr(sat_part_rate_2017),3)}\")\n",
    "print(f\"Correlation Coefficient for 2018: {round(act_part_rate_2018.corr(sat_part_rate_2018),3)}\")\n",
    "print(f\"Correlation Coefficient for 2019: {round(act_part_rate_2019.corr(sat_part_rate_2019),3)}\")"
   ]
  },
  {
   "cell_type": "markdown",
   "metadata": {
    "scrolled": true
   },
   "source": [
    "1. There is strong negative correlation between the ACT and SAT participation rates each year from 2017 - 2019 (Pearson's Correlation Coefficients are at least -0.8). This means that an increase in the ACT participation rate could result in the decrease in the SAT participation rate within the same state."
   ]
  },
  {
   "cell_type": "code",
   "execution_count": 68,
   "metadata": {
    "scrolled": true
   },
   "outputs": [
    {
     "data": {
      "text/plain": [
       "[None, None]"
      ]
     },
     "execution_count": 68,
     "metadata": {},
     "output_type": "execute_result"
    },
    {
     "data": {
      "image/png": "[encoded data removed]",
      "text/plain": [
       "<Figure size 1440x864 with 2 Axes>"
      ]
     },
     "metadata": {
      "needs_background": "light"
     },
     "output_type": "display_data"
    }
   ],
   "source": [
    "#set the size of the barplot\n",
    "fig, axes = plt.subplots(2, 1, figsize=(20, 12), sharex=False, layout=\"constrained\")\n",
    "fig.suptitle('Year-on-Year Comparison of Participation Rates Across States in the Midwest', fontsize=21)\n",
    "plt.rc('xtick', labelsize=20)\n",
    "plt.rc('ytick', labelsize=16)\n",
    "\n",
    "#filter out midwest rows only in sat_stack_all_region\n",
    "sat_midwest = sat_stack_all_region[sat_stack_all_region['geog_location'] == \"Midwest\"]\n",
    "\n",
    "#barplot of participation rates comparison of states in midwest\n",
    "sat_midwest_bp = sns.barplot(data=sat_midwest, x= \"state\", y=\"part_rate\", hue=\"year\", ax=axes[0], palette=\"PuBuGn\")\n",
    "sat_midwest_bp.axes.set_title(\"SAT \", fontsize=20)\n",
    "sat_midwest_bp.set_xlabel(\"Midwest States\", fontsize=18)\n",
    "sat_midwest_bp.set_ylabel(\"Participation Rate\", fontsize=18)\n",
    "plt.setp(sat_midwest_bp.get_legend().get_texts(), fontsize='14') \n",
    "plt.setp(sat_midwest_bp.get_legend().get_title(), fontsize='16') \n",
    "\n",
    "#filter out midwest rows only in sat_stack_all_region\n",
    "act_midwest = act_stack_all_region[act_stack_all_region['geog_location'] == \"Midwest\"]\n",
    "\n",
    "#barplot of participation rates comparison of states in midwest\n",
    "act_midwest_bp = sns.barplot(data=act_midwest, x= \"state\", y=\"part_rate\", hue=\"year\", ax=axes[1], palette=\"PuBuGn\")\n",
    "act_midwest_bp.axes.set_title(\"ACT \", fontsize=20)\n",
    "act_midwest_bp.set_xlabel(\"Midwest States\", fontsize=18)\n",
    "act_midwest_bp.set_ylabel(\"Participation Rate\", fontsize=18)\n",
    "plt.setp(act_midwest_bp.get_legend().get_texts(), fontsize='14') \n",
    "plt.setp(act_midwest_bp.get_legend().get_title(), fontsize='16') "
   ]
  },
  {
   "cell_type": "markdown",
   "metadata": {},
   "source": [
    "1. Based on the barchart for SAT participation rate in the Midwest, 9 states recorded low participation rate of 0.2 or less. 8 of the states recorded less than 20% participation. They are Iowa, Kansas, Minnesota, Missouri, Nebraska, North Dakota, South Dakota, Ohio, and Wisconsin (it is a state requirment for graduating students in Wisconsin to complete the ACT test).\n",
    "2. It is the state requirement for graduating students from Illinois and Michigan to take SAT, hence the participation rates for SAT are at 100%.\n",
    "3. The corresponding ACT participation rates for the Midwest states were compared. It is observed that the ACT participation rates were high (60% to 100%) for the 8 states with low SAT participation rates. This means that students who had taken one test would not take the other test as they would have fulfilled the high school graduation/ college admission requirements.\n",
    "3. Based on the 2019 data, there are up to 30% of the graduating students who did neither of the test within the states of Iowa, Kansas, Missouri, and South Dakota."
   ]
  },
  {
   "cell_type": "markdown",
   "metadata": {},
   "source": [
    "## Conclusions and Recommendations"
   ]
  },
  {
   "cell_type": "markdown",
   "metadata": {},
   "source": [
    "Based on your exploration of the data, what are you key takeaways and recommendations? Make sure to answer your question of interest or address your problem statement here."
   ]
  },
  {
   "cell_type": "markdown",
   "metadata": {},
   "source": [
    "**Key Takeaways:**\n",
    "\n",
    "1. During the three-year period following the implementation of the new format, there is marginal increase in the mean SAT participation rate from 40% in 2017, to 49% in 2019. For the same period, the was greater increase in the mean ACT participation (from 32% in 2017 to 59% in 2019). \n",
    "2. There is strong negative correlation between the SAT and ACT participation rates. In other words, students who had taken one test would likely not take the other test as they would have fulfilled the high school graduation/ college admission requirements.\n",
    "3. The states in the Midwest region recorded significantly lower SAT participation rate (averaging at less than 20%) as compared to the states in other three regions. The states identified are Iowa, Kansas, Minnesota, Missouri, Nebraska, North Dakota, South Dakota, Ohio, and Wisconsin (state's high school graduation requirement to take the ACT test). With the current low participation rates, these states have the highest potential for increasing participation rates.\n",
    "\n",
    "\n",
    "**Recommendations for SAT College Board**\n",
    "1. Work with the education boards of the respective states identified to promote the use of SAT as a standardise test, or make it mandatory for graduation so that students will choose to do SAT over ACT.\n",
    "2. Conduct promotional talks at the high schools in the Midwest to increase brand exposure. More importantly, the talks should seek to inform students of the new format and how it would benefit them, as well as the comparison with the ACT test.\n",
    "3. Extend the free preparation resources to paying test takers as well so that they could prepare well for the test. Given the choice, students would likely choose SAT if they were well-supported with resources and know that they can score well in it."
   ]
  },
  {
   "cell_type": "markdown",
   "metadata": {},
   "source": [
    "Don't forget to create your README!\n",
    "\n",
    "**To-Do:** *If you combine your problem statement, data dictionary, brief summary of your analysis, and conclusions/recommendations, you have an amazing README.md file that quickly aligns your audience to the contents of your project.* Don't forget to cite your data sources!"
   ]
  }
 ],
 "metadata": {
  "anaconda-cloud": {},
  "kernelspec": {
   "display_name": "Python 3 (ipykernel)",
   "language": "python",
   "name": "python3"
  },
  "language_info": {
   "codemirror_mode": {
    "name": "ipython",
    "version": 3
   },
   "file_extension": ".py",
   "mimetype": "text/x-python",
   "name": "python",
   "nbconvert_exporter": "python",
   "pygments_lexer": "ipython3",
   "version": "3.9.12"
  }
 },
 "nbformat": 4,
 "nbformat_minor": 4
}
